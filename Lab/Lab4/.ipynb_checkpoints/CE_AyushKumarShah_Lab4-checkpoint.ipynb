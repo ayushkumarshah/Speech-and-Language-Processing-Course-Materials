{
 "cells": [
  {
   "cell_type": "markdown",
   "metadata": {},
   "source": [
    "# 4   Writing Structured Programs"
   ]
  },
  {
   "cell_type": "markdown",
   "metadata": {},
   "source": [
    "## 4.1   Back to the Basics"
   ]
  },
  {
   "cell_type": "markdown",
   "metadata": {},
   "source": [
    "### Assignment"
   ]
  },
  {
   "cell_type": "code",
   "execution_count": 2,
   "metadata": {},
   "outputs": [],
   "source": [
    "import nltk"
   ]
  },
  {
   "cell_type": "code",
   "execution_count": 3,
   "metadata": {},
   "outputs": [
    {
     "data": {
      "text/plain": [
       "'Monty'"
      ]
     },
     "execution_count": 3,
     "metadata": {},
     "output_type": "execute_result"
    }
   ],
   "source": [
    ">>> foo = 'Monty'\n",
    ">>> bar = foo \n",
    ">>> foo = 'Python'\n",
    ">>> bar"
   ]
  },
  {
   "cell_type": "code",
   "execution_count": 4,
   "metadata": {},
   "outputs": [
    {
     "data": {
      "text/plain": [
       "['Monty', 'Bodkin']"
      ]
     },
     "execution_count": 4,
     "metadata": {},
     "output_type": "execute_result"
    }
   ],
   "source": [
    ">>> foo = ['Monty', 'Python']\n",
    ">>> bar = foo \n",
    ">>> foo[1] = 'Bodkin' \n",
    ">>> bar"
   ]
  },
  {
   "cell_type": "code",
   "execution_count": 5,
   "metadata": {},
   "outputs": [
    {
     "data": {
      "text/plain": [
       "[[], [], []]"
      ]
     },
     "execution_count": 5,
     "metadata": {},
     "output_type": "execute_result"
    }
   ],
   "source": [
    ">>> empty = []\n",
    ">>> nested = [empty, empty, empty]\n",
    ">>> nested"
   ]
  },
  {
   "cell_type": "code",
   "execution_count": 6,
   "metadata": {},
   "outputs": [
    {
     "data": {
      "text/plain": [
       "[['Python'], ['Python'], ['Python']]"
      ]
     },
     "execution_count": 6,
     "metadata": {},
     "output_type": "execute_result"
    }
   ],
   "source": [
    ">>> nested[1].append('Python')\n",
    ">>> nested"
   ]
  },
  {
   "cell_type": "code",
   "execution_count": 7,
   "metadata": {},
   "outputs": [
    {
     "data": {
      "text/plain": [
       "[['Python'], ['Monty'], ['Python']]"
      ]
     },
     "execution_count": 7,
     "metadata": {},
     "output_type": "execute_result"
    }
   ],
   "source": [
    ">>> nested = [[]] * 3\n",
    ">>> nested[1].append('Python')\n",
    ">>> nested[1] = ['Monty']\n",
    ">>> nested"
   ]
  },
  {
   "cell_type": "markdown",
   "metadata": {},
   "source": [
    "### Equality"
   ]
  },
  {
   "cell_type": "code",
   "execution_count": 8,
   "metadata": {},
   "outputs": [
    {
     "data": {
      "text/plain": [
       "True"
      ]
     },
     "execution_count": 8,
     "metadata": {},
     "output_type": "execute_result"
    }
   ],
   "source": [
    ">>> size = 5\n",
    ">>> python = ['Python']\n",
    ">>> snake_nest = [python] * size\n",
    ">>> snake_nest[0] == snake_nest[1] == snake_nest[2] == snake_nest[3] == snake_nest[4]"
   ]
  },
  {
   "cell_type": "code",
   "execution_count": 9,
   "metadata": {},
   "outputs": [
    {
     "data": {
      "text/plain": [
       "True"
      ]
     },
     "execution_count": 9,
     "metadata": {},
     "output_type": "execute_result"
    }
   ],
   "source": [
    ">>> snake_nest[0] is snake_nest[1] is snake_nest[2] is snake_nest[3] is snake_nest[4]"
   ]
  },
  {
   "cell_type": "code",
   "execution_count": 10,
   "metadata": {},
   "outputs": [
    {
     "data": {
      "text/plain": [
       "[['Python'], ['Python'], ['Python'], ['Python'], ['Python']]"
      ]
     },
     "execution_count": 10,
     "metadata": {},
     "output_type": "execute_result"
    }
   ],
   "source": [
    ">>> import random\n",
    ">>> position = random.choice(range(size))\n",
    ">>> snake_nest[position] = ['Python']\n",
    ">>> snake_nest"
   ]
  },
  {
   "cell_type": "code",
   "execution_count": 11,
   "metadata": {},
   "outputs": [
    {
     "data": {
      "text/plain": [
       "True"
      ]
     },
     "execution_count": 11,
     "metadata": {},
     "output_type": "execute_result"
    }
   ],
   "source": [
    ">>> snake_nest[0] == snake_nest[1] == snake_nest[2] == snake_nest[3] == snake_nest[4]"
   ]
  },
  {
   "cell_type": "code",
   "execution_count": 12,
   "metadata": {},
   "outputs": [
    {
     "data": {
      "text/plain": [
       "False"
      ]
     },
     "execution_count": 12,
     "metadata": {},
     "output_type": "execute_result"
    }
   ],
   "source": [
    ">>> snake_nest[0] is snake_nest[1] is snake_nest[2] is snake_nest[3] is snake_nest[4]"
   ]
  },
  {
   "cell_type": "code",
   "execution_count": 13,
   "metadata": {},
   "outputs": [
    {
     "data": {
      "text/plain": [
       "[2602743834440, 2602743834440, 2601116671880, 2602743834440, 2602743834440]"
      ]
     },
     "execution_count": 13,
     "metadata": {},
     "output_type": "execute_result"
    }
   ],
   "source": [
    ">>> [id(snake) for snake in snake_nest]"
   ]
  },
  {
   "cell_type": "markdown",
   "metadata": {},
   "source": [
    "### Conditionals"
   ]
  },
  {
   "cell_type": "code",
   "execution_count": 14,
   "metadata": {},
   "outputs": [
    {
     "name": "stdout",
     "output_type": "stream",
     "text": [
      "cat\n",
      "['dog']\n"
     ]
    }
   ],
   "source": [
    ">>> mixed = ['cat', '', ['dog'], []]\n",
    ">>> for element in mixed:\n",
    "...     if element:\n",
    "...         print(element)"
   ]
  },
  {
   "cell_type": "code",
   "execution_count": 15,
   "metadata": {},
   "outputs": [
    {
     "name": "stdout",
     "output_type": "stream",
     "text": [
      "1\n"
     ]
    }
   ],
   "source": [
    ">>> animals = ['cat', 'dog']\n",
    ">>> if 'cat' in animals:\n",
    "...     print(1)\n",
    "... elif 'dog' in animals:\n",
    "...     print(2)"
   ]
  },
  {
   "cell_type": "code",
   "execution_count": 16,
   "metadata": {},
   "outputs": [
    {
     "data": {
      "text/plain": [
       "False"
      ]
     },
     "execution_count": 16,
     "metadata": {},
     "output_type": "execute_result"
    }
   ],
   "source": [
    ">>> sent = ['No', 'good', 'fish', 'goes', 'anywhere', 'without', 'a', 'porpoise', '.']\n",
    ">>> all(len(w) > 4 for w in sent)"
   ]
  },
  {
   "cell_type": "code",
   "execution_count": 17,
   "metadata": {},
   "outputs": [
    {
     "data": {
      "text/plain": [
       "True"
      ]
     },
     "execution_count": 17,
     "metadata": {},
     "output_type": "execute_result"
    }
   ],
   "source": [
    ">>> any(len(w) > 4 for w in sent)"
   ]
  },
  {
   "cell_type": "markdown",
   "metadata": {},
   "source": [
    "## 4.2   Sequences"
   ]
  },
  {
   "cell_type": "code",
   "execution_count": 18,
   "metadata": {},
   "outputs": [
    {
     "data": {
      "text/plain": [
       "('walk', 'fem', 3)"
      ]
     },
     "execution_count": 18,
     "metadata": {},
     "output_type": "execute_result"
    }
   ],
   "source": [
    ">>> t = 'walk', 'fem', 3 \n",
    ">>> t"
   ]
  },
  {
   "cell_type": "code",
   "execution_count": 19,
   "metadata": {},
   "outputs": [
    {
     "data": {
      "text/plain": [
       "'walk'"
      ]
     },
     "execution_count": 19,
     "metadata": {},
     "output_type": "execute_result"
    }
   ],
   "source": [
    ">>> t[0]"
   ]
  },
  {
   "cell_type": "code",
   "execution_count": 20,
   "metadata": {},
   "outputs": [
    {
     "data": {
      "text/plain": [
       "('fem', 3)"
      ]
     },
     "execution_count": 20,
     "metadata": {},
     "output_type": "execute_result"
    }
   ],
   "source": [
    ">>> t[1:]"
   ]
  },
  {
   "cell_type": "code",
   "execution_count": 21,
   "metadata": {},
   "outputs": [
    {
     "data": {
      "text/plain": [
       "3"
      ]
     },
     "execution_count": 21,
     "metadata": {},
     "output_type": "execute_result"
    }
   ],
   "source": [
    ">>> len(t) "
   ]
  },
  {
   "cell_type": "code",
   "execution_count": 22,
   "metadata": {},
   "outputs": [
    {
     "data": {
      "text/plain": [
       "('t', 'the', 'turned')"
      ]
     },
     "execution_count": 22,
     "metadata": {},
     "output_type": "execute_result"
    }
   ],
   "source": [
    ">>> raw = 'I turned off the spectroroute'\n",
    ">>> text = ['I', 'turned', 'off', 'the', 'spectroroute']\n",
    ">>> pair = (6, 'turned')\n",
    ">>> raw[2], text[3], pair[1]"
   ]
  },
  {
   "cell_type": "code",
   "execution_count": 23,
   "metadata": {},
   "outputs": [
    {
     "data": {
      "text/plain": [
       "('ute', ['off', 'the', 'spectroroute'], (6, 'turned'))"
      ]
     },
     "execution_count": 23,
     "metadata": {},
     "output_type": "execute_result"
    }
   ],
   "source": [
    ">>> raw[-3:], text[-3:], pair[-3:]"
   ]
  },
  {
   "cell_type": "code",
   "execution_count": 24,
   "metadata": {},
   "outputs": [
    {
     "data": {
      "text/plain": [
       "(29, 5, 2)"
      ]
     },
     "execution_count": 24,
     "metadata": {},
     "output_type": "execute_result"
    }
   ],
   "source": [
    ">>> len(raw), len(text), len(pair)"
   ]
  },
  {
   "cell_type": "markdown",
   "metadata": {},
   "source": [
    "### Operating on Sequence Types"
   ]
  },
  {
   "cell_type": "code",
   "execution_count": 25,
   "metadata": {},
   "outputs": [
    {
     "data": {
      "text/plain": [
       "[',', '.', 'Red', 'lorry', 'red', 'yellow']"
      ]
     },
     "execution_count": 25,
     "metadata": {},
     "output_type": "execute_result"
    }
   ],
   "source": [
    ">>> raw = 'Red lorry, yellow lorry, red lorry, yellow lorry.'\n",
    ">>> text = nltk.word_tokenize(raw)\n",
    ">>> fdist = nltk.FreqDist(text)\n",
    ">>> sorted(fdist)"
   ]
  },
  {
   "cell_type": "code",
   "execution_count": 26,
   "metadata": {},
   "outputs": [
    {
     "name": "stdout",
     "output_type": "stream",
     "text": [
      "Red: 1; lorry: 4; ,: 3; yellow: 2; red: 1; .: 1; "
     ]
    }
   ],
   "source": [
    ">>> for key in fdist:\n",
    "...     print(key + ':', fdist[key], end='; ')"
   ]
  },
  {
   "cell_type": "code",
   "execution_count": 27,
   "metadata": {},
   "outputs": [
    {
     "data": {
      "text/plain": [
       "['I', 'turned', 'the', 'spectroroute', 'off']"
      ]
     },
     "execution_count": 27,
     "metadata": {},
     "output_type": "execute_result"
    }
   ],
   "source": [
    ">>> words = ['I', 'turned', 'off', 'the', 'spectroroute']\n",
    ">>> words[2], words[3], words[4] = words[3], words[4], words[2]\n",
    ">>> words"
   ]
  },
  {
   "cell_type": "code",
   "execution_count": 28,
   "metadata": {},
   "outputs": [],
   "source": [
    ">>> tmp = words[2]\n",
    ">>> words[2] = words[3]\n",
    ">>> words[3] = words[4]\n",
    ">>> words[4] = tmp"
   ]
  },
  {
   "cell_type": "code",
   "execution_count": 29,
   "metadata": {},
   "outputs": [
    {
     "data": {
      "text/plain": [
       "<zip at 0x25d9eb98b88>"
      ]
     },
     "execution_count": 29,
     "metadata": {},
     "output_type": "execute_result"
    }
   ],
   "source": [
    ">>> words = ['I', 'turned', 'off', 'the', 'spectroroute']\n",
    ">>> tags = ['noun', 'verb', 'prep', 'det', 'noun']\n",
    ">>> zip(words, tags)"
   ]
  },
  {
   "cell_type": "code",
   "execution_count": 30,
   "metadata": {},
   "outputs": [
    {
     "data": {
      "text/plain": [
       "[('I', 'noun'),\n",
       " ('turned', 'verb'),\n",
       " ('off', 'prep'),\n",
       " ('the', 'det'),\n",
       " ('spectroroute', 'noun')]"
      ]
     },
     "execution_count": 30,
     "metadata": {},
     "output_type": "execute_result"
    }
   ],
   "source": [
    ">>> list(zip(words, tags))"
   ]
  },
  {
   "cell_type": "code",
   "execution_count": 31,
   "metadata": {},
   "outputs": [
    {
     "data": {
      "text/plain": [
       "[(0, 'I'), (1, 'turned'), (2, 'off'), (3, 'the'), (4, 'spectroroute')]"
      ]
     },
     "execution_count": 31,
     "metadata": {},
     "output_type": "execute_result"
    }
   ],
   "source": [
    ">>> list(enumerate(words))"
   ]
  },
  {
   "cell_type": "code",
   "execution_count": 32,
   "metadata": {},
   "outputs": [
    {
     "data": {
      "text/plain": [
       "True"
      ]
     },
     "execution_count": 32,
     "metadata": {},
     "output_type": "execute_result"
    }
   ],
   "source": [
    "\n",
    ">>> text = nltk.corpus.nps_chat.words()\n",
    ">>> cut = int(0.9 * len(text)) \n",
    ">>> training_data, test_data = text[:cut], text[cut:] \n",
    ">>> text == training_data + test_data "
   ]
  },
  {
   "cell_type": "code",
   "execution_count": 33,
   "metadata": {},
   "outputs": [
    {
     "data": {
      "text/plain": [
       "9.0"
      ]
     },
     "execution_count": 33,
     "metadata": {},
     "output_type": "execute_result"
    }
   ],
   "source": [
    ">>> len(training_data) / len(test_data) "
   ]
  },
  {
   "cell_type": "markdown",
   "metadata": {},
   "source": [
    "### Combining Different Sequence Types"
   ]
  },
  {
   "cell_type": "code",
   "execution_count": 34,
   "metadata": {},
   "outputs": [
    {
     "data": {
      "text/plain": [
       "'I off the turned spectroroute'"
      ]
     },
     "execution_count": 34,
     "metadata": {},
     "output_type": "execute_result"
    }
   ],
   "source": [
    ">>> words = 'I turned off the spectroroute'.split() \n",
    ">>> wordlens = [(len(word), word) for word in words] \n",
    ">>> wordlens.sort() \n",
    ">>> ' '.join(w for (_, w) in wordlens) "
   ]
  },
  {
   "cell_type": "code",
   "execution_count": 35,
   "metadata": {},
   "outputs": [],
   "source": [
    ">>> lexicon = [\n",
    "...     ('the', 'det', ['Di:', 'D@']),\n",
    "...     ('off', 'prep', ['Qf', 'O:f'])\n",
    "... ]"
   ]
  },
  {
   "cell_type": "code",
   "execution_count": 36,
   "metadata": {},
   "outputs": [],
   "source": [
    ">>> lexicon.sort()\n",
    ">>> lexicon[1] = ('turned', 'VBD', ['t3:nd', 't3`nd'])\n",
    ">>> del lexicon[0]"
   ]
  },
  {
   "cell_type": "markdown",
   "metadata": {},
   "source": [
    "### Generator Expressions"
   ]
  },
  {
   "cell_type": "code",
   "execution_count": 37,
   "metadata": {},
   "outputs": [
    {
     "data": {
      "text/plain": [
       "['``',\n",
       " 'when',\n",
       " 'i',\n",
       " 'use',\n",
       " 'a',\n",
       " 'word',\n",
       " ',',\n",
       " \"''\",\n",
       " 'humpty',\n",
       " 'dumpty',\n",
       " 'said',\n",
       " 'in',\n",
       " 'rather',\n",
       " 'a',\n",
       " 'scornful',\n",
       " 'tone',\n",
       " ',',\n",
       " \"''\",\n",
       " 'it',\n",
       " 'means',\n",
       " 'just',\n",
       " 'what',\n",
       " 'i',\n",
       " 'choose',\n",
       " 'it',\n",
       " 'to',\n",
       " 'mean',\n",
       " '-',\n",
       " 'neither',\n",
       " 'more',\n",
       " 'nor',\n",
       " 'less',\n",
       " '.',\n",
       " \"''\"]"
      ]
     },
     "execution_count": 37,
     "metadata": {},
     "output_type": "execute_result"
    }
   ],
   "source": [
    ">>> text = '''\"When I use a word,\" Humpty Dumpty said in rather a scornful tone,\n",
    "... \"it means just what I choose it to mean - neither more nor less.\"'''\n",
    ">>> [w.lower() for w in nltk.word_tokenize(text)]"
   ]
  },
  {
   "cell_type": "code",
   "execution_count": 38,
   "metadata": {},
   "outputs": [
    {
     "data": {
      "text/plain": [
       "'word'"
      ]
     },
     "execution_count": 38,
     "metadata": {},
     "output_type": "execute_result"
    }
   ],
   "source": [
    ">>> max([w.lower() for w in nltk.word_tokenize(text)]) "
   ]
  },
  {
   "cell_type": "code",
   "execution_count": 39,
   "metadata": {},
   "outputs": [
    {
     "data": {
      "text/plain": [
       "'word'"
      ]
     },
     "execution_count": 39,
     "metadata": {},
     "output_type": "execute_result"
    }
   ],
   "source": [
    ">>> max(w.lower() for w in nltk.word_tokenize(text))"
   ]
  },
  {
   "cell_type": "markdown",
   "metadata": {},
   "source": [
    "## 4.3   Questions of Style"
   ]
  },
  {
   "cell_type": "markdown",
   "metadata": {},
   "source": [
    "### Python Coding Style"
   ]
  },
  {
   "cell_type": "code",
   "execution_count": 40,
   "metadata": {},
   "outputs": [
    {
     "ename": "NameError",
     "evalue": "name 'syllables' is not defined",
     "output_type": "error",
     "traceback": [
      "\u001b[1;31m---------------------------------------------------------------------------\u001b[0m",
      "\u001b[1;31mNameError\u001b[0m                                 Traceback (most recent call last)",
      "\u001b[1;32m<ipython-input-40-d5d62254ee5b>\u001b[0m in \u001b[0;36m<module>\u001b[1;34m\u001b[0m\n\u001b[1;32m----> 1\u001b[1;33m if (len(syllables) > 4 and len(syllables[2]) == 3 and\n\u001b[0m\u001b[0;32m      2\u001b[0m    syllables[2][2] in [aeiou] and syllables[2][3] == syllables[1][3]):\n\u001b[0;32m      3\u001b[0m     \u001b[0mprocess\u001b[0m\u001b[1;33m(\u001b[0m\u001b[0msyllables\u001b[0m\u001b[1;33m)\u001b[0m\u001b[1;33m\u001b[0m\u001b[0m\n\u001b[0;32m      4\u001b[0m \u001b[1;32mif\u001b[0m \u001b[0mlen\u001b[0m\u001b[1;33m(\u001b[0m\u001b[0msyllables\u001b[0m\u001b[1;33m)\u001b[0m \u001b[1;33m>\u001b[0m \u001b[1;36m4\u001b[0m \u001b[1;32mand\u001b[0m \u001b[0mlen\u001b[0m\u001b[1;33m(\u001b[0m\u001b[0msyllables\u001b[0m\u001b[1;33m[\u001b[0m\u001b[1;36m2\u001b[0m\u001b[1;33m]\u001b[0m\u001b[1;33m)\u001b[0m \u001b[1;33m==\u001b[0m \u001b[1;36m3\u001b[0m \u001b[1;32mand\u001b[0m\u001b[0;31m \u001b[0m\u001b[0;31m\\\u001b[0m\u001b[1;33m\u001b[0m\u001b[0m\n\u001b[0;32m      5\u001b[0m    \u001b[0msyllables\u001b[0m\u001b[1;33m[\u001b[0m\u001b[1;36m2\u001b[0m\u001b[1;33m]\u001b[0m\u001b[1;33m[\u001b[0m\u001b[1;36m2\u001b[0m\u001b[1;33m]\u001b[0m \u001b[1;32min\u001b[0m \u001b[1;33m[\u001b[0m\u001b[0maeiou\u001b[0m\u001b[1;33m]\u001b[0m \u001b[1;32mand\u001b[0m \u001b[0msyllables\u001b[0m\u001b[1;33m[\u001b[0m\u001b[1;36m2\u001b[0m\u001b[1;33m]\u001b[0m\u001b[1;33m[\u001b[0m\u001b[1;36m3\u001b[0m\u001b[1;33m]\u001b[0m \u001b[1;33m==\u001b[0m \u001b[0msyllables\u001b[0m\u001b[1;33m[\u001b[0m\u001b[1;36m1\u001b[0m\u001b[1;33m]\u001b[0m\u001b[1;33m[\u001b[0m\u001b[1;36m3\u001b[0m\u001b[1;33m]\u001b[0m\u001b[1;33m:\u001b[0m\u001b[1;33m\u001b[0m\u001b[0m\n",
      "\u001b[1;31mNameError\u001b[0m: name 'syllables' is not defined"
     ]
    }
   ],
   "source": [
    ">>> if (len(syllables) > 4 and len(syllables[2]) == 3 and\n",
    "...    syllables[2][2] in [aeiou] and syllables[2][3] == syllables[1][3]):\n",
    "...     process(syllables)\n",
    ">>> if len(syllables) > 4 and len(syllables[2]) == 3 and \\\n",
    "...    syllables[2][2] in [aeiou] and syllables[2][3] == syllables[1][3]:\n",
    "...     process(syllables)"
   ]
  },
  {
   "cell_type": "markdown",
   "metadata": {},
   "source": [
    "### Procedural vs Declarative Style"
   ]
  },
  {
   "cell_type": "code",
   "execution_count": 41,
   "metadata": {},
   "outputs": [
    {
     "data": {
      "text/plain": [
       "4.401545438271973"
      ]
     },
     "execution_count": 41,
     "metadata": {},
     "output_type": "execute_result"
    }
   ],
   "source": [
    ">>> tokens = nltk.corpus.brown.words(categories='news')\n",
    ">>> count = 0\n",
    ">>> total = 0\n",
    ">>> for token in tokens:\n",
    "...     count += 1\n",
    "...     total += len(token)\n",
    ">>> total / count"
   ]
  },
  {
   "cell_type": "code",
   "execution_count": 42,
   "metadata": {},
   "outputs": [
    {
     "name": "stdout",
     "output_type": "stream",
     "text": [
      "4.401545438271973\n"
     ]
    },
    {
     "data": {
      "text/plain": [
       "100554"
      ]
     },
     "execution_count": 42,
     "metadata": {},
     "output_type": "execute_result"
    }
   ],
   "source": [
    ">>> total = sum(len(t) for t in tokens)\n",
    ">>> print(total / len(tokens))\n",
    "len(tokens)"
   ]
  },
  {
   "cell_type": "code",
   "execution_count": null,
   "metadata": {},
   "outputs": [],
   "source": [
    ">>> word_list = []\n",
    ">>> i = 0\n",
    ">>> while i < len(tokens):\n",
    "...     j = 0\n",
    "...     while j < len(word_list) and word_list[j] <= tokens[i]:\n",
    "...         j += 1\n",
    "...     if j == 0 or tokens[i] != word_list[j-1]:\n",
    "...         word_list.insert(j, tokens[i])\n",
    "...     i += 1"
   ]
  },
  {
   "cell_type": "code",
   "execution_count": 45,
   "metadata": {},
   "outputs": [],
   "source": [
    ">>> word_list = sorted(set(tokens))"
   ]
  },
  {
   "cell_type": "code",
   "execution_count": 46,
   "metadata": {},
   "outputs": [
    {
     "name": "stdout",
     "output_type": "stream",
     "text": [
      "  1   5.40% the\n",
      "  2  10.42% ,\n",
      "  3  14.67% .\n",
      "  4  17.78% of\n",
      "  5  20.19% and\n",
      "  6  22.40% to\n",
      "  7  24.29% a\n",
      "  8  25.97% in\n"
     ]
    }
   ],
   "source": [
    ">>> fd = nltk.FreqDist(nltk.corpus.brown.words())\n",
    ">>> cumulative = 0.0\n",
    ">>> most_common_words = [word for (word, count) in fd.most_common()]\n",
    ">>> for rank, word in enumerate(most_common_words):\n",
    "...     cumulative += fd.freq(word)\n",
    "...     print(\"%3d %6.2f%% %s\" % (rank + 1, cumulative * 100, word))\n",
    "...     if cumulative > 0.25:\n",
    "...         break"
   ]
  },
  {
   "cell_type": "code",
   "execution_count": 47,
   "metadata": {},
   "outputs": [
    {
     "data": {
      "text/plain": [
       "'unextinguishable'"
      ]
     },
     "execution_count": 47,
     "metadata": {},
     "output_type": "execute_result"
    }
   ],
   "source": [
    ">>> text = nltk.corpus.gutenberg.words('milton-paradise.txt')\n",
    ">>> longest = ''\n",
    ">>> for word in text:\n",
    "...     if len(word) > len(longest):\n",
    "...         longest = word\n",
    ">>> longest"
   ]
  },
  {
   "cell_type": "code",
   "execution_count": 48,
   "metadata": {},
   "outputs": [
    {
     "data": {
      "text/plain": [
       "['unextinguishable',\n",
       " 'transubstantiate',\n",
       " 'inextinguishable',\n",
       " 'incomprehensible']"
      ]
     },
     "execution_count": 48,
     "metadata": {},
     "output_type": "execute_result"
    }
   ],
   "source": [
    ">>> maxlen = max(len(word) for word in text)\n",
    ">>> [word for word in text if len(word) == maxlen]"
   ]
  },
  {
   "cell_type": "markdown",
   "metadata": {},
   "source": [
    "### Some Legitimate Uses for Counters"
   ]
  },
  {
   "cell_type": "code",
   "execution_count": 49,
   "metadata": {},
   "outputs": [
    {
     "data": {
      "text/plain": [
       "[['The', 'dog', 'gave'],\n",
       " ['dog', 'gave', 'John'],\n",
       " ['gave', 'John', 'the'],\n",
       " ['John', 'the', 'newspaper']]"
      ]
     },
     "execution_count": 49,
     "metadata": {},
     "output_type": "execute_result"
    }
   ],
   "source": [
    ">>> sent = ['The', 'dog', 'gave', 'John', 'the', 'newspaper']\n",
    ">>> n = 3\n",
    ">>> [sent[i:i+n] for i in range(len(sent)-n+1)]"
   ]
  },
  {
   "cell_type": "code",
   "execution_count": 50,
   "metadata": {},
   "outputs": [
    {
     "name": "stdout",
     "output_type": "stream",
     "text": [
      "[[set(), set(), set(), set(), set(), set(), set()],\n",
      " [set(), set(), set(), set(), set(), set(), set()],\n",
      " [set(), set(), set(), set(), set(), {'Alice'}, set()]]\n"
     ]
    }
   ],
   "source": [
    "import pprint\n",
    ">>> m, n = 3, 7\n",
    ">>> array = [[set() for i in range(n)] for j in range(m)]\n",
    ">>> array[2][5].add('Alice')\n",
    ">>> pprint.pprint(array)"
   ]
  },
  {
   "cell_type": "code",
   "execution_count": 51,
   "metadata": {},
   "outputs": [
    {
     "name": "stdout",
     "output_type": "stream",
     "text": [
      "[[{7}, {7}, {7}, {7}, {7}, {7}, {7}],\n",
      " [{7}, {7}, {7}, {7}, {7}, {7}, {7}],\n",
      " [{7}, {7}, {7}, {7}, {7}, {7}, {7}]]\n"
     ]
    }
   ],
   "source": [
    ">>> array = [[set()] * n] * m\n",
    ">>> array[2][5].add(7)\n",
    ">>> pprint.pprint(array)"
   ]
  },
  {
   "cell_type": "markdown",
   "metadata": {},
   "source": [
    "## 4.4   Functions: The Foundation of Structured Programming"
   ]
  },
  {
   "cell_type": "code",
   "execution_count": 52,
   "metadata": {},
   "outputs": [],
   "source": [
    "import re\n",
    "def get_text(file):\n",
    "    \"\"\"Read text from a file, normalizing whitespace and stripping HTML markup.\"\"\"\n",
    "    text = open(file).read()\n",
    "    text = re.sub(r'<.*?>', ' ', text)\n",
    "    text = re.sub('\\s+', ' ', text)\n",
    "    return text"
   ]
  },
  {
   "cell_type": "code",
   "execution_count": 53,
   "metadata": {},
   "outputs": [
    {
     "name": "stdout",
     "output_type": "stream",
     "text": [
      "Help on function get_text in module __main__:\n",
      "\n",
      "get_text(file)\n",
      "    Read text from a file, normalizing whitespace and stripping HTML markup.\n",
      "\n"
     ]
    }
   ],
   "source": [
    "  >>> help(get_text)"
   ]
  },
  {
   "cell_type": "markdown",
   "metadata": {},
   "source": [
    "### Function Inputs and Outputs"
   ]
  },
  {
   "cell_type": "code",
   "execution_count": 54,
   "metadata": {},
   "outputs": [
    {
     "data": {
      "text/plain": [
       "'Monty Python Monty Python Monty Python'"
      ]
     },
     "execution_count": 54,
     "metadata": {},
     "output_type": "execute_result"
    }
   ],
   "source": [
    "\n",
    ">>> def repeat(msg, num):  \n",
    "...     return ' '.join([msg] * num)\n",
    ">>> monty = 'Monty Python'\n",
    ">>> repeat(monty, 3) "
   ]
  },
  {
   "cell_type": "code",
   "execution_count": 55,
   "metadata": {},
   "outputs": [
    {
     "data": {
      "text/plain": [
       "'Monty Python'"
      ]
     },
     "execution_count": 55,
     "metadata": {},
     "output_type": "execute_result"
    }
   ],
   "source": [
    "\n",
    ">>> def monty():\n",
    "...     return \"Monty Python\"\n",
    ">>> monty()"
   ]
  },
  {
   "cell_type": "code",
   "execution_count": 56,
   "metadata": {},
   "outputs": [
    {
     "data": {
      "text/plain": [
       "'Monty Python Monty Python Monty Python'"
      ]
     },
     "execution_count": 56,
     "metadata": {},
     "output_type": "execute_result"
    }
   ],
   "source": [
    ">>> repeat(monty(), 3)"
   ]
  },
  {
   "cell_type": "code",
   "execution_count": 57,
   "metadata": {},
   "outputs": [
    {
     "data": {
      "text/plain": [
       "'Monty Python Monty Python Monty Python'"
      ]
     },
     "execution_count": 57,
     "metadata": {},
     "output_type": "execute_result"
    }
   ],
   "source": [
    ">>> repeat('Monty Python', 3)"
   ]
  },
  {
   "cell_type": "code",
   "execution_count": 58,
   "metadata": {},
   "outputs": [],
   "source": [
    ">>> def my_sort1(mylist):      # good: modifies its argument, no return value\n",
    "...     mylist.sort()\n",
    ">>> def my_sort2(mylist):      # good: doesn't touch its argument, returns value\n",
    "...     return sorted(mylist)\n",
    ">>> def my_sort3(mylist):      # bad: modifies its argument and also returns it\n",
    "...     mylist.sort()\n",
    "...     return mylist"
   ]
  },
  {
   "cell_type": "markdown",
   "metadata": {},
   "source": [
    "### Parameter Passing"
   ]
  },
  {
   "cell_type": "code",
   "execution_count": 59,
   "metadata": {},
   "outputs": [
    {
     "data": {
      "text/plain": [
       "['noun']"
      ]
     },
     "execution_count": 59,
     "metadata": {},
     "output_type": "execute_result"
    }
   ],
   "source": [
    ">>> def set_up(word, properties):\n",
    "...     word = 'lolcat'\n",
    "...     properties.append('noun')\n",
    "...     properties = 5\n",
    "...\n",
    ">>> w = ''\n",
    ">>> p = []\n",
    ">>> set_up(w, p)\n",
    ">>> w\n",
    "''\n",
    ">>> p"
   ]
  },
  {
   "cell_type": "code",
   "execution_count": 60,
   "metadata": {},
   "outputs": [
    {
     "data": {
      "text/plain": [
       "''"
      ]
     },
     "execution_count": 60,
     "metadata": {},
     "output_type": "execute_result"
    }
   ],
   "source": [
    ">>> w = ''\n",
    ">>> word = w\n",
    ">>> word = 'lolcat'\n",
    ">>> w"
   ]
  },
  {
   "cell_type": "code",
   "execution_count": 61,
   "metadata": {},
   "outputs": [
    {
     "data": {
      "text/plain": [
       "['noun']"
      ]
     },
     "execution_count": 61,
     "metadata": {},
     "output_type": "execute_result"
    }
   ],
   "source": [
    "\t\n",
    ">>> p = []\n",
    ">>> properties = p\n",
    ">>> properties.append('noun')\n",
    ">>> properties = 5\n",
    ">>> p"
   ]
  },
  {
   "cell_type": "markdown",
   "metadata": {},
   "source": [
    "### Variable Scope"
   ]
  },
  {
   "cell_type": "markdown",
   "metadata": {},
   "source": [
    "### Checking Parameter Types"
   ]
  },
  {
   "cell_type": "code",
   "execution_count": 62,
   "metadata": {},
   "outputs": [
    {
     "data": {
      "text/plain": [
       "'det'"
      ]
     },
     "execution_count": 62,
     "metadata": {},
     "output_type": "execute_result"
    }
   ],
   "source": [
    " \n",
    ">>> def tag(word):\n",
    "...     if word in ['a', 'the', 'all']:\n",
    "...         return 'det'\n",
    "...     else:\n",
    "...         return 'noun'\n",
    "...\n",
    ">>> tag('the')"
   ]
  },
  {
   "cell_type": "code",
   "execution_count": 63,
   "metadata": {},
   "outputs": [
    {
     "data": {
      "text/plain": [
       "'noun'"
      ]
     },
     "execution_count": 63,
     "metadata": {},
     "output_type": "execute_result"
    }
   ],
   "source": [
    ">>> tag('knight')"
   ]
  },
  {
   "cell_type": "code",
   "execution_count": 64,
   "metadata": {},
   "outputs": [
    {
     "data": {
      "text/plain": [
       "'noun'"
      ]
     },
     "execution_count": 64,
     "metadata": {},
     "output_type": "execute_result"
    }
   ],
   "source": [
    ">>> tag([\"'Tis\", 'but', 'a', 'scratch'])"
   ]
  },
  {
   "cell_type": "code",
   "execution_count": 65,
   "metadata": {},
   "outputs": [],
   "source": [
    ">>> def tag(word):\n",
    "...     assert isinstance(word, basestring), \"argument to tag() must be a string\"\n",
    "...     if word in ['a', 'the', 'all']:\n",
    "...         return 'det'\n",
    "...     else:\n",
    "...         return 'noun'"
   ]
  },
  {
   "cell_type": "markdown",
   "metadata": {},
   "source": [
    "### Functional Decomposition"
   ]
  },
  {
   "cell_type": "code",
   "execution_count": 66,
   "metadata": {},
   "outputs": [],
   "source": [
    "from urllib import request\n",
    "from bs4 import BeautifulSoup\n",
    "from nltk import word_tokenize\n",
    "\n",
    "def freq_words(url, freqdist, n):\n",
    "    html = request.urlopen(url).read().decode('utf8')\n",
    "    raw = BeautifulSoup(html, 'html.parser').get_text()\n",
    "    for word in word_tokenize(raw):\n",
    "        freqdist[word.lower()] += 1\n",
    "    result = []\n",
    "    for word, count in freqdist.most_common(n):\n",
    "        result = result + [word]\n",
    "    print(result)"
   ]
  },
  {
   "cell_type": "code",
   "execution_count": 69,
   "metadata": {},
   "outputs": [
    {
     "name": "stdout",
     "output_type": "stream",
     "text": [
      "[\"''\", ',', ':1', 'the', ':', 'of', '{', '}', ';', '(', ')', \"'\", 'archives', 'and', '.', '[', ']', '``', 'national', 'documents', 'founding', '#', 'to', 'declaration', 'constitution', 'a', 'visit', 'online', 'freedom', 'for']\n"
     ]
    }
   ],
   "source": [
    ">>> constitution = \"http://www.archives.gov/exhibits/charters/constitution_transcript.html\"\n",
    ">>> fd = nltk.FreqDist()\n",
    ">>> freq_words(constitution, fd, 30)"
   ]
  },
  {
   "cell_type": "code",
   "execution_count": 70,
   "metadata": {},
   "outputs": [],
   "source": [
    "from urllib import request\n",
    "from bs4 import BeautifulSoup\n",
    "\n",
    "def freq_words(url, n):\n",
    "    html = request.urlopen(url).read().decode('utf8')\n",
    "    text = BeautifulSoup(html, 'html.parser').get_text()\n",
    "    freqdist = nltk.FreqDist(word.lower() for word in word_tokenize(text))\n",
    "    return [word for (word, _) in fd.most_common(n)]"
   ]
  },
  {
   "cell_type": "code",
   "execution_count": 71,
   "metadata": {},
   "outputs": [
    {
     "data": {
      "text/plain": [
       "[\"''\",\n",
       " ',',\n",
       " ':1',\n",
       " 'the',\n",
       " ':',\n",
       " 'of',\n",
       " '{',\n",
       " '}',\n",
       " ';',\n",
       " '(',\n",
       " ')',\n",
       " \"'\",\n",
       " 'archives',\n",
       " 'and',\n",
       " '.',\n",
       " '[',\n",
       " ']',\n",
       " '``',\n",
       " 'national',\n",
       " 'documents',\n",
       " 'founding',\n",
       " '#',\n",
       " 'to',\n",
       " 'declaration',\n",
       " 'constitution',\n",
       " 'a',\n",
       " 'visit',\n",
       " 'online',\n",
       " 'freedom',\n",
       " 'for']"
      ]
     },
     "execution_count": 71,
     "metadata": {},
     "output_type": "execute_result"
    }
   ],
   "source": [
    ">>> freq_words(constitution, 30)"
   ]
  },
  {
   "cell_type": "markdown",
   "metadata": {},
   "source": [
    "### Documenting Functions"
   ]
  },
  {
   "cell_type": "code",
   "execution_count": 72,
   "metadata": {},
   "outputs": [],
   "source": [
    "def accuracy(reference, test):\n",
    "    \"\"\"\n",
    "    Calculate the fraction of test items that equal the corresponding reference items.\n",
    "\n",
    "    Given a list of reference values and a corresponding list of test values,\n",
    "    return the fraction of corresponding values that are equal.\n",
    "    In particular, return the fraction of indexes\n",
    "    {0<i<=len(test)} such that C{test[i] == reference[i]}.\n",
    "\n",
    "        >>> accuracy(['ADJ', 'N', 'V', 'N'], ['N', 'N', 'V', 'ADJ'])\n",
    "        0.5\n",
    "\n",
    "    :param reference: An ordered list of reference values\n",
    "    :type reference: list\n",
    "    :param test: A list of values to compare against the corresponding\n",
    "        reference values\n",
    "    :type test: list\n",
    "    :return: the accuracy score\n",
    "    :rtype: float\n",
    "    :raises ValueError: If reference and length do not have the same length\n",
    "    \"\"\"\n",
    "\n",
    "    if len(reference) != len(test):\n",
    "        raise ValueError(\"Lists must have the same length.\")\n",
    "    num_correct = 0\n",
    "    for x, y in zip(reference, test):\n",
    "        if x == y:\n",
    "            num_correct += 1\n",
    "    return float(num_correct) / len(reference)"
   ]
  },
  {
   "cell_type": "markdown",
   "metadata": {},
   "source": [
    "## 4.5   Doing More with Functions"
   ]
  },
  {
   "cell_type": "markdown",
   "metadata": {},
   "source": [
    "### Functions as Arguments"
   ]
  },
  {
   "cell_type": "code",
   "execution_count": 73,
   "metadata": {},
   "outputs": [
    {
     "data": {
      "text/plain": [
       "[4, 4, 2, 3, 5, 1, 3, 3, 6, 4, 4, 4, 2, 10, 1]"
      ]
     },
     "execution_count": 73,
     "metadata": {},
     "output_type": "execute_result"
    }
   ],
   "source": [
    ">>> sent = ['Take', 'care', 'of', 'the', 'sense', ',', 'and', 'the',\n",
    "...         'sounds', 'will', 'take', 'care', 'of', 'themselves', '.']\n",
    ">>> def extract_property(prop):\n",
    "...     return [prop(word) for word in sent]\n",
    "...\n",
    ">>> extract_property(len)"
   ]
  },
  {
   "cell_type": "code",
   "execution_count": 74,
   "metadata": {},
   "outputs": [
    {
     "data": {
      "text/plain": [
       "['e', 'e', 'f', 'e', 'e', ',', 'd', 'e', 's', 'l', 'e', 'e', 'f', 's', '.']"
      ]
     },
     "execution_count": 74,
     "metadata": {},
     "output_type": "execute_result"
    }
   ],
   "source": [
    ">>> def last_letter(word):\n",
    "...     return word[-1]\n",
    ">>> extract_property(last_letter)"
   ]
  },
  {
   "cell_type": "code",
   "execution_count": 75,
   "metadata": {},
   "outputs": [
    {
     "data": {
      "text/plain": [
       "['e', 'e', 'f', 'e', 'e', ',', 'd', 'e', 's', 'l', 'e', 'e', 'f', 's', '.']"
      ]
     },
     "execution_count": 75,
     "metadata": {},
     "output_type": "execute_result"
    }
   ],
   "source": [
    ">>> extract_property(lambda w: w[-1])"
   ]
  },
  {
   "cell_type": "code",
   "execution_count": 76,
   "metadata": {},
   "outputs": [
    {
     "data": {
      "text/plain": [
       "[',',\n",
       " '.',\n",
       " 'Take',\n",
       " 'and',\n",
       " 'care',\n",
       " 'care',\n",
       " 'of',\n",
       " 'of',\n",
       " 'sense',\n",
       " 'sounds',\n",
       " 'take',\n",
       " 'the',\n",
       " 'the',\n",
       " 'themselves',\n",
       " 'will']"
      ]
     },
     "execution_count": 76,
     "metadata": {},
     "output_type": "execute_result"
    }
   ],
   "source": [
    ">>> sorted(sent)"
   ]
  },
  {
   "cell_type": "code",
   "execution_count": 77,
   "metadata": {},
   "outputs": [
    {
     "ename": "NameError",
     "evalue": "name 'cmp' is not defined",
     "output_type": "error",
     "traceback": [
      "\u001b[1;31m---------------------------------------------------------------------------\u001b[0m",
      "\u001b[1;31mNameError\u001b[0m                                 Traceback (most recent call last)",
      "\u001b[1;32m<ipython-input-77-dcac6f5689a5>\u001b[0m in \u001b[0;36m<module>\u001b[1;34m\u001b[0m\n\u001b[1;32m----> 1\u001b[1;33m \u001b[0msorted\u001b[0m\u001b[1;33m(\u001b[0m\u001b[0msent\u001b[0m\u001b[1;33m,\u001b[0m \u001b[0mcmp\u001b[0m\u001b[1;33m)\u001b[0m\u001b[1;33m\u001b[0m\u001b[0m\n\u001b[0m",
      "\u001b[1;31mNameError\u001b[0m: name 'cmp' is not defined"
     ]
    }
   ],
   "source": [
    ">>> sorted(sent, cmp)"
   ]
  },
  {
   "cell_type": "code",
   "execution_count": 78,
   "metadata": {},
   "outputs": [
    {
     "ename": "TypeError",
     "evalue": "must use keyword argument for key function",
     "output_type": "error",
     "traceback": [
      "\u001b[1;31m---------------------------------------------------------------------------\u001b[0m",
      "\u001b[1;31mTypeError\u001b[0m                                 Traceback (most recent call last)",
      "\u001b[1;32m<ipython-input-78-486bd8c193e5>\u001b[0m in \u001b[0;36m<module>\u001b[1;34m\u001b[0m\n\u001b[1;32m----> 1\u001b[1;33m \u001b[0msorted\u001b[0m\u001b[1;33m(\u001b[0m\u001b[0msent\u001b[0m\u001b[1;33m,\u001b[0m \u001b[1;32mlambda\u001b[0m \u001b[0mx\u001b[0m\u001b[1;33m,\u001b[0m \u001b[0my\u001b[0m\u001b[1;33m:\u001b[0m \u001b[0mcmp\u001b[0m\u001b[1;33m(\u001b[0m\u001b[0mlen\u001b[0m\u001b[1;33m(\u001b[0m\u001b[0my\u001b[0m\u001b[1;33m)\u001b[0m\u001b[1;33m,\u001b[0m \u001b[0mlen\u001b[0m\u001b[1;33m(\u001b[0m\u001b[0mx\u001b[0m\u001b[1;33m)\u001b[0m\u001b[1;33m)\u001b[0m\u001b[1;33m)\u001b[0m\u001b[1;33m\u001b[0m\u001b[0m\n\u001b[0m",
      "\u001b[1;31mTypeError\u001b[0m: must use keyword argument for key function"
     ]
    }
   ],
   "source": [
    ">>> sorted(sent, lambda x, y: cmp(len(y), len(x)))"
   ]
  },
  {
   "cell_type": "markdown",
   "metadata": {},
   "source": [
    "### Accumulative Functions"
   ]
  },
  {
   "cell_type": "code",
   "execution_count": 79,
   "metadata": {},
   "outputs": [],
   "source": [
    "def search1(substring, words):\n",
    "    result = []\n",
    "    for word in words:\n",
    "        if substring in word:\n",
    "            result.append(word)\n",
    "    return result\n",
    "\n",
    "def search2(substring, words):\n",
    "    for word in words:\n",
    "        if substring in word:\n",
    "            yield word"
   ]
  },
  {
   "cell_type": "code",
   "execution_count": 80,
   "metadata": {},
   "outputs": [
    {
     "name": "stdout",
     "output_type": "stream",
     "text": [
      "Grizzlies' fizzled Rizzuto huzzahs dazzler jazz Pezza Pezza Pezza embezzling embezzlement pizza jazz Ozzie nozzle drizzly puzzle puzzle dazzling Sizzling guzzle puzzles dazzling jazz jazz Jazz jazz Jazz jazz jazz Jazz jazz jazz jazz Jazz jazz dizzy jazz Jazz puzzler jazz jazzmen jazz jazz Jazz Jazz Jazz jazz Jazz jazz jazz jazz Jazz jazz jazz jazz jazz jazz jazz jazz jazz jazz Jazz Jazz jazz jazz nozzles nozzle puzzle buzz puzzle blizzard blizzard sizzling puzzled puzzle puzzle muzzle muzzle muezzin blizzard Neo-Jazz jazz muzzle piazzas puzzles puzzles embezzle buzzed snazzy buzzes puzzled puzzled muzzle whizzing jazz Belshazzar Lizzie Lizzie Lizzie Lizzie Lizzie Lizzie Lizzie Lizzie Lizzie's Lizzie Lizzie Lizzie Lizzie Lizzie Lizzie Lizzie Lizzie Lizzie blizzard blizzards blizzard blizzard fuzzy Lazzeri Piazza piazza palazzi Piazza Piazza Palazzo Palazzo Palazzo Piazza Piazza Palazzo palazzo palazzo Palazzo Palazzo Piazza piazza piazza piazza Piazza Piazza Palazzo palazzo Piazza piazza pizza Piazza Palazzo palazzo dazzling puzzling Wozzek dazzling dazzling buzzing Jazz jazz Jazz Jazz jazz jazz jazz jazz Jazz jazz jazz jazz Fuzzy Lizzy Lizzy jazz fuzzy puzzles puzzling puzzling dazzle puzzle dazzling puzzled jazz jazz jazz jazzy whizzed frazzled quizzical puzzling poetry-and-jazz poetry-and-jazz jazz jazz jazz jazz jazz jazz jazz Jazz jazz jazz jazz poetry-and-jazz jazz jazz jazz Dizzy jazz jazz jazz jazz jazz poetry-and-jazz jazz jazz jazz jazz jazz jazz jazz jazz jazz jazz jazz jazz dazzled bedazzlement bedazzled Piazzo nozzles nozzles buzzing dazzles dizzy puzzling puzzling puzzling puzzle muzzle puzzled nozzle Pozzatti Pozzatti Pozzatti puzzled Pozzatti Pozzatti dazzling pizzicato Jazz jazz jazz jazz jazz nozzle grizzled fuzzy muzzle puzzled puzzle muzzle blizzard buzz dizzily drizzle drizzle drizzle sizzled puzzled puzzled puzzled fuzzed buzz buzz buzz buzz-buzz-buzz buzzes fuzzy frizzled drizzle drizzle drizzling drizzling fuzz jazz jazz fuzz puzzle puzzling Nozze mezzo puzzled puzzled dazzling muzzle muzzle muzzle buzzed whizzed sizzled palazzos puzzlement frizzling puzzled puzzled puzzled dazzling muzzles fuzzy jazz ex-jazz sizzle grizzly guzzled buzzing fuzz nuzzled Kizzie Kizzie Kizzie Kezziah Kizzie Kizzie Buzz's Buzz Buzz Buzz Buzz Buzz Buzz Buzz Buzz dizzy piazza buzzing Puzzled dizziness dazzled Piazza Carrozza fuzzy dizzy buzzing buzzing puzzled puzzling puzzled puzzled Quizzical pizza "
     ]
    }
   ],
   "source": [
    ">>> for item in search1('zz', nltk.corpus.brown.words()):\n",
    "...     print(item, end=\" \")"
   ]
  },
  {
   "cell_type": "code",
   "execution_count": 81,
   "metadata": {},
   "outputs": [
    {
     "name": "stdout",
     "output_type": "stream",
     "text": [
      "Grizzlies' fizzled Rizzuto huzzahs dazzler jazz Pezza Pezza Pezza embezzling embezzlement pizza jazz Ozzie nozzle drizzly puzzle puzzle dazzling Sizzling guzzle puzzles dazzling jazz jazz Jazz jazz Jazz jazz jazz Jazz jazz jazz jazz Jazz jazz dizzy jazz Jazz puzzler jazz jazzmen jazz jazz Jazz Jazz Jazz jazz Jazz jazz jazz jazz Jazz jazz jazz jazz jazz jazz jazz jazz jazz jazz Jazz Jazz jazz jazz nozzles nozzle puzzle buzz puzzle blizzard blizzard sizzling puzzled puzzle puzzle muzzle muzzle muezzin blizzard Neo-Jazz jazz muzzle piazzas puzzles puzzles embezzle buzzed snazzy buzzes puzzled puzzled muzzle whizzing jazz Belshazzar Lizzie Lizzie Lizzie Lizzie Lizzie Lizzie Lizzie Lizzie Lizzie's Lizzie Lizzie Lizzie Lizzie Lizzie Lizzie Lizzie Lizzie Lizzie blizzard blizzards blizzard blizzard fuzzy Lazzeri Piazza piazza palazzi Piazza Piazza Palazzo Palazzo Palazzo Piazza Piazza Palazzo palazzo palazzo Palazzo Palazzo Piazza piazza piazza piazza Piazza Piazza Palazzo palazzo Piazza piazza pizza Piazza Palazzo palazzo dazzling puzzling Wozzek dazzling dazzling buzzing Jazz jazz Jazz Jazz jazz jazz jazz jazz Jazz jazz jazz jazz Fuzzy Lizzy Lizzy jazz fuzzy puzzles puzzling puzzling dazzle puzzle dazzling puzzled jazz jazz jazz jazzy whizzed frazzled quizzical puzzling poetry-and-jazz poetry-and-jazz jazz jazz jazz jazz jazz jazz jazz Jazz jazz jazz jazz poetry-and-jazz jazz jazz jazz Dizzy jazz jazz jazz jazz jazz poetry-and-jazz jazz jazz jazz jazz jazz jazz jazz jazz jazz jazz jazz jazz dazzled bedazzlement bedazzled Piazzo nozzles nozzles buzzing dazzles dizzy puzzling puzzling puzzling puzzle muzzle puzzled nozzle Pozzatti Pozzatti Pozzatti puzzled Pozzatti Pozzatti dazzling pizzicato Jazz jazz jazz jazz jazz nozzle grizzled fuzzy muzzle puzzled puzzle muzzle blizzard buzz dizzily drizzle drizzle drizzle sizzled puzzled puzzled puzzled fuzzed buzz buzz buzz buzz-buzz-buzz buzzes fuzzy frizzled drizzle drizzle drizzling drizzling fuzz jazz jazz fuzz puzzle puzzling Nozze mezzo puzzled puzzled dazzling muzzle muzzle muzzle buzzed whizzed sizzled palazzos puzzlement frizzling puzzled puzzled puzzled dazzling muzzles fuzzy jazz ex-jazz sizzle grizzly guzzled buzzing fuzz nuzzled Kizzie Kizzie Kizzie Kezziah Kizzie Kizzie Buzz's Buzz Buzz Buzz Buzz Buzz Buzz Buzz Buzz dizzy piazza buzzing Puzzled dizziness dazzled Piazza Carrozza fuzzy dizzy buzzing buzzing puzzled puzzling puzzled puzzled Quizzical pizza "
     ]
    }
   ],
   "source": [
    ">>> for item in search2('zz', nltk.corpus.brown.words()):\n",
    "...     print(item, end=\" \")"
   ]
  },
  {
   "cell_type": "code",
   "execution_count": 82,
   "metadata": {},
   "outputs": [],
   "source": [
    ">>> def permutations(seq):\n",
    "...     if len(seq) <= 1:\n",
    "...         yield seq\n",
    "...     else:\n",
    "...         for perm in permutations(seq[1:]):\n",
    "...             for i in range(len(perm)+1):\n",
    "...                 yield perm[:i] + seq[0:1] + perm[i:]"
   ]
  },
  {
   "cell_type": "code",
   "execution_count": 83,
   "metadata": {},
   "outputs": [
    {
     "data": {
      "text/plain": [
       "[['police', 'fish', 'buffalo'],\n",
       " ['fish', 'police', 'buffalo'],\n",
       " ['fish', 'buffalo', 'police'],\n",
       " ['police', 'buffalo', 'fish'],\n",
       " ['buffalo', 'police', 'fish'],\n",
       " ['buffalo', 'fish', 'police']]"
      ]
     },
     "execution_count": 83,
     "metadata": {},
     "output_type": "execute_result"
    }
   ],
   "source": [
    ">>> list(permutations(['police', 'fish', 'buffalo']))"
   ]
  },
  {
   "cell_type": "markdown",
   "metadata": {},
   "source": [
    "### Higher-Order Functions"
   ]
  },
  {
   "cell_type": "code",
   "execution_count": 84,
   "metadata": {},
   "outputs": [
    {
     "data": {
      "text/plain": [
       "['Take', 'care', 'sense', 'sounds', 'take', 'care', 'themselves']"
      ]
     },
     "execution_count": 84,
     "metadata": {},
     "output_type": "execute_result"
    }
   ],
   "source": [
    ">>> def is_content_word(word):\n",
    "...     return word.lower() not in ['a', 'of', 'the', 'and', 'will', ',', '.']\n",
    ">>> sent = ['Take', 'care', 'of', 'the', 'sense', ',', 'and', 'the',\n",
    "...         'sounds', 'will', 'take', 'care', 'of', 'themselves', '.']\n",
    ">>> list(filter(is_content_word, sent))"
   ]
  },
  {
   "cell_type": "code",
   "execution_count": 85,
   "metadata": {},
   "outputs": [
    {
     "data": {
      "text/plain": [
       "['Take', 'care', 'sense', 'sounds', 'take', 'care', 'themselves']"
      ]
     },
     "execution_count": 85,
     "metadata": {},
     "output_type": "execute_result"
    }
   ],
   "source": [
    ">>> [w for w in sent if is_content_word(w)]"
   ]
  },
  {
   "cell_type": "code",
   "execution_count": 86,
   "metadata": {},
   "outputs": [
    {
     "data": {
      "text/plain": [
       "21.75081116158339"
      ]
     },
     "execution_count": 86,
     "metadata": {},
     "output_type": "execute_result"
    }
   ],
   "source": [
    ">>> lengths = list(map(len, nltk.corpus.brown.sents(categories='news')))\n",
    ">>> sum(lengths) / len(lengths)"
   ]
  },
  {
   "cell_type": "code",
   "execution_count": 87,
   "metadata": {},
   "outputs": [
    {
     "data": {
      "text/plain": [
       "21.75081116158339"
      ]
     },
     "execution_count": 87,
     "metadata": {},
     "output_type": "execute_result"
    }
   ],
   "source": [
    ">>> lengths = [len(sent) for sent in nltk.corpus.brown.sents(categories='news')]\n",
    ">>> sum(lengths) / len(lengths)"
   ]
  },
  {
   "cell_type": "code",
   "execution_count": 88,
   "metadata": {},
   "outputs": [
    {
     "ename": "TypeError",
     "evalue": "object of type 'filter' has no len()",
     "output_type": "error",
     "traceback": [
      "\u001b[1;31m---------------------------------------------------------------------------\u001b[0m",
      "\u001b[1;31mTypeError\u001b[0m                                 Traceback (most recent call last)",
      "\u001b[1;32m<ipython-input-88-7ff4bc0fb08b>\u001b[0m in \u001b[0;36m<module>\u001b[1;34m\u001b[0m\n\u001b[1;32m----> 1\u001b[1;33m \u001b[0mlist\u001b[0m\u001b[1;33m(\u001b[0m\u001b[0mmap\u001b[0m\u001b[1;33m(\u001b[0m\u001b[1;32mlambda\u001b[0m \u001b[0mw\u001b[0m\u001b[1;33m:\u001b[0m \u001b[0mlen\u001b[0m\u001b[1;33m(\u001b[0m\u001b[0mfilter\u001b[0m\u001b[1;33m(\u001b[0m\u001b[1;32mlambda\u001b[0m \u001b[0mc\u001b[0m\u001b[1;33m:\u001b[0m \u001b[0mc\u001b[0m\u001b[1;33m.\u001b[0m\u001b[0mlower\u001b[0m\u001b[1;33m(\u001b[0m\u001b[1;33m)\u001b[0m \u001b[1;32min\u001b[0m \u001b[1;34m\"aeiou\"\u001b[0m\u001b[1;33m,\u001b[0m \u001b[0mw\u001b[0m\u001b[1;33m)\u001b[0m\u001b[1;33m)\u001b[0m\u001b[1;33m,\u001b[0m \u001b[0msent\u001b[0m\u001b[1;33m)\u001b[0m\u001b[1;33m)\u001b[0m\u001b[1;33m\u001b[0m\u001b[0m\n\u001b[0m",
      "\u001b[1;32m<ipython-input-88-7ff4bc0fb08b>\u001b[0m in \u001b[0;36m<lambda>\u001b[1;34m(w)\u001b[0m\n\u001b[1;32m----> 1\u001b[1;33m \u001b[0mlist\u001b[0m\u001b[1;33m(\u001b[0m\u001b[0mmap\u001b[0m\u001b[1;33m(\u001b[0m\u001b[1;32mlambda\u001b[0m \u001b[0mw\u001b[0m\u001b[1;33m:\u001b[0m \u001b[0mlen\u001b[0m\u001b[1;33m(\u001b[0m\u001b[0mfilter\u001b[0m\u001b[1;33m(\u001b[0m\u001b[1;32mlambda\u001b[0m \u001b[0mc\u001b[0m\u001b[1;33m:\u001b[0m \u001b[0mc\u001b[0m\u001b[1;33m.\u001b[0m\u001b[0mlower\u001b[0m\u001b[1;33m(\u001b[0m\u001b[1;33m)\u001b[0m \u001b[1;32min\u001b[0m \u001b[1;34m\"aeiou\"\u001b[0m\u001b[1;33m,\u001b[0m \u001b[0mw\u001b[0m\u001b[1;33m)\u001b[0m\u001b[1;33m)\u001b[0m\u001b[1;33m,\u001b[0m \u001b[0msent\u001b[0m\u001b[1;33m)\u001b[0m\u001b[1;33m)\u001b[0m\u001b[1;33m\u001b[0m\u001b[0m\n\u001b[0m",
      "\u001b[1;31mTypeError\u001b[0m: object of type 'filter' has no len()"
     ]
    }
   ],
   "source": [
    ">>> list(map(lambda w: len(filter(lambda c: c.lower() in \"aeiou\", w)), sent))"
   ]
  },
  {
   "cell_type": "code",
   "execution_count": 89,
   "metadata": {},
   "outputs": [
    {
     "ename": "TypeError",
     "evalue": "object of type 'generator' has no len()",
     "output_type": "error",
     "traceback": [
      "\u001b[1;31m---------------------------------------------------------------------------\u001b[0m",
      "\u001b[1;31mTypeError\u001b[0m                                 Traceback (most recent call last)",
      "\u001b[1;32m<ipython-input-89-8acb0d2870fd>\u001b[0m in \u001b[0;36m<module>\u001b[1;34m\u001b[0m\n\u001b[1;32m----> 1\u001b[1;33m \u001b[1;33m[\u001b[0m\u001b[0mlen\u001b[0m\u001b[1;33m(\u001b[0m\u001b[0mc\u001b[0m \u001b[1;32mfor\u001b[0m \u001b[0mc\u001b[0m \u001b[1;32min\u001b[0m \u001b[0mw\u001b[0m \u001b[1;32mif\u001b[0m \u001b[0mc\u001b[0m\u001b[1;33m.\u001b[0m\u001b[0mlower\u001b[0m\u001b[1;33m(\u001b[0m\u001b[1;33m)\u001b[0m \u001b[1;32min\u001b[0m \u001b[1;34m\"aeiou\"\u001b[0m\u001b[1;33m)\u001b[0m \u001b[1;32mfor\u001b[0m \u001b[0mw\u001b[0m \u001b[1;32min\u001b[0m \u001b[0msent\u001b[0m\u001b[1;33m]\u001b[0m\u001b[1;33m\u001b[0m\u001b[0m\n\u001b[0m",
      "\u001b[1;32m<ipython-input-89-8acb0d2870fd>\u001b[0m in \u001b[0;36m<listcomp>\u001b[1;34m(.0)\u001b[0m\n\u001b[1;32m----> 1\u001b[1;33m \u001b[1;33m[\u001b[0m\u001b[0mlen\u001b[0m\u001b[1;33m(\u001b[0m\u001b[0mc\u001b[0m \u001b[1;32mfor\u001b[0m \u001b[0mc\u001b[0m \u001b[1;32min\u001b[0m \u001b[0mw\u001b[0m \u001b[1;32mif\u001b[0m \u001b[0mc\u001b[0m\u001b[1;33m.\u001b[0m\u001b[0mlower\u001b[0m\u001b[1;33m(\u001b[0m\u001b[1;33m)\u001b[0m \u001b[1;32min\u001b[0m \u001b[1;34m\"aeiou\"\u001b[0m\u001b[1;33m)\u001b[0m \u001b[1;32mfor\u001b[0m \u001b[0mw\u001b[0m \u001b[1;32min\u001b[0m \u001b[0msent\u001b[0m\u001b[1;33m]\u001b[0m\u001b[1;33m\u001b[0m\u001b[0m\n\u001b[0m",
      "\u001b[1;31mTypeError\u001b[0m: object of type 'generator' has no len()"
     ]
    }
   ],
   "source": [
    ">>> [len(c for c in w if c.lower() in \"aeiou\") for w in sent]"
   ]
  },
  {
   "cell_type": "markdown",
   "metadata": {},
   "source": [
    "### Named Arguments"
   ]
  },
  {
   "cell_type": "code",
   "execution_count": 90,
   "metadata": {},
   "outputs": [
    {
     "data": {
      "text/plain": [
       "'<empty><empty><empty>'"
      ]
     },
     "execution_count": 90,
     "metadata": {},
     "output_type": "execute_result"
    }
   ],
   "source": [
    ">>> def repeat(msg='<empty>', num=1):\n",
    "...     return msg * num\n",
    ">>> repeat(num=3)"
   ]
  },
  {
   "cell_type": "code",
   "execution_count": 91,
   "metadata": {},
   "outputs": [
    {
     "data": {
      "text/plain": [
       "'Alice'"
      ]
     },
     "execution_count": 91,
     "metadata": {},
     "output_type": "execute_result"
    }
   ],
   "source": [
    ">>> repeat(msg='Alice')"
   ]
  },
  {
   "cell_type": "code",
   "execution_count": 92,
   "metadata": {},
   "outputs": [
    {
     "data": {
      "text/plain": [
       "'AliceAliceAliceAliceAlice'"
      ]
     },
     "execution_count": 92,
     "metadata": {},
     "output_type": "execute_result"
    }
   ],
   "source": [
    ">>> repeat(num=5, msg='Alice')"
   ]
  },
  {
   "cell_type": "code",
   "execution_count": 93,
   "metadata": {},
   "outputs": [],
   "source": [
    ">>> def generic(*args, **kwargs):\n",
    "...     print(args)\n",
    "...     print(kwargs)\n",
    "...\n"
   ]
  },
  {
   "cell_type": "code",
   "execution_count": 94,
   "metadata": {},
   "outputs": [
    {
     "name": "stdout",
     "output_type": "stream",
     "text": [
      "(1, 'African swallow')\n",
      "{'monty': 'python'}\n"
     ]
    }
   ],
   "source": [
    ">>> generic(1, \"African swallow\", monty=\"python\")"
   ]
  },
  {
   "cell_type": "code",
   "execution_count": 95,
   "metadata": {},
   "outputs": [
    {
     "data": {
      "text/plain": [
       "[('four', 'three', 'two'),\n",
       " ('calling', 'French', 'turtle'),\n",
       " ('birds', 'hens', 'doves')]"
      ]
     },
     "execution_count": 95,
     "metadata": {},
     "output_type": "execute_result"
    }
   ],
   "source": [
    ">>> song = [['four', 'calling', 'birds'],\n",
    "...         ['three', 'French', 'hens'],\n",
    "...         ['two', 'turtle', 'doves']]\n",
    ">>> list(zip(song[0], song[1], song[2]))"
   ]
  },
  {
   "cell_type": "code",
   "execution_count": 96,
   "metadata": {},
   "outputs": [
    {
     "data": {
      "text/plain": [
       "[('four', 'three', 'two'),\n",
       " ('calling', 'French', 'turtle'),\n",
       " ('birds', 'hens', 'doves')]"
      ]
     },
     "execution_count": 96,
     "metadata": {},
     "output_type": "execute_result"
    }
   ],
   "source": [
    ">>> list(zip(*song))"
   ]
  },
  {
   "cell_type": "code",
   "execution_count": 168,
   "metadata": {},
   "outputs": [
    {
     "data": {
      "text/plain": [
       "[('that', 169),\n",
       " ('string', 124),\n",
       " ('this', 118),\n",
       " ('Python', 107),\n",
       " ('word', 94),\n",
       " ('with', 89),\n",
       " ('words', 77),\n",
       " ('will', 70),\n",
       " ('have', 69),\n",
       " ('using', 68)]"
      ]
     },
     "execution_count": 168,
     "metadata": {},
     "output_type": "execute_result"
    }
   ],
   "source": [
    ">>> def freq_words(file, min=1, num=10):\n",
    "...     text = open(file).read()\n",
    "...     tokens = word_tokenize(text)\n",
    "...     freqdist = nltk.FreqDist(t for t in tokens if len(t) >= min)\n",
    "...     return freqdist.most_common(num)\n",
    ">>> fw = freq_words('ch01.rst', 4, 10)\n",
    ">>> fw = freq_words('ch01.rst', min=4, num=10)\n",
    ">>> fw = freq_words('ch01.rst', num=10, min=4)\n",
    "fw"
   ]
  },
  {
   "cell_type": "code",
   "execution_count": 169,
   "metadata": {},
   "outputs": [],
   "source": [
    ">>> def freq_words(file, min=1, num=10, verbose=False):\n",
    "...     freqdist = FreqDist()\n",
    "...     if verbose: print(\"Opening\", file)\n",
    "...     text = open(file).read()\n",
    "...     if verbose: print(\"Read in %d characters\" % len(file))\n",
    "...     for word in word_tokenize(text):\n",
    "...         if len(word) >= min:\n",
    "...             freqdist[word] += 1\n",
    "...             if verbose and freqdist.N() % 100 == 0: print(\".\", sep=\"\")\n",
    "...     if verbose: print\n",
    "...     return freqdist.most_common(num)"
   ]
  },
  {
   "cell_type": "code",
   "execution_count": 170,
   "metadata": {},
   "outputs": [],
   "source": [
    ">>> with open(\"notes.txt\") as f:\n",
    "...     data = f.read()"
   ]
  },
  {
   "cell_type": "markdown",
   "metadata": {},
   "source": [
    "## 4.6   Program Development"
   ]
  },
  {
   "cell_type": "markdown",
   "metadata": {},
   "source": [
    "### Structure of a Python Module"
   ]
  },
  {
   "cell_type": "code",
   "execution_count": 160,
   "metadata": {},
   "outputs": [],
   "source": [
    "from nltk.metrics import edit_distance"
   ]
  },
  {
   "cell_type": "code",
   "execution_count": 166,
   "metadata": {},
   "outputs": [
    {
     "data": {
      "text/plain": [
       "'c:\\\\users\\\\ayush\\\\appdata\\\\local\\\\conda\\\\conda\\\\envs\\\\ai\\\\lib\\\\site-packages\\\\nltk\\\\translate\\\\metrics.py'"
      ]
     },
     "execution_count": 166,
     "metadata": {},
     "output_type": "execute_result"
    }
   ],
   "source": [
    ">>> nltk.metrics.__file__"
   ]
  },
  {
   "cell_type": "markdown",
   "metadata": {},
   "source": [
    "### Multi-Module Programs"
   ]
  },
  {
   "cell_type": "markdown",
   "metadata": {},
   "source": [
    "### Sources of Error"
   ]
  },
  {
   "cell_type": "code",
   "execution_count": 101,
   "metadata": {},
   "outputs": [
    {
     "data": {
      "text/plain": [
       "['omg', 'teh', 'teh', 'mat']"
      ]
     },
     "execution_count": 101,
     "metadata": {},
     "output_type": "execute_result"
    }
   ],
   "source": [
    "\n",
    ">>> def find_words(text, wordlength, result=[]):\n",
    "...     for word in text:\n",
    "...         if len(word) == wordlength:\n",
    "...             result.append(word)\n",
    "...     return result\n",
    ">>> find_words(['omg', 'teh', 'lolcat', 'sitted', 'on', 'teh', 'mat'], 3) "
   ]
  },
  {
   "cell_type": "code",
   "execution_count": 102,
   "metadata": {},
   "outputs": [
    {
     "data": {
      "text/plain": [
       "['ur', 'on']"
      ]
     },
     "execution_count": 102,
     "metadata": {},
     "output_type": "execute_result"
    }
   ],
   "source": [
    ">>> find_words(['omg', 'teh', 'lolcat', 'sitted', 'on', 'teh', 'mat'], 2, ['ur']) "
   ]
  },
  {
   "cell_type": "code",
   "execution_count": 103,
   "metadata": {},
   "outputs": [
    {
     "data": {
      "text/plain": [
       "['omg', 'teh', 'teh', 'mat', 'omg', 'teh', 'teh', 'mat']"
      ]
     },
     "execution_count": 103,
     "metadata": {},
     "output_type": "execute_result"
    }
   ],
   "source": [
    ">>> find_words(['omg', 'teh', 'lolcat', 'sitted', 'on', 'teh', 'mat'], 3) "
   ]
  },
  {
   "cell_type": "markdown",
   "metadata": {},
   "source": [
    "### Debugging Techniques"
   ]
  },
  {
   "cell_type": "code",
   "execution_count": 159,
   "metadata": {},
   "outputs": [
    {
     "name": "stdout",
     "output_type": "stream",
     "text": [
      "> <string>(1)<module>()\n",
      "(Pdb) 30\n",
      "30\n",
      "(Pdb) 12\n",
      "12\n",
      "(Pdb) d\n",
      "*** Newest frame\n",
      "(Pdb) 1\n",
      "1\n",
      "(Pdb) as\n",
      "*** SyntaxError: invalid syntax\n",
      "(Pdb) s\n",
      "--Return--\n",
      "> <string>(1)<module>()->None\n",
      "(Pdb) quit\n"
     ]
    }
   ],
   "source": [
    ">>> import pdb\n",
    ">>> import numpy\n",
    ">>> pdb.run('numpy.sin')"
   ]
  },
  {
   "cell_type": "code",
   "execution_count": 105,
   "metadata": {},
   "outputs": [
    {
     "data": {
      "text/plain": [
       "['omg', 'teh', 'teh', 'mat', 'omg', 'teh', 'teh', 'mat', 'cat']"
      ]
     },
     "execution_count": 105,
     "metadata": {},
     "output_type": "execute_result"
    }
   ],
   "source": [
    ">>> import pdb\n",
    ">>> find_words(['cat'], 3) # [_first-run]"
   ]
  },
  {
   "cell_type": "code",
   "execution_count": 106,
   "metadata": {},
   "outputs": [
    {
     "data": {
      "text/plain": [
       "['omg', 'teh', 'teh', 'mat', 'omg', 'teh', 'teh', 'mat', 'cat', 'cat']"
      ]
     },
     "execution_count": 106,
     "metadata": {},
     "output_type": "execute_result"
    }
   ],
   "source": [
    ">>> import pdb\n",
    ">>> find_words(['cat'], 3) # [_first-run]"
   ]
  },
  {
   "cell_type": "markdown",
   "metadata": {},
   "source": [
    "### Defensive Programming"
   ]
  },
  {
   "cell_type": "markdown",
   "metadata": {},
   "source": [
    "## 4.7   Algorithm Design"
   ]
  },
  {
   "cell_type": "markdown",
   "metadata": {},
   "source": [
    "### Recursion"
   ]
  },
  {
   "cell_type": "code",
   "execution_count": 107,
   "metadata": {},
   "outputs": [],
   "source": [
    ">>> def factorial1(n):\n",
    "...     result = 1\n",
    "...     for i in range(n):\n",
    "...         result *= (i+1)\n",
    "...     return result"
   ]
  },
  {
   "cell_type": "code",
   "execution_count": 108,
   "metadata": {},
   "outputs": [],
   "source": [
    ">>> def factorial2(n):\n",
    "...     if n == 1:\n",
    "...         return 1\n",
    "...     else:\n",
    "...         return n * factorial2(n-1)"
   ]
  },
  {
   "cell_type": "code",
   "execution_count": 109,
   "metadata": {},
   "outputs": [],
   "source": [
    ">>> def size1(s):\n",
    "...     return 1 + sum(size1(child) for child in s.hyponyms())"
   ]
  },
  {
   "cell_type": "code",
   "execution_count": 110,
   "metadata": {},
   "outputs": [],
   "source": [
    ">>> def size2(s):\n",
    "...     layer = [s] \n",
    "...     total = 0\n",
    "...     while layer:\n",
    "...         total += len(layer) \n",
    "...         layer = [h for c in layer for h in c.hyponyms()]\n",
    "...     return total"
   ]
  },
  {
   "cell_type": "code",
   "execution_count": 111,
   "metadata": {},
   "outputs": [
    {
     "data": {
      "text/plain": [
       "190"
      ]
     },
     "execution_count": 111,
     "metadata": {},
     "output_type": "execute_result"
    }
   ],
   "source": [
    ">>> from nltk.corpus import wordnet as wn\n",
    ">>> dog = wn.synset('dog.n.01')\n",
    ">>> size1(dog)"
   ]
  },
  {
   "cell_type": "code",
   "execution_count": 112,
   "metadata": {},
   "outputs": [
    {
     "data": {
      "text/plain": [
       "190"
      ]
     },
     "execution_count": 112,
     "metadata": {},
     "output_type": "execute_result"
    }
   ],
   "source": [
    ">>> size2(dog)"
   ]
  },
  {
   "cell_type": "code",
   "execution_count": 113,
   "metadata": {},
   "outputs": [],
   "source": [
    "def insert(trie, key, value):\n",
    "    if key:\n",
    "        first, rest = key[0], key[1:]\n",
    "        if first not in trie:\n",
    "            trie[first] = {}\n",
    "        insert(trie[first], rest, value)\n",
    "    else:\n",
    "        trie['value'] = value"
   ]
  },
  {
   "cell_type": "code",
   "execution_count": 114,
   "metadata": {},
   "outputs": [
    {
     "data": {
      "text/plain": [
       "'cat'"
      ]
     },
     "execution_count": 114,
     "metadata": {},
     "output_type": "execute_result"
    }
   ],
   "source": [
    ">>> trie = {}\n",
    ">>> insert(trie, 'chat', 'cat')\n",
    ">>> insert(trie, 'chien', 'dog')\n",
    ">>> insert(trie, 'chair', 'flesh')\n",
    ">>> insert(trie, 'chic', 'stylish')\n",
    ">>> trie = dict(trie)               # for nicer printing\n",
    ">>> trie['c']['h']['a']['t']['value']"
   ]
  },
  {
   "cell_type": "code",
   "execution_count": 115,
   "metadata": {},
   "outputs": [
    {
     "name": "stdout",
     "output_type": "stream",
     "text": [
      "{'c': {'h': {'a': {'i': {'r': {'value': 'flesh'}},\n",
      "                   't': {'value': 'cat'}},\n",
      "             'i': {'c': {'value': 'stylish'},\n",
      "                   'e': {'n': {'value': 'dog'}}}}}}\n"
     ]
    }
   ],
   "source": [
    ">>> pprint.pprint(trie, width=40)"
   ]
  },
  {
   "cell_type": "markdown",
   "metadata": {},
   "source": [
    "### Space-Time Tradeoffs"
   ]
  },
  {
   "cell_type": "code",
   "execution_count": 116,
   "metadata": {},
   "outputs": [
    {
     "name": "stdout",
     "output_type": "stream",
     "text": [
      "Building Index...\n",
      "query> stylish\n",
      "lm-school-grad obvious . it's stylish in a hugely self consc\n",
      "ade not as a western but as a stylish british gangster film \n",
      "ow he could make an enjoyable stylish film . he just chooses\n",
      "ful . the film is intricate , stylish and precise , hitting \n",
      "ade not as a western but as a stylish british gangster film \n",
      " be a disaster into a slick , stylish , and somewhat diverti\n",
      "man , is that of a confused , stylish nature that i really c\n",
      " watchful eye of delivering a stylish looking thriller , but\n",
      "he is prisoner in cavanaugh's stylish residence , but also t\n",
      "n damme ) , a babe-magnet and stylish dresser , heads up the\n",
      "i'm not only referring to his stylish destruction of the \" b\n",
      " jawbreaker is the incredibly stylish look . the costume des\n",
      "t's only saving grace was its stylish look which reminded me\n",
      "ot much more to this visually stylish film than what meets t\n",
      "ot much more to this visually stylish film than what meets t\n",
      "e career shooting expensive , stylish soft porn . salon kitt\n",
      "e career shooting expensive , stylish soft porn . salon kitt\n",
      "sarandon who played charlie's stylish next door neighbor wit\n",
      "sarandon who played charlie's stylish next door neighbor wit\n",
      "uppie than a superhero in his stylish long hair and innocuou\n",
      "film maker . his direction is stylish without being pretenti\n",
      " of feel to it . it is a very stylish movie and for the most\n",
      "sely plotted and terrifically stylish thriller . the story f\n",
      "sely plotted and terrifically stylish thriller . the story f\n",
      "me not only a hip , scary and stylish entertainment , but al\n",
      "iption is perfect . this is a stylish , great-looking , and \n",
      "or-monkey films and made this stylish and intriguing picture\n",
      "fectly . the horseman f/x are stylish and impressive , parti\n",
      "monstrates a keen eye for the stylish ; his collaboration wi\n",
      "gento's directorial flair and stylish visuals are matched by\n",
      " note : beyond the door ii is stylish , chilling , and essen\n",
      "ry , \" love is the devil \" is stylish masterpiece for the se\n",
      "tions are soon divided as the stylish and socially acceptabl\n",
      ". his direction is smooth and stylish . the visuals are stri\n",
      "athtaking special effects and stylish cinematography . it se\n",
      " john carpenter directed this stylish and gory vampire flick\n",
      "r carpings . overall , o is a stylish and faithful adaptatio\n",
      "! i love dark movies , i love stylish movies , i love good m\n",
      "`lola' is no exception , with stylish quick-flash camera wor\n",
      "t the worst possible time . a stylish science fiction epic ,\n",
      "t the worst possible time . a stylish science fiction epic ,\n",
      "lies solely upon rob reiner's stylish directing and the wond\n",
      "ter , kevin williamson , is a stylish , effective horror fil\n",
      "the perfume . a slow moving , stylish psychological thriller\n",
      " cast plays out this story in stylish fashion . the set desi\n",
      "f the spirits and last year's stylish but highly preposterou\n",
      "query> exit\n",
      "hapin , and his own mother on exit 52 . he's both fascinated\n",
      "the elegiac and powerful last exit to brooklyn and christian\n",
      " he learns that if he gets an exit pass from death , he can \n",
      "the opportunity to gracefully exit the roles that typecast h\n",
      "nd attempt to run towards the exit in slow motion ) . and al\n",
      "eryone else was getting up to exit the screening room after \n",
      " the owner of dwayne hoover's exit 11 motor village in midla\n",
      " at the theater's glowing red exit sign longingly throughout\n",
      "angel ) on the way . with the exit of bill murray , the film\n",
      " chance to escape the nearest exit . this , undoubtedly , is\n",
      " she is about to bolt for the exit , he shows her a small ga\n",
      "half . his character makes an exit which is supposed to be t\n",
      "audience , the deputy's quiet exit concurs with their own si\n",
      "would mercilessly force me to exit boyhood and thrust me int\n",
      "yone and surely , people will exit the theaters with their o\n",
      "m with just the right kind of exit , saving the best for las\n",
      "not because of their own complexity , but because of their l\n",
      "query> \n",
      "Not found\n",
      "query> quit\n",
      "s funded by her mother . lucy quit working professionally 10\n",
      "erick . i disliked that movie quite a bit , but since \" prac\n",
      "t disaster . babe ruth didn't quit baseball after one season\n",
      "o-be fiance . i think she can quit that job and get a more r\n",
      " and rose mcgowan should just quit acting . she has no chari\n",
      "and get a day job . and don't quit it .                     \n",
      " kubrick , alas , should have quit while he was ahead . this\n",
      "everyone involved should have quit while they were still ahe\n",
      "l die . so what does joe do ? quit his job , of course ! ! w\n",
      "red \" implant . he's ready to quit the biz and get a portion\n",
      "hat he always recorded , they quit and become disillusioned \n",
      " admit that i ? ? ? ve become quite the \" scream \" fan . no \n",
      " again , the fact that he has quit his job to feel what it's\n",
      "school reunion . he has since quit his job as a travel journ\n",
      "ells one of his friends , \" i quit school because i didn't l\n",
      "ms , cursing off the boss and quitting his job ( \" today i q\n",
      "e , the arrival of the now ubiquitous videocassette . burt r\n",
      "in capitol city , that he has quit his job and hopes to open\n",
      "before his death at age 67 to quit filmmaking once a homosex\n",
      " - joss's explanation that he quit the priesthood because of\n",
      " is a former prosecutor , and quit because of tensions betwe\n"
     ]
    }
   ],
   "source": [
    "def raw(file):\n",
    "    contents = open(file).read()\n",
    "    contents = re.sub(r'<.*?>', ' ', contents)\n",
    "    contents = re.sub('\\s+', ' ', contents)\n",
    "    return contents\n",
    "\n",
    "def snippet(doc, term):\n",
    "    text = ' '*30 + raw(doc) + ' '*30\n",
    "    pos = text.index(term)\n",
    "    return text[pos-30:pos+30]\n",
    "\n",
    "print(\"Building Index...\")\n",
    "files = nltk.corpus.movie_reviews.abspaths()\n",
    "idx = nltk.Index((w, f) for f in files for w in raw(f).split())\n",
    "\n",
    "query = ''\n",
    "while query != \"quit\":\n",
    "    query = input(\"query> \")     # use raw_input() in Python 2\n",
    "    if query in idx:\n",
    "        for doc in idx[query]:\n",
    "            print(snippet(doc, query))\n",
    "    else:\n",
    "        print(\"Not found\")"
   ]
  },
  {
   "cell_type": "code",
   "execution_count": 117,
   "metadata": {},
   "outputs": [],
   "source": [
    "def preprocess(tagged_corpus):\n",
    "    words = set()\n",
    "    tags = set()\n",
    "    for sent in tagged_corpus:\n",
    "        for word, tag in sent:\n",
    "            words.add(word)\n",
    "            tags.add(tag)\n",
    "    wm = dict((w, i) for (i, w) in enumerate(words))\n",
    "    tm = dict((t, i) for (i, t) in enumerate(tags))\n",
    "    return [[(wm[w], tm[t]) for (w, t) in sent] for sent in tagged_corpus]"
   ]
  },
  {
   "cell_type": "code",
   "execution_count": 118,
   "metadata": {},
   "outputs": [
    {
     "name": "stdout",
     "output_type": "stream",
     "text": [
      "0.001530163847144071\n"
     ]
    }
   ],
   "source": [
    ">>> from timeit import Timer\n",
    ">>> vocab_size = 100000\n",
    ">>> setup_list = \"import random; vocab = range(%d)\" % vocab_size \n",
    ">>> setup_set = \"import random; vocab = set(range(%d))\" % vocab_size \n",
    ">>> statement = \"random.randint(0, %d) in vocab\" % (vocab_size * 2) \n",
    ">>> print(Timer(statement, setup_list).timeit(1000))"
   ]
  },
  {
   "cell_type": "code",
   "execution_count": 119,
   "metadata": {},
   "outputs": [
    {
     "name": "stdout",
     "output_type": "stream",
     "text": [
      "0.0015666310503652525\n"
     ]
    }
   ],
   "source": [
    ">>> print(Timer(statement, setup_set).timeit(1000))"
   ]
  },
  {
   "cell_type": "markdown",
   "metadata": {},
   "source": [
    "### Dynamic Programming"
   ]
  },
  {
   "cell_type": "code",
   "execution_count": 120,
   "metadata": {},
   "outputs": [],
   "source": [
    "def virahanka1(n):\n",
    "    if n == 0:\n",
    "        return [\"\"]\n",
    "    elif n == 1:\n",
    "        return [\"S\"]\n",
    "    else:\n",
    "        s = [\"S\" + prosody for prosody in virahanka1(n-1)]\n",
    "        l = [\"L\" + prosody for prosody in virahanka1(n-2)]\n",
    "        return s + l\n",
    "\n",
    "def virahanka2(n):\n",
    "    lookup = [[\"\"], [\"S\"]]\n",
    "    for i in range(n-1):\n",
    "        s = [\"S\" + prosody for prosody in lookup[i+1]]\n",
    "        l = [\"L\" + prosody for prosody in lookup[i]]\n",
    "        lookup.append(s + l)\n",
    "    return lookup[n]\n",
    "\n",
    "def virahanka3(n, lookup={0:[\"\"], 1:[\"S\"]}):\n",
    "    if n not in lookup:\n",
    "        s = [\"S\" + prosody for prosody in virahanka3(n-1)]\n",
    "        l = [\"L\" + prosody for prosody in virahanka3(n-2)]\n",
    "        lookup[n] = s + l\n",
    "    return lookup[n]\n",
    "\n",
    "from nltk import memoize\n",
    "@memoize\n",
    "def virahanka4(n):\n",
    "    if n == 0:\n",
    "        return [\"\"]\n",
    "    elif n == 1:\n",
    "        return [\"S\"]\n",
    "    else:\n",
    "        s = [\"S\" + prosody for prosody in virahanka4(n-1)]\n",
    "        l = [\"L\" + prosody for prosody in virahanka4(n-2)]\n",
    "        return s + l"
   ]
  },
  {
   "cell_type": "code",
   "execution_count": 121,
   "metadata": {},
   "outputs": [
    {
     "data": {
      "text/plain": [
       "['SSSS', 'SSL', 'SLS', 'LSS', 'LL']"
      ]
     },
     "execution_count": 121,
     "metadata": {},
     "output_type": "execute_result"
    }
   ],
   "source": [
    ">>> virahanka1(4)"
   ]
  },
  {
   "cell_type": "code",
   "execution_count": 122,
   "metadata": {},
   "outputs": [
    {
     "data": {
      "text/plain": [
       "['SSSS', 'SSL', 'SLS', 'LSS', 'LL']"
      ]
     },
     "execution_count": 122,
     "metadata": {},
     "output_type": "execute_result"
    }
   ],
   "source": [
    ">>> virahanka2(4)"
   ]
  },
  {
   "cell_type": "code",
   "execution_count": 123,
   "metadata": {},
   "outputs": [
    {
     "data": {
      "text/plain": [
       "['SSSS', 'SSL', 'SLS', 'LSS', 'LL']"
      ]
     },
     "execution_count": 123,
     "metadata": {},
     "output_type": "execute_result"
    }
   ],
   "source": [
    ">>> virahanka3(4)"
   ]
  },
  {
   "cell_type": "code",
   "execution_count": 124,
   "metadata": {},
   "outputs": [
    {
     "data": {
      "text/plain": [
       "['SSSS', 'SSL', 'SLS', 'LSS', 'LL']"
      ]
     },
     "execution_count": 124,
     "metadata": {},
     "output_type": "execute_result"
    }
   ],
   "source": [
    ">>> virahanka4(4)"
   ]
  },
  {
   "cell_type": "markdown",
   "metadata": {},
   "source": [
    "## 4.8   A Sample of Python Libraries"
   ]
  },
  {
   "cell_type": "markdown",
   "metadata": {},
   "source": [
    "### Matplotlib"
   ]
  },
  {
   "cell_type": "code",
   "execution_count": 125,
   "metadata": {},
   "outputs": [],
   "source": [
    "from numpy import arange\n",
    "from matplotlib import pyplot\n",
    "\n",
    "colors = 'rgbcmyk' # red, green, blue, cyan, magenta, yellow, black\n",
    "\n",
    "def bar_chart(categories, words, counts):\n",
    "    \"Plot a bar chart showing counts for each word by category\"\n",
    "    ind = arange(len(words))\n",
    "    width = 1 / (len(categories) + 1)\n",
    "    bar_groups = []\n",
    "    for c in range(len(categories)):\n",
    "        bars = pyplot.bar(ind+c*width, counts[categories[c]], width,\n",
    "                         color=colors[c % len(colors)])\n",
    "        bar_groups.append(bars)\n",
    "    pyplot.xticks(ind+width, words)\n",
    "    pyplot.legend([b[0] for b in bar_groups], categories, loc='upper left')\n",
    "    pyplot.ylabel('Frequency')\n",
    "    pyplot.title('Frequency of Six Modal Verbs by Genre')\n",
    "    pyplot.show()"
   ]
  },
  {
   "cell_type": "code",
   "execution_count": 126,
   "metadata": {},
   "outputs": [
    {
     "data": {
      "image/png": "[encoded data removed]",
      "text/plain": [
       "<Figure size 432x288 with 1 Axes>"
      ]
     },
     "metadata": {
      "needs_background": "light"
     },
     "output_type": "display_data"
    }
   ],
   "source": [
    ">>> genres = ['news', 'religion', 'hobbies', 'government', 'adventure']\n",
    ">>> modals = ['can', 'could', 'may', 'might', 'must', 'will']\n",
    ">>> cfdist = nltk.ConditionalFreqDist(\n",
    "...              (genre, word)\n",
    "...              for genre in genres\n",
    "...              for word in nltk.corpus.brown.words(categories=genre)\n",
    "...              if word in modals)\n",
    "...\n",
    ">>> counts = {}\n",
    ">>> for genre in genres:\n",
    "...     counts[genre] = [cfdist[genre][word] for word in modals]\n",
    ">>> bar_chart(genres, modals, counts)"
   ]
  },
  {
   "cell_type": "code",
   "execution_count": 129,
   "metadata": {},
   "outputs": [
    {
     "name": "stdout",
     "output_type": "stream",
     "text": [
      "Content-Type: text/html\n",
      "\n",
      "<html><body>\n",
      "<img src=\"modals.png\"/>\n",
      "</body></html>\n"
     ]
    },
    {
     "data": {
      "text/plain": [
       "<Figure size 432x288 with 0 Axes>"
      ]
     },
     "metadata": {},
     "output_type": "display_data"
    }
   ],
   "source": [
    ">>> from matplotlib import use, pyplot\n",
    ">>> use('Agg')\n",
    ">>> pyplot.savefig('modals.png') \n",
    ">>> print('Content-Type: text/html')\n",
    ">>> print()\n",
    ">>> print('<html><body>')\n",
    ">>> print('<img src=\"modals.png\"/>')\n",
    ">>> print('</body></html>')"
   ]
  },
  {
   "cell_type": "markdown",
   "metadata": {},
   "source": [
    "### NetworkX"
   ]
  },
  {
   "cell_type": "code",
   "execution_count": 131,
   "metadata": {},
   "outputs": [],
   "source": [
    "import networkx as nx\n",
    "import matplotlib\n",
    "from nltk.corpus import wordnet as wn\n",
    "\n",
    "def traverse(graph, start, node):\n",
    "    graph.depth[node.name] = node.shortest_path_distance(start)\n",
    "    for child in node.hyponyms():\n",
    "        graph.add_edge(node.name, child.name) [1]\n",
    "        traverse(graph, start, child) [2]\n",
    "\n",
    "def hyponym_graph(start):\n",
    "    G = nx.Graph() [3]\n",
    "    G.depth = {}\n",
    "    traverse(G, start, start)\n",
    "    return G\n",
    "\n",
    "def graph_draw(graph):\n",
    "    nx.draw_graphviz(graph,\n",
    "         node_size = [16 * graph.degree(n) for n in graph],\n",
    "         node_color = [graph.depth[n] for n in graph],\n",
    "         with_labels = False)\n",
    "    matplotlib.pyplot.show()"
   ]
  },
  {
   "cell_type": "code",
   "execution_count": 153,
   "metadata": {},
   "outputs": [
    {
     "data": {
      "text/plain": [
       "Synset('dog.n.01')"
      ]
     },
     "execution_count": 153,
     "metadata": {},
     "output_type": "execute_result"
    }
   ],
   "source": [
    ">>> dog = wn.synset('dog.n.01')\n",
    ">>> wn.synsets('dog')[0]\n"
   ]
  },
  {
   "cell_type": "code",
   "execution_count": 154,
   "metadata": {},
   "outputs": [
    {
     "ename": "KeyError",
     "evalue": "3",
     "output_type": "error",
     "traceback": [
      "\u001b[1;31m---------------------------------------------------------------------------\u001b[0m",
      "\u001b[1;31mKeyError\u001b[0m                                  Traceback (most recent call last)",
      "\u001b[1;32m<ipython-input-154-bfd4742e9b37>\u001b[0m in \u001b[0;36m<module>\u001b[1;34m\u001b[0m\n\u001b[1;32m----> 1\u001b[1;33m \u001b[0mgraph\u001b[0m \u001b[1;33m=\u001b[0m \u001b[0mhyponym_graph\u001b[0m\u001b[1;33m(\u001b[0m\u001b[0mdog\u001b[0m\u001b[1;33m)\u001b[0m\u001b[1;33m\u001b[0m\u001b[0m\n\u001b[0m\u001b[0;32m      2\u001b[0m \u001b[0mgraph_draw\u001b[0m\u001b[1;33m(\u001b[0m\u001b[0mgraph\u001b[0m\u001b[1;33m)\u001b[0m\u001b[1;33m\u001b[0m\u001b[0m\n",
      "\u001b[1;32m<ipython-input-131-23f7e6839556>\u001b[0m in \u001b[0;36mhyponym_graph\u001b[1;34m(start)\u001b[0m\n\u001b[0;32m     10\u001b[0m \u001b[1;33m\u001b[0m\u001b[0m\n\u001b[0;32m     11\u001b[0m \u001b[1;32mdef\u001b[0m \u001b[0mhyponym_graph\u001b[0m\u001b[1;33m(\u001b[0m\u001b[0mstart\u001b[0m\u001b[1;33m)\u001b[0m\u001b[1;33m:\u001b[0m\u001b[1;33m\u001b[0m\u001b[0m\n\u001b[1;32m---> 12\u001b[1;33m     \u001b[0mG\u001b[0m \u001b[1;33m=\u001b[0m \u001b[0mnx\u001b[0m\u001b[1;33m.\u001b[0m\u001b[0mGraph\u001b[0m\u001b[1;33m(\u001b[0m\u001b[1;33m)\u001b[0m \u001b[1;33m[\u001b[0m\u001b[1;36m3\u001b[0m\u001b[1;33m]\u001b[0m\u001b[1;33m\u001b[0m\u001b[0m\n\u001b[0m\u001b[0;32m     13\u001b[0m     \u001b[0mG\u001b[0m\u001b[1;33m.\u001b[0m\u001b[0mdepth\u001b[0m \u001b[1;33m=\u001b[0m \u001b[1;33m{\u001b[0m\u001b[1;33m}\u001b[0m\u001b[1;33m\u001b[0m\u001b[0m\n\u001b[0;32m     14\u001b[0m     \u001b[0mtraverse\u001b[0m\u001b[1;33m(\u001b[0m\u001b[0mG\u001b[0m\u001b[1;33m,\u001b[0m \u001b[0mstart\u001b[0m\u001b[1;33m,\u001b[0m \u001b[0mstart\u001b[0m\u001b[1;33m)\u001b[0m\u001b[1;33m\u001b[0m\u001b[0m\n",
      "\u001b[1;32mc:\\users\\ayush\\appdata\\local\\conda\\conda\\envs\\ai\\lib\\site-packages\\networkx\\classes\\graph.py\u001b[0m in \u001b[0;36m__getitem__\u001b[1;34m(self, n)\u001b[0m\n\u001b[0;32m    470\u001b[0m         \u001b[0mAtlasView\u001b[0m\u001b[1;33m(\u001b[0m\u001b[1;33m{\u001b[0m\u001b[1;36m1\u001b[0m\u001b[1;33m:\u001b[0m \u001b[1;33m{\u001b[0m\u001b[1;33m}\u001b[0m\u001b[1;33m}\u001b[0m\u001b[1;33m)\u001b[0m\u001b[1;33m\u001b[0m\u001b[0m\n\u001b[0;32m    471\u001b[0m         \"\"\"\n\u001b[1;32m--> 472\u001b[1;33m         \u001b[1;32mreturn\u001b[0m \u001b[0mself\u001b[0m\u001b[1;33m.\u001b[0m\u001b[0madj\u001b[0m\u001b[1;33m[\u001b[0m\u001b[0mn\u001b[0m\u001b[1;33m]\u001b[0m\u001b[1;33m\u001b[0m\u001b[0m\n\u001b[0m\u001b[0;32m    473\u001b[0m \u001b[1;33m\u001b[0m\u001b[0m\n\u001b[0;32m    474\u001b[0m     \u001b[1;32mdef\u001b[0m \u001b[0madd_node\u001b[0m\u001b[1;33m(\u001b[0m\u001b[0mself\u001b[0m\u001b[1;33m,\u001b[0m \u001b[0mnode_for_adding\u001b[0m\u001b[1;33m,\u001b[0m \u001b[1;33m**\u001b[0m\u001b[0mattr\u001b[0m\u001b[1;33m)\u001b[0m\u001b[1;33m:\u001b[0m\u001b[1;33m\u001b[0m\u001b[0m\n",
      "\u001b[1;32mc:\\users\\ayush\\appdata\\local\\conda\\conda\\envs\\ai\\lib\\site-packages\\networkx\\classes\\coreviews.py\u001b[0m in \u001b[0;36m__getitem__\u001b[1;34m(self, name)\u001b[0m\n\u001b[0;32m     79\u001b[0m \u001b[1;33m\u001b[0m\u001b[0m\n\u001b[0;32m     80\u001b[0m     \u001b[1;32mdef\u001b[0m \u001b[0m__getitem__\u001b[0m\u001b[1;33m(\u001b[0m\u001b[0mself\u001b[0m\u001b[1;33m,\u001b[0m \u001b[0mname\u001b[0m\u001b[1;33m)\u001b[0m\u001b[1;33m:\u001b[0m\u001b[1;33m\u001b[0m\u001b[0m\n\u001b[1;32m---> 81\u001b[1;33m         \u001b[1;32mreturn\u001b[0m \u001b[0mAtlasView\u001b[0m\u001b[1;33m(\u001b[0m\u001b[0mself\u001b[0m\u001b[1;33m.\u001b[0m\u001b[0m_atlas\u001b[0m\u001b[1;33m[\u001b[0m\u001b[0mname\u001b[0m\u001b[1;33m]\u001b[0m\u001b[1;33m)\u001b[0m\u001b[1;33m\u001b[0m\u001b[0m\n\u001b[0m\u001b[0;32m     82\u001b[0m \u001b[1;33m\u001b[0m\u001b[0m\n\u001b[0;32m     83\u001b[0m     \u001b[1;32mdef\u001b[0m \u001b[0mcopy\u001b[0m\u001b[1;33m(\u001b[0m\u001b[0mself\u001b[0m\u001b[1;33m)\u001b[0m\u001b[1;33m:\u001b[0m\u001b[1;33m\u001b[0m\u001b[0m\n",
      "\u001b[1;31mKeyError\u001b[0m: 3"
     ]
    }
   ],
   "source": [
    ">>> graph = hyponym_graph(dog)\n",
    ">>> graph_draw(graph)"
   ]
  },
  {
   "cell_type": "code",
   "execution_count": 147,
   "metadata": {},
   "outputs": [
    {
     "name": "stdout",
     "output_type": "stream",
     "text": [
      "['file_name', 'classID', 'classname']\n",
      "['a1.wav', '0', 'a']\n",
      "['a2.wav', '0', 'a']\n",
      "['a3.wav', '0', 'a']\n",
      "['a4.wav', '0', 'a']\n",
      "['a5.wav', '0', 'a']\n",
      "['a6.wav', '0', 'a']\n",
      "['a7.wav', '0', 'a']\n",
      "['a8.wav', '0', 'a']\n",
      "['a9.wav', '0', 'a']\n",
      "['a10.wav', '0', 'a']\n",
      "['a11.wav', '0', 'a']\n",
      "['a12.wav', '0', 'a']\n",
      "['a13.wav', '0', 'a']\n",
      "['a14.wav', '0', 'a']\n",
      "['a15.wav', '0', 'a']\n",
      "['a16.wav', '0', 'a']\n",
      "['a17.wav', '0', 'a']\n",
      "['a18.wav', '0', 'a']\n",
      "['a19.wav', '0', 'a']\n",
      "['a20.wav', '0', 'a']\n",
      "['a21.wav', '0', 'a']\n",
      "['a22.wav', '0', 'a']\n",
      "['a23.wav', '0', 'a']\n",
      "['a24.wav', '0', 'a']\n",
      "['a25.wav', '0', 'a']\n",
      "['a26.wav', '0', 'a']\n",
      "['a27.wav', '0', 'a']\n",
      "['a28.wav', '0', 'a']\n",
      "['a29.wav', '0', 'a']\n",
      "['a30.wav', '0', 'a']\n",
      "['a31.wav', '0', 'a']\n",
      "['a32.wav', '0', 'a']\n",
      "['a33.wav', '0', 'a']\n",
      "['a34.wav', '0', 'a']\n",
      "['a35.wav', '0', 'a']\n",
      "['a36.wav', '0', 'a']\n",
      "['a37.wav', '0', 'a']\n",
      "['a38.wav', '0', 'a']\n",
      "['a39.wav', '0', 'a']\n",
      "['a40.wav', '0', 'a']\n",
      "['a41.wav', '0', 'a']\n",
      "['a42.wav', '0', 'a']\n",
      "['a43.wav', '0', 'a']\n",
      "['a44.wav', '0', 'a']\n",
      "['a45.wav', '0', 'a']\n",
      "['a46.wav', '0', 'a']\n",
      "['a47.wav', '0', 'a']\n",
      "['a48.wav', '0', 'a']\n",
      "['a49.wav', '0', 'a']\n",
      "['a50.wav', '0', 'a']\n",
      "['a51.wav', '0', 'a']\n",
      "['a52.wav', '0', 'a']\n",
      "['a53.wav', '0', 'a']\n",
      "['a54.wav', '0', 'a']\n",
      "['a55.wav', '0', 'a']\n",
      "['a56.wav', '0', 'a']\n",
      "['a57.wav', '0', 'a']\n",
      "['a58.wav', '0', 'a']\n",
      "['a59.wav', '0', 'a']\n",
      "['a60.wav', '0', 'a']\n",
      "['a61.wav', '0', 'a']\n",
      "['a62.wav', '0', 'a']\n",
      "['a63.wav', '0', 'a']\n",
      "['a64.wav', '0', 'a']\n",
      "['a65.wav', '0', 'a']\n",
      "['a66.wav', '0', 'a']\n",
      "['a67.wav', '0', 'a']\n",
      "['a68.wav', '0', 'a']\n",
      "['a69.wav', '0', 'a']\n",
      "['a70.wav', '0', 'a']\n",
      "['a71.wav', '0', 'a']\n",
      "['a72.wav', '0', 'a']\n",
      "['a73.wav', '0', 'a']\n",
      "['a74.wav', '0', 'a']\n",
      "['a75.wav', '0', 'a']\n",
      "['a76.wav', '0', 'a']\n",
      "['a77.wav', '0', 'a']\n",
      "['a78.wav', '0', 'a']\n",
      "['a79.wav', '0', 'a']\n",
      "['a80.wav', '0', 'a']\n",
      "['a81.wav', '0', 'a']\n",
      "['a82.wav', '0', 'a']\n",
      "['a83.wav', '0', 'a']\n",
      "['a84.wav', '0', 'a']\n",
      "['a85.wav', '0', 'a']\n",
      "['a86.wav', '0', 'a']\n",
      "['a87.wav', '0', 'a']\n",
      "['a88.wav', '0', 'a']\n",
      "['a89.wav', '0', 'a']\n",
      "['a90.wav', '0', 'a']\n",
      "['a91.wav', '0', 'a']\n",
      "['a92.wav', '0', 'a']\n",
      "['a93.wav', '0', 'a']\n",
      "['a94.wav', '0', 'a']\n",
      "['a95.wav', '0', 'a']\n",
      "['a96.wav', '0', 'a']\n",
      "['a97.wav', '0', 'a']\n",
      "['a98.wav', '0', 'a']\n",
      "['a99.wav', '0', 'a']\n",
      "['a100.wav', '0', 'a']\n",
      "['a101.wav', '0', 'a']\n",
      "['a102.wav', '0', 'a']\n",
      "['a103.wav', '0', 'a']\n",
      "['a104.wav', '0', 'a']\n",
      "['a105.wav', '0', 'a']\n",
      "['a106.wav', '0', 'a']\n",
      "['a107.wav', '0', 'a']\n",
      "['a108.wav', '0', 'a']\n",
      "['a109.wav', '0', 'a']\n",
      "['a110.wav', '0', 'a']\n",
      "['a111.wav', '0', 'a']\n",
      "['a112.wav', '0', 'a']\n",
      "['a113.wav', '0', 'a']\n",
      "['a114.wav', '0', 'a']\n",
      "['a115.wav', '0', 'a']\n",
      "['a116.wav', '0', 'a']\n",
      "['a117.wav', '0', 'a']\n",
      "['a118.wav', '0', 'a']\n",
      "['a119.wav', '0', 'a']\n",
      "['a120.wav', '0', 'a']\n",
      "['a121.wav', '0', 'a']\n",
      "['a122.wav', '0', 'a']\n",
      "['a123.wav', '0', 'a']\n",
      "['a124.wav', '0', 'a']\n",
      "['a125.wav', '0', 'a']\n",
      "['a126.wav', '0', 'a']\n",
      "['a127.wav', '0', 'a']\n",
      "['a128.wav', '0', 'a']\n",
      "['a129.wav', '0', 'a']\n",
      "['a130.wav', '0', 'a']\n",
      "['a131.wav', '0', 'a']\n",
      "['a132.wav', '0', 'a']\n",
      "['a133.wav', '0', 'a']\n",
      "['a134.wav', '0', 'a']\n",
      "['a135.wav', '0', 'a']\n",
      "['a136.wav', '0', 'a']\n",
      "['a137.wav', '0', 'a']\n",
      "['a138.wav', '0', 'a']\n",
      "['a139.wav', '0', 'a']\n",
      "['a140.wav', '0', 'a']\n",
      "['a141.wav', '0', 'a']\n",
      "['a142.wav', '0', 'a']\n",
      "['a143.wav', '0', 'a']\n",
      "['a144.wav', '0', 'a']\n",
      "['a145.wav', '0', 'a']\n",
      "['a146.wav', '0', 'a']\n",
      "['a147.wav', '0', 'a']\n",
      "['a148.wav', '0', 'a']\n",
      "['a149.wav', '0', 'a']\n",
      "['a150.wav', '0', 'a']\n",
      "['a151.wav', '0', 'a']\n",
      "['a152.wav', '0', 'a']\n",
      "['a153.wav', '0', 'a']\n",
      "['a154.wav', '0', 'a']\n",
      "['a155.wav', '0', 'a']\n",
      "['a156.wav', '0', 'a']\n",
      "['a157.wav', '0', 'a']\n",
      "['a158.wav', '0', 'a']\n",
      "['a159.wav', '0', 'a']\n",
      "['a160.wav', '0', 'a']\n",
      "['a161.wav', '0', 'a']\n",
      "['a162.wav', '0', 'a']\n",
      "['a163.wav', '0', 'a']\n",
      "['a164.wav', '0', 'a']\n",
      "['a165.wav', '0', 'a']\n",
      "['a166.wav', '0', 'a']\n",
      "['a167.wav', '0', 'a']\n",
      "['a168.wav', '0', 'a']\n",
      "['a169.wav', '0', 'a']\n",
      "['a170.wav', '0', 'a']\n",
      "['a171.wav', '0', 'a']\n",
      "['a172.wav', '0', 'a']\n",
      "['a173.wav', '0', 'a']\n",
      "['a174.wav', '0', 'a']\n",
      "['a175.wav', '0', 'a']\n",
      "['a176.wav', '0', 'a']\n",
      "['a177.wav', '0', 'a']\n",
      "['a178.wav', '0', 'a']\n",
      "['a179.wav', '0', 'a']\n",
      "['a180.wav', '0', 'a']\n",
      "['a181.wav', '0', 'a']\n",
      "['a182.wav', '0', 'a']\n",
      "['a183.wav', '0', 'a']\n",
      "['a184.wav', '0', 'a']\n",
      "['a185.wav', '0', 'a']\n",
      "['a186.wav', '0', 'a']\n",
      "['a187.wav', '0', 'a']\n",
      "['a188.wav', '0', 'a']\n",
      "['a189.wav', '0', 'a']\n",
      "['a190.wav', '0', 'a']\n",
      "['a191.wav', '0', 'a']\n",
      "['a192.wav', '0', 'a']\n",
      "['a193.wav', '0', 'a']\n",
      "['a194.wav', '0', 'a']\n",
      "['a195.wav', '0', 'a']\n",
      "['a196.wav', '0', 'a']\n",
      "['a197.wav', '0', 'a']\n",
      "['a198.wav', '0', 'a']\n",
      "['a199.wav', '0', 'a']\n",
      "['a200.wav', '0', 'a']\n",
      "['am1.wav', '1', 'am']\n",
      "['am2.wav', '1', 'am']\n",
      "['am3.wav', '1', 'am']\n",
      "['am4.wav', '1', 'am']\n",
      "['am5.wav', '1', 'am']\n",
      "['am6.wav', '1', 'am']\n",
      "['am7.wav', '1', 'am']\n",
      "['am8.wav', '1', 'am']\n",
      "['am9.wav', '1', 'am']\n",
      "['am10.wav', '1', 'am']\n",
      "['am11.wav', '1', 'am']\n",
      "['am12.wav', '1', 'am']\n",
      "['am13.wav', '1', 'am']\n",
      "['am14.wav', '1', 'am']\n",
      "['am15.wav', '1', 'am']\n",
      "['am16.wav', '1', 'am']\n",
      "['am17.wav', '1', 'am']\n",
      "['am18.wav', '1', 'am']\n",
      "['am19.wav', '1', 'am']\n",
      "['am20.wav', '1', 'am']\n",
      "['am21.wav', '1', 'am']\n",
      "['am22.wav', '1', 'am']\n",
      "['am23.wav', '1', 'am']\n",
      "['am24.wav', '1', 'am']\n",
      "['am25.wav', '1', 'am']\n",
      "['am26.wav', '1', 'am']\n",
      "['am27.wav', '1', 'am']\n",
      "['am28.wav', '1', 'am']\n",
      "['am29.wav', '1', 'am']\n",
      "['am30.wav', '1', 'am']\n",
      "['am31.wav', '1', 'am']\n",
      "['am32.wav', '1', 'am']\n",
      "['am33.wav', '1', 'am']\n",
      "['am34.wav', '1', 'am']\n",
      "['am35.wav', '1', 'am']\n",
      "['am36.wav', '1', 'am']\n",
      "['am37.wav', '1', 'am']\n",
      "['am38.wav', '1', 'am']\n",
      "['am39.wav', '1', 'am']\n",
      "['am40.wav', '1', 'am']\n",
      "['am41.wav', '1', 'am']\n",
      "['am42.wav', '1', 'am']\n",
      "['am43.wav', '1', 'am']\n",
      "['am44.wav', '1', 'am']\n",
      "['am45.wav', '1', 'am']\n",
      "['am46.wav', '1', 'am']\n",
      "['am47.wav', '1', 'am']\n",
      "['am48.wav', '1', 'am']\n",
      "['am49.wav', '1', 'am']\n",
      "['am50.wav', '1', 'am']\n",
      "['am51.wav', '1', 'am']\n",
      "['am52.wav', '1', 'am']\n",
      "['am53.wav', '1', 'am']\n",
      "['am54.wav', '1', 'am']\n",
      "['am55.wav', '1', 'am']\n",
      "['am56.wav', '1', 'am']\n",
      "['am57.wav', '1', 'am']\n",
      "['am58.wav', '1', 'am']\n",
      "['am59.wav', '1', 'am']\n",
      "['am60.wav', '1', 'am']\n",
      "['am61.wav', '1', 'am']\n",
      "['am62.wav', '1', 'am']\n",
      "['am63.wav', '1', 'am']\n",
      "['am64.wav', '1', 'am']\n",
      "['am65.wav', '1', 'am']\n",
      "['am66.wav', '1', 'am']\n",
      "['am67.wav', '1', 'am']\n",
      "['am68.wav', '1', 'am']\n",
      "['am69.wav', '1', 'am']\n",
      "['am70.wav', '1', 'am']\n",
      "['am71.wav', '1', 'am']\n",
      "['am72.wav', '1', 'am']\n",
      "['am73.wav', '1', 'am']\n",
      "['am74.wav', '1', 'am']\n",
      "['am75.wav', '1', 'am']\n",
      "['am76.wav', '1', 'am']\n",
      "['am77.wav', '1', 'am']\n",
      "['am78.wav', '1', 'am']\n",
      "['am79.wav', '1', 'am']\n",
      "['am80.wav', '1', 'am']\n",
      "['am81.wav', '1', 'am']\n",
      "['am82.wav', '1', 'am']\n",
      "['am83.wav', '1', 'am']\n",
      "['am84.wav', '1', 'am']\n",
      "['am85.wav', '1', 'am']\n",
      "['am86.wav', '1', 'am']\n",
      "['am87.wav', '1', 'am']\n",
      "['am88.wav', '1', 'am']\n",
      "['am89.wav', '1', 'am']\n",
      "['am90.wav', '1', 'am']\n",
      "['am91.wav', '1', 'am']\n",
      "['am92.wav', '1', 'am']\n",
      "['am93.wav', '1', 'am']\n",
      "['am94.wav', '1', 'am']\n",
      "['am95.wav', '1', 'am']\n",
      "['am96.wav', '1', 'am']\n",
      "['am97.wav', '1', 'am']\n",
      "['am98.wav', '1', 'am']\n",
      "['am99.wav', '1', 'am']\n",
      "['am100.wav', '1', 'am']\n",
      "['am101.wav', '1', 'am']\n",
      "['am102.wav', '1', 'am']\n",
      "['am103.wav', '1', 'am']\n",
      "['am104.wav', '1', 'am']\n",
      "['am105.wav', '1', 'am']\n",
      "['am106.wav', '1', 'am']\n",
      "['am107.wav', '1', 'am']\n",
      "['am108.wav', '1', 'am']\n",
      "['am109.wav', '1', 'am']\n",
      "['am110.wav', '1', 'am']\n",
      "['am111.wav', '1', 'am']\n",
      "['am112.wav', '1', 'am']\n",
      "['am113.wav', '1', 'am']\n",
      "['am114.wav', '1', 'am']\n",
      "['am115.wav', '1', 'am']\n",
      "['am116.wav', '1', 'am']\n",
      "['am117.wav', '1', 'am']\n",
      "['am118.wav', '1', 'am']\n",
      "['am119.wav', '1', 'am']\n",
      "['am120.wav', '1', 'am']\n",
      "['am121.wav', '1', 'am']\n",
      "['am122.wav', '1', 'am']\n",
      "['am123.wav', '1', 'am']\n",
      "['am124.wav', '1', 'am']\n",
      "['am125.wav', '1', 'am']\n",
      "['am126.wav', '1', 'am']\n",
      "['am127.wav', '1', 'am']\n",
      "['am128.wav', '1', 'am']\n",
      "['am129.wav', '1', 'am']\n",
      "['am130.wav', '1', 'am']\n",
      "['am131.wav', '1', 'am']\n",
      "['am132.wav', '1', 'am']\n",
      "['am133.wav', '1', 'am']\n",
      "['am134.wav', '1', 'am']\n",
      "['am135.wav', '1', 'am']\n",
      "['am136.wav', '1', 'am']\n",
      "['am137.wav', '1', 'am']\n",
      "['am138.wav', '1', 'am']\n",
      "['am139.wav', '1', 'am']\n",
      "['am140.wav', '1', 'am']\n",
      "['am141.wav', '1', 'am']\n",
      "['am142.wav', '1', 'am']\n",
      "['am143.wav', '1', 'am']\n",
      "['am144.wav', '1', 'am']\n",
      "['am145.wav', '1', 'am']\n",
      "['am146.wav', '1', 'am']\n",
      "['am147.wav', '1', 'am']\n",
      "['am148.wav', '1', 'am']\n",
      "['am149.wav', '1', 'am']\n",
      "['am150.wav', '1', 'am']\n",
      "['am151.wav', '1', 'am']\n",
      "['am152.wav', '1', 'am']\n",
      "['am153.wav', '1', 'am']\n",
      "['am154.wav', '1', 'am']\n",
      "['am155.wav', '1', 'am']\n",
      "['am156.wav', '1', 'am']\n",
      "['am157.wav', '1', 'am']\n",
      "['am158.wav', '1', 'am']\n",
      "['am159.wav', '1', 'am']\n",
      "['am160.wav', '1', 'am']\n",
      "['am161.wav', '1', 'am']\n",
      "['am162.wav', '1', 'am']\n",
      "['am163.wav', '1', 'am']\n",
      "['am164.wav', '1', 'am']\n",
      "['am165.wav', '1', 'am']\n",
      "['am166.wav', '1', 'am']\n",
      "['am167.wav', '1', 'am']\n",
      "['am168.wav', '1', 'am']\n",
      "['am169.wav', '1', 'am']\n",
      "['am170.wav', '1', 'am']\n",
      "['am171.wav', '1', 'am']\n",
      "['am172.wav', '1', 'am']\n",
      "['am173.wav', '1', 'am']\n",
      "['am174.wav', '1', 'am']\n",
      "['am175.wav', '1', 'am']\n",
      "['am176.wav', '1', 'am']\n",
      "['am177.wav', '1', 'am']\n",
      "['am178.wav', '1', 'am']\n",
      "['am179.wav', '1', 'am']\n",
      "['am180.wav', '1', 'am']\n",
      "['am181.wav', '1', 'am']\n",
      "['am182.wav', '1', 'am']\n",
      "['am183.wav', '1', 'am']\n",
      "['am184.wav', '1', 'am']\n",
      "['am185.wav', '1', 'am']\n",
      "['am186.wav', '1', 'am']\n",
      "['am187.wav', '1', 'am']\n",
      "['am188.wav', '1', 'am']\n",
      "['am189.wav', '1', 'am']\n",
      "['am190.wav', '1', 'am']\n",
      "['am191.wav', '1', 'am']\n",
      "['am192.wav', '1', 'am']\n",
      "['am193.wav', '1', 'am']\n",
      "['am194.wav', '1', 'am']\n",
      "['am195.wav', '1', 'am']\n",
      "['am196.wav', '1', 'am']\n",
      "['am197.wav', '1', 'am']\n",
      "['am198.wav', '1', 'am']\n",
      "['am199.wav', '1', 'am']\n",
      "['am200.wav', '1', 'am']\n",
      "['bm1.wav', '2', 'bm']\n",
      "['bm2.wav', '2', 'bm']\n",
      "['bm3.wav', '2', 'bm']\n",
      "['bm4.wav', '2', 'bm']\n",
      "['bm5.wav', '2', 'bm']\n",
      "['bm6.wav', '2', 'bm']\n",
      "['bm7.wav', '2', 'bm']\n",
      "['bm8.wav', '2', 'bm']\n",
      "['bm9.wav', '2', 'bm']\n",
      "['bm10.wav', '2', 'bm']\n",
      "['bm11.wav', '2', 'bm']\n",
      "['bm12.wav', '2', 'bm']\n",
      "['bm13.wav', '2', 'bm']\n",
      "['bm14.wav', '2', 'bm']\n",
      "['bm15.wav', '2', 'bm']\n",
      "['bm16.wav', '2', 'bm']\n",
      "['bm17.wav', '2', 'bm']\n",
      "['bm18.wav', '2', 'bm']\n",
      "['bm19.wav', '2', 'bm']\n",
      "['bm20.wav', '2', 'bm']\n",
      "['bm21.wav', '2', 'bm']\n",
      "['bm22.wav', '2', 'bm']\n",
      "['bm23.wav', '2', 'bm']\n",
      "['bm24.wav', '2', 'bm']\n",
      "['bm25.wav', '2', 'bm']\n",
      "['bm26.wav', '2', 'bm']\n",
      "['bm27.wav', '2', 'bm']\n",
      "['bm28.wav', '2', 'bm']\n",
      "['bm29.wav', '2', 'bm']\n",
      "['bm30.wav', '2', 'bm']\n",
      "['bm31.wav', '2', 'bm']\n",
      "['bm32.wav', '2', 'bm']\n",
      "['bm33.wav', '2', 'bm']\n",
      "['bm34.wav', '2', 'bm']\n",
      "['bm35.wav', '2', 'bm']\n",
      "['bm36.wav', '2', 'bm']\n",
      "['bm37.wav', '2', 'bm']\n",
      "['bm38.wav', '2', 'bm']\n",
      "['bm39.wav', '2', 'bm']\n",
      "['bm40.wav', '2', 'bm']\n",
      "['bm41.wav', '2', 'bm']\n",
      "['bm42.wav', '2', 'bm']\n",
      "['bm43.wav', '2', 'bm']\n",
      "['bm44.wav', '2', 'bm']\n",
      "['bm45.wav', '2', 'bm']\n",
      "['bm46.wav', '2', 'bm']\n",
      "['bm47.wav', '2', 'bm']\n",
      "['bm48.wav', '2', 'bm']\n",
      "['bm49.wav', '2', 'bm']\n",
      "['bm50.wav', '2', 'bm']\n",
      "['bm51.wav', '2', 'bm']\n",
      "['bm52.wav', '2', 'bm']\n",
      "['bm53.wav', '2', 'bm']\n",
      "['bm54.wav', '2', 'bm']\n",
      "['bm55.wav', '2', 'bm']\n",
      "['bm56.wav', '2', 'bm']\n",
      "['bm57.wav', '2', 'bm']\n",
      "['bm58.wav', '2', 'bm']\n",
      "['bm59.wav', '2', 'bm']\n",
      "['bm60.wav', '2', 'bm']\n",
      "['bm61.wav', '2', 'bm']\n",
      "['bm62.wav', '2', 'bm']\n",
      "['bm63.wav', '2', 'bm']\n",
      "['bm64.wav', '2', 'bm']\n",
      "['bm65.wav', '2', 'bm']\n",
      "['bm66.wav', '2', 'bm']\n",
      "['bm67.wav', '2', 'bm']\n",
      "['bm68.wav', '2', 'bm']\n",
      "['bm69.wav', '2', 'bm']\n",
      "['bm70.wav', '2', 'bm']\n",
      "['bm71.wav', '2', 'bm']\n",
      "['bm72.wav', '2', 'bm']\n",
      "['bm73.wav', '2', 'bm']\n",
      "['bm74.wav', '2', 'bm']\n",
      "['bm75.wav', '2', 'bm']\n",
      "['bm76.wav', '2', 'bm']\n",
      "['bm77.wav', '2', 'bm']\n",
      "['bm78.wav', '2', 'bm']\n",
      "['bm79.wav', '2', 'bm']\n",
      "['bm80.wav', '2', 'bm']\n",
      "['bm81.wav', '2', 'bm']\n",
      "['bm82.wav', '2', 'bm']\n",
      "['bm83.wav', '2', 'bm']\n",
      "['bm84.wav', '2', 'bm']\n",
      "['bm85.wav', '2', 'bm']\n",
      "['bm86.wav', '2', 'bm']\n",
      "['bm87.wav', '2', 'bm']\n",
      "['bm88.wav', '2', 'bm']\n",
      "['bm89.wav', '2', 'bm']\n",
      "['bm90.wav', '2', 'bm']\n",
      "['bm91.wav', '2', 'bm']\n",
      "['bm92.wav', '2', 'bm']\n",
      "['bm93.wav', '2', 'bm']\n",
      "['bm94.wav', '2', 'bm']\n",
      "['bm95.wav', '2', 'bm']\n",
      "['bm96.wav', '2', 'bm']\n",
      "['bm97.wav', '2', 'bm']\n",
      "['bm98.wav', '2', 'bm']\n",
      "['bm99.wav', '2', 'bm']\n",
      "['bm100.wav', '2', 'bm']\n",
      "['bm101.wav', '2', 'bm']\n",
      "['bm102.wav', '2', 'bm']\n",
      "['bm103.wav', '2', 'bm']\n",
      "['bm104.wav', '2', 'bm']\n",
      "['bm105.wav', '2', 'bm']\n",
      "['bm106.wav', '2', 'bm']\n",
      "['bm107.wav', '2', 'bm']\n",
      "['bm108.wav', '2', 'bm']\n",
      "['bm109.wav', '2', 'bm']\n",
      "['bm110.wav', '2', 'bm']\n",
      "['bm111.wav', '2', 'bm']\n",
      "['bm112.wav', '2', 'bm']\n",
      "['bm113.wav', '2', 'bm']\n",
      "['bm114.wav', '2', 'bm']\n",
      "['bm115.wav', '2', 'bm']\n",
      "['bm116.wav', '2', 'bm']\n",
      "['bm117.wav', '2', 'bm']\n",
      "['bm118.wav', '2', 'bm']\n",
      "['bm119.wav', '2', 'bm']\n",
      "['bm120.wav', '2', 'bm']\n",
      "['bm121.wav', '2', 'bm']\n",
      "['bm122.wav', '2', 'bm']\n",
      "['bm123.wav', '2', 'bm']\n",
      "['bm124.wav', '2', 'bm']\n",
      "['bm125.wav', '2', 'bm']\n",
      "['bm126.wav', '2', 'bm']\n",
      "['bm127.wav', '2', 'bm']\n",
      "['bm128.wav', '2', 'bm']\n",
      "['bm129.wav', '2', 'bm']\n",
      "['bm130.wav', '2', 'bm']\n",
      "['bm131.wav', '2', 'bm']\n",
      "['bm132.wav', '2', 'bm']\n",
      "['bm133.wav', '2', 'bm']\n",
      "['bm134.wav', '2', 'bm']\n",
      "['bm135.wav', '2', 'bm']\n",
      "['bm136.wav', '2', 'bm']\n",
      "['bm137.wav', '2', 'bm']\n",
      "['bm138.wav', '2', 'bm']\n",
      "['bm139.wav', '2', 'bm']\n",
      "['bm140.wav', '2', 'bm']\n",
      "['bm141.wav', '2', 'bm']\n",
      "['bm142.wav', '2', 'bm']\n",
      "['bm143.wav', '2', 'bm']\n",
      "['bm144.wav', '2', 'bm']\n",
      "['bm145.wav', '2', 'bm']\n",
      "['bm146.wav', '2', 'bm']\n",
      "['bm147.wav', '2', 'bm']\n",
      "['bm148.wav', '2', 'bm']\n",
      "['bm149.wav', '2', 'bm']\n",
      "['bm150.wav', '2', 'bm']\n",
      "['bm151.wav', '2', 'bm']\n",
      "['bm152.wav', '2', 'bm']\n",
      "['bm153.wav', '2', 'bm']\n",
      "['bm154.wav', '2', 'bm']\n",
      "['bm155.wav', '2', 'bm']\n",
      "['bm156.wav', '2', 'bm']\n",
      "['bm157.wav', '2', 'bm']\n",
      "['bm158.wav', '2', 'bm']\n",
      "['bm159.wav', '2', 'bm']\n",
      "['bm160.wav', '2', 'bm']\n",
      "['bm161.wav', '2', 'bm']\n",
      "['bm162.wav', '2', 'bm']\n",
      "['bm163.wav', '2', 'bm']\n",
      "['bm164.wav', '2', 'bm']\n",
      "['bm165.wav', '2', 'bm']\n",
      "['bm166.wav', '2', 'bm']\n",
      "['bm167.wav', '2', 'bm']\n",
      "['bm168.wav', '2', 'bm']\n",
      "['bm169.wav', '2', 'bm']\n",
      "['bm170.wav', '2', 'bm']\n",
      "['bm171.wav', '2', 'bm']\n",
      "['bm172.wav', '2', 'bm']\n",
      "['bm173.wav', '2', 'bm']\n",
      "['bm174.wav', '2', 'bm']\n",
      "['bm175.wav', '2', 'bm']\n",
      "['bm176.wav', '2', 'bm']\n",
      "['bm177.wav', '2', 'bm']\n",
      "['bm178.wav', '2', 'bm']\n",
      "['bm179.wav', '2', 'bm']\n",
      "['bm180.wav', '2', 'bm']\n",
      "['bm181.wav', '2', 'bm']\n",
      "['bm182.wav', '2', 'bm']\n",
      "['bm183.wav', '2', 'bm']\n",
      "['bm184.wav', '2', 'bm']\n",
      "['bm185.wav', '2', 'bm']\n",
      "['bm186.wav', '2', 'bm']\n",
      "['bm187.wav', '2', 'bm']\n",
      "['bm188.wav', '2', 'bm']\n",
      "['bm189.wav', '2', 'bm']\n",
      "['bm190.wav', '2', 'bm']\n",
      "['bm191.wav', '2', 'bm']\n",
      "['bm192.wav', '2', 'bm']\n",
      "['bm193.wav', '2', 'bm']\n",
      "['bm194.wav', '2', 'bm']\n",
      "['bm195.wav', '2', 'bm']\n",
      "['bm196.wav', '2', 'bm']\n",
      "['bm197.wav', '2', 'bm']\n",
      "['bm198.wav', '2', 'bm']\n",
      "['bm199.wav', '2', 'bm']\n",
      "['bm200.wav', '2', 'bm']\n",
      "['c1.wav', '3', 'c']\n",
      "['c2.wav', '3', 'c']\n",
      "['c3.wav', '3', 'c']\n",
      "['c4.wav', '3', 'c']\n",
      "['c5.wav', '3', 'c']\n",
      "['c6.wav', '3', 'c']\n",
      "['c7.wav', '3', 'c']\n",
      "['c8.wav', '3', 'c']\n",
      "['c9.wav', '3', 'c']\n",
      "['c10.wav', '3', 'c']\n",
      "['c11.wav', '3', 'c']\n",
      "['c12.wav', '3', 'c']\n",
      "['c13.wav', '3', 'c']\n",
      "['c14.wav', '3', 'c']\n",
      "['c15.wav', '3', 'c']\n",
      "['c16.wav', '3', 'c']\n",
      "['c17.wav', '3', 'c']\n",
      "['c18.wav', '3', 'c']\n",
      "['c19.wav', '3', 'c']\n",
      "['c20.wav', '3', 'c']\n",
      "['c21.wav', '3', 'c']\n",
      "['c22.wav', '3', 'c']\n",
      "['c23.wav', '3', 'c']\n",
      "['c24.wav', '3', 'c']\n",
      "['c25.wav', '3', 'c']\n",
      "['c26.wav', '3', 'c']\n",
      "['c27.wav', '3', 'c']\n",
      "['c28.wav', '3', 'c']\n",
      "['c29.wav', '3', 'c']\n",
      "['c30.wav', '3', 'c']\n",
      "['c31.wav', '3', 'c']\n",
      "['c32.wav', '3', 'c']\n",
      "['c33.wav', '3', 'c']\n",
      "['c34.wav', '3', 'c']\n",
      "['c35.wav', '3', 'c']\n",
      "['c36.wav', '3', 'c']\n",
      "['c37.wav', '3', 'c']\n",
      "['c38.wav', '3', 'c']\n",
      "['c39.wav', '3', 'c']\n",
      "['c40.wav', '3', 'c']\n",
      "['c41.wav', '3', 'c']\n",
      "['c42.wav', '3', 'c']\n",
      "['c43.wav', '3', 'c']\n",
      "['c44.wav', '3', 'c']\n",
      "['c45.wav', '3', 'c']\n",
      "['c46.wav', '3', 'c']\n",
      "['c47.wav', '3', 'c']\n",
      "['c48.wav', '3', 'c']\n",
      "['c49.wav', '3', 'c']\n",
      "['c50.wav', '3', 'c']\n",
      "['c51.wav', '3', 'c']\n",
      "['c52.wav', '3', 'c']\n",
      "['c53.wav', '3', 'c']\n",
      "['c54.wav', '3', 'c']\n",
      "['c55.wav', '3', 'c']\n",
      "['c56.wav', '3', 'c']\n",
      "['c57.wav', '3', 'c']\n",
      "['c58.wav', '3', 'c']\n",
      "['c59.wav', '3', 'c']\n",
      "['c60.wav', '3', 'c']\n",
      "['c61.wav', '3', 'c']\n",
      "['c62.wav', '3', 'c']\n",
      "['c63.wav', '3', 'c']\n",
      "['c64.wav', '3', 'c']\n",
      "['c65.wav', '3', 'c']\n",
      "['c66.wav', '3', 'c']\n",
      "['c67.wav', '3', 'c']\n",
      "['c68.wav', '3', 'c']\n",
      "['c69.wav', '3', 'c']\n",
      "['c70.wav', '3', 'c']\n",
      "['c71.wav', '3', 'c']\n",
      "['c72.wav', '3', 'c']\n",
      "['c73.wav', '3', 'c']\n",
      "['c74.wav', '3', 'c']\n",
      "['c75.wav', '3', 'c']\n",
      "['c76.wav', '3', 'c']\n",
      "['c77.wav', '3', 'c']\n",
      "['c78.wav', '3', 'c']\n",
      "['c79.wav', '3', 'c']\n",
      "['c80.wav', '3', 'c']\n",
      "['c81.wav', '3', 'c']\n",
      "['c82.wav', '3', 'c']\n",
      "['c83.wav', '3', 'c']\n",
      "['c84.wav', '3', 'c']\n",
      "['c85.wav', '3', 'c']\n",
      "['c86.wav', '3', 'c']\n",
      "['c87.wav', '3', 'c']\n",
      "['c88.wav', '3', 'c']\n",
      "['c89.wav', '3', 'c']\n",
      "['c90.wav', '3', 'c']\n",
      "['c91.wav', '3', 'c']\n",
      "['c92.wav', '3', 'c']\n",
      "['c93.wav', '3', 'c']\n",
      "['c94.wav', '3', 'c']\n",
      "['c95.wav', '3', 'c']\n",
      "['c96.wav', '3', 'c']\n",
      "['c97.wav', '3', 'c']\n",
      "['c98.wav', '3', 'c']\n",
      "['c99.wav', '3', 'c']\n",
      "['c100.wav', '3', 'c']\n",
      "['c101.wav', '3', 'c']\n",
      "['c102.wav', '3', 'c']\n",
      "['c103.wav', '3', 'c']\n",
      "['c104.wav', '3', 'c']\n",
      "['c105.wav', '3', 'c']\n",
      "['c106.wav', '3', 'c']\n",
      "['c107.wav', '3', 'c']\n",
      "['c108.wav', '3', 'c']\n",
      "['c109.wav', '3', 'c']\n",
      "['c110.wav', '3', 'c']\n",
      "['c111.wav', '3', 'c']\n",
      "['c112.wav', '3', 'c']\n",
      "['c113.wav', '3', 'c']\n",
      "['c114.wav', '3', 'c']\n",
      "['c115.wav', '3', 'c']\n",
      "['c116.wav', '3', 'c']\n",
      "['c117.wav', '3', 'c']\n",
      "['c118.wav', '3', 'c']\n",
      "['c119.wav', '3', 'c']\n",
      "['c120.wav', '3', 'c']\n",
      "['c121.wav', '3', 'c']\n",
      "['c122.wav', '3', 'c']\n",
      "['c123.wav', '3', 'c']\n",
      "['c124.wav', '3', 'c']\n",
      "['c125.wav', '3', 'c']\n",
      "['c126.wav', '3', 'c']\n",
      "['c127.wav', '3', 'c']\n",
      "['c128.wav', '3', 'c']\n",
      "['c129.wav', '3', 'c']\n",
      "['c130.wav', '3', 'c']\n",
      "['c131.wav', '3', 'c']\n",
      "['c132.wav', '3', 'c']\n",
      "['c133.wav', '3', 'c']\n",
      "['c134.wav', '3', 'c']\n",
      "['c135.wav', '3', 'c']\n",
      "['c136.wav', '3', 'c']\n",
      "['c137.wav', '3', 'c']\n",
      "['c138.wav', '3', 'c']\n",
      "['c139.wav', '3', 'c']\n",
      "['c140.wav', '3', 'c']\n",
      "['c141.wav', '3', 'c']\n",
      "['c142.wav', '3', 'c']\n",
      "['c143.wav', '3', 'c']\n",
      "['c144.wav', '3', 'c']\n",
      "['c145.wav', '3', 'c']\n",
      "['c146.wav', '3', 'c']\n",
      "['c147.wav', '3', 'c']\n",
      "['c148.wav', '3', 'c']\n",
      "['c149.wav', '3', 'c']\n",
      "['c150.wav', '3', 'c']\n",
      "['c151.wav', '3', 'c']\n",
      "['c152.wav', '3', 'c']\n",
      "['c153.wav', '3', 'c']\n",
      "['c154.wav', '3', 'c']\n",
      "['c155.wav', '3', 'c']\n",
      "['c156.wav', '3', 'c']\n",
      "['c157.wav', '3', 'c']\n",
      "['c158.wav', '3', 'c']\n",
      "['c159.wav', '3', 'c']\n",
      "['c160.wav', '3', 'c']\n",
      "['c161.wav', '3', 'c']\n",
      "['c162.wav', '3', 'c']\n",
      "['c163.wav', '3', 'c']\n",
      "['c164.wav', '3', 'c']\n",
      "['c165.wav', '3', 'c']\n",
      "['c166.wav', '3', 'c']\n",
      "['c167.wav', '3', 'c']\n",
      "['c168.wav', '3', 'c']\n",
      "['c169.wav', '3', 'c']\n",
      "['c170.wav', '3', 'c']\n",
      "['c171.wav', '3', 'c']\n",
      "['c172.wav', '3', 'c']\n",
      "['c173.wav', '3', 'c']\n",
      "['c174.wav', '3', 'c']\n",
      "['c175.wav', '3', 'c']\n",
      "['c176.wav', '3', 'c']\n",
      "['c177.wav', '3', 'c']\n",
      "['c178.wav', '3', 'c']\n",
      "['c179.wav', '3', 'c']\n",
      "['c180.wav', '3', 'c']\n",
      "['c181.wav', '3', 'c']\n",
      "['c182.wav', '3', 'c']\n",
      "['c183.wav', '3', 'c']\n",
      "['c184.wav', '3', 'c']\n",
      "['c185.wav', '3', 'c']\n",
      "['c186.wav', '3', 'c']\n",
      "['c187.wav', '3', 'c']\n",
      "['c188.wav', '3', 'c']\n",
      "['c189.wav', '3', 'c']\n",
      "['c190.wav', '3', 'c']\n",
      "['c191.wav', '3', 'c']\n",
      "['c192.wav', '3', 'c']\n",
      "['c193.wav', '3', 'c']\n",
      "['c194.wav', '3', 'c']\n",
      "['c195.wav', '3', 'c']\n",
      "['c196.wav', '3', 'c']\n",
      "['c197.wav', '3', 'c']\n",
      "['c198.wav', '3', 'c']\n",
      "['c199.wav', '3', 'c']\n",
      "['c200.wav', '3', 'c']\n",
      "['d1.wav', '4', 'd']\n",
      "['d2.wav', '4', 'd']\n",
      "['d3.wav', '4', 'd']\n",
      "['d4.wav', '4', 'd']\n",
      "['d5.wav', '4', 'd']\n",
      "['d6.wav', '4', 'd']\n",
      "['d7.wav', '4', 'd']\n",
      "['d8.wav', '4', 'd']\n",
      "['d9.wav', '4', 'd']\n",
      "['d10.wav', '4', 'd']\n",
      "['d11.wav', '4', 'd']\n",
      "['d12.wav', '4', 'd']\n",
      "['d13.wav', '4', 'd']\n",
      "['d14.wav', '4', 'd']\n",
      "['d15.wav', '4', 'd']\n",
      "['d16.wav', '4', 'd']\n",
      "['d17.wav', '4', 'd']\n",
      "['d18.wav', '4', 'd']\n",
      "['d19.wav', '4', 'd']\n",
      "['d20.wav', '4', 'd']\n",
      "['d21.wav', '4', 'd']\n",
      "['d22.wav', '4', 'd']\n",
      "['d23.wav', '4', 'd']\n",
      "['d24.wav', '4', 'd']\n",
      "['d25.wav', '4', 'd']\n",
      "['d26.wav', '4', 'd']\n",
      "['d27.wav', '4', 'd']\n",
      "['d28.wav', '4', 'd']\n",
      "['d29.wav', '4', 'd']\n",
      "['d30.wav', '4', 'd']\n",
      "['d31.wav', '4', 'd']\n",
      "['d32.wav', '4', 'd']\n",
      "['d33.wav', '4', 'd']\n",
      "['d34.wav', '4', 'd']\n",
      "['d35.wav', '4', 'd']\n",
      "['d36.wav', '4', 'd']\n",
      "['d37.wav', '4', 'd']\n",
      "['d38.wav', '4', 'd']\n",
      "['d39.wav', '4', 'd']\n",
      "['d40.wav', '4', 'd']\n",
      "['d41.wav', '4', 'd']\n",
      "['d42.wav', '4', 'd']\n",
      "['d43.wav', '4', 'd']\n",
      "['d44.wav', '4', 'd']\n",
      "['d45.wav', '4', 'd']\n",
      "['d46.wav', '4', 'd']\n",
      "['d47.wav', '4', 'd']\n",
      "['d48.wav', '4', 'd']\n",
      "['d49.wav', '4', 'd']\n",
      "['d50.wav', '4', 'd']\n",
      "['d51.wav', '4', 'd']\n",
      "['d52.wav', '4', 'd']\n",
      "['d53.wav', '4', 'd']\n",
      "['d54.wav', '4', 'd']\n",
      "['d55.wav', '4', 'd']\n",
      "['d56.wav', '4', 'd']\n",
      "['d57.wav', '4', 'd']\n",
      "['d58.wav', '4', 'd']\n",
      "['d59.wav', '4', 'd']\n",
      "['d60.wav', '4', 'd']\n",
      "['d61.wav', '4', 'd']\n",
      "['d62.wav', '4', 'd']\n",
      "['d63.wav', '4', 'd']\n",
      "['d64.wav', '4', 'd']\n",
      "['d65.wav', '4', 'd']\n",
      "['d66.wav', '4', 'd']\n",
      "['d67.wav', '4', 'd']\n",
      "['d68.wav', '4', 'd']\n",
      "['d69.wav', '4', 'd']\n",
      "['d70.wav', '4', 'd']\n",
      "['d71.wav', '4', 'd']\n",
      "['d72.wav', '4', 'd']\n",
      "['d73.wav', '4', 'd']\n",
      "['d74.wav', '4', 'd']\n",
      "['d75.wav', '4', 'd']\n",
      "['d76.wav', '4', 'd']\n",
      "['d77.wav', '4', 'd']\n",
      "['d78.wav', '4', 'd']\n",
      "['d79.wav', '4', 'd']\n",
      "['d80.wav', '4', 'd']\n",
      "['d81.wav', '4', 'd']\n",
      "['d82.wav', '4', 'd']\n",
      "['d83.wav', '4', 'd']\n",
      "['d84.wav', '4', 'd']\n",
      "['d85.wav', '4', 'd']\n",
      "['d86.wav', '4', 'd']\n",
      "['d87.wav', '4', 'd']\n",
      "['d88.wav', '4', 'd']\n",
      "['d89.wav', '4', 'd']\n",
      "['d90.wav', '4', 'd']\n",
      "['d91.wav', '4', 'd']\n",
      "['d92.wav', '4', 'd']\n",
      "['d93.wav', '4', 'd']\n",
      "['d94.wav', '4', 'd']\n",
      "['d95.wav', '4', 'd']\n",
      "['d96.wav', '4', 'd']\n",
      "['d97.wav', '4', 'd']\n",
      "['d98.wav', '4', 'd']\n",
      "['d99.wav', '4', 'd']\n",
      "['d100.wav', '4', 'd']\n",
      "['d101.wav', '4', 'd']\n",
      "['d102.wav', '4', 'd']\n",
      "['d103.wav', '4', 'd']\n",
      "['d104.wav', '4', 'd']\n",
      "['d105.wav', '4', 'd']\n",
      "['d106.wav', '4', 'd']\n",
      "['d107.wav', '4', 'd']\n",
      "['d108.wav', '4', 'd']\n",
      "['d109.wav', '4', 'd']\n",
      "['d110.wav', '4', 'd']\n",
      "['d111.wav', '4', 'd']\n",
      "['d112.wav', '4', 'd']\n",
      "['d113.wav', '4', 'd']\n",
      "['d114.wav', '4', 'd']\n",
      "['d115.wav', '4', 'd']\n",
      "['d116.wav', '4', 'd']\n",
      "['d117.wav', '4', 'd']\n",
      "['d118.wav', '4', 'd']\n",
      "['d119.wav', '4', 'd']\n",
      "['d120.wav', '4', 'd']\n",
      "['d121.wav', '4', 'd']\n",
      "['d122.wav', '4', 'd']\n",
      "['d123.wav', '4', 'd']\n",
      "['d124.wav', '4', 'd']\n",
      "['d125.wav', '4', 'd']\n",
      "['d126.wav', '4', 'd']\n",
      "['d127.wav', '4', 'd']\n",
      "['d128.wav', '4', 'd']\n",
      "['d129.wav', '4', 'd']\n",
      "['d130.wav', '4', 'd']\n",
      "['d131.wav', '4', 'd']\n",
      "['d132.wav', '4', 'd']\n",
      "['d133.wav', '4', 'd']\n",
      "['d134.wav', '4', 'd']\n",
      "['d135.wav', '4', 'd']\n",
      "['d136.wav', '4', 'd']\n",
      "['d137.wav', '4', 'd']\n",
      "['d138.wav', '4', 'd']\n",
      "['d139.wav', '4', 'd']\n",
      "['d140.wav', '4', 'd']\n",
      "['d141.wav', '4', 'd']\n",
      "['d142.wav', '4', 'd']\n",
      "['d143.wav', '4', 'd']\n",
      "['d144.wav', '4', 'd']\n",
      "['d145.wav', '4', 'd']\n",
      "['d146.wav', '4', 'd']\n",
      "['d147.wav', '4', 'd']\n",
      "['d148.wav', '4', 'd']\n",
      "['d149.wav', '4', 'd']\n",
      "['d150.wav', '4', 'd']\n",
      "['d151.wav', '4', 'd']\n",
      "['d152.wav', '4', 'd']\n",
      "['d153.wav', '4', 'd']\n",
      "['d154.wav', '4', 'd']\n",
      "['d155.wav', '4', 'd']\n",
      "['d156.wav', '4', 'd']\n",
      "['d157.wav', '4', 'd']\n",
      "['d158.wav', '4', 'd']\n",
      "['d159.wav', '4', 'd']\n",
      "['d160.wav', '4', 'd']\n",
      "['d161.wav', '4', 'd']\n",
      "['d162.wav', '4', 'd']\n",
      "['d163.wav', '4', 'd']\n",
      "['d164.wav', '4', 'd']\n",
      "['d165.wav', '4', 'd']\n",
      "['d166.wav', '4', 'd']\n",
      "['d167.wav', '4', 'd']\n",
      "['d168.wav', '4', 'd']\n",
      "['d169.wav', '4', 'd']\n",
      "['d170.wav', '4', 'd']\n",
      "['d171.wav', '4', 'd']\n",
      "['d172.wav', '4', 'd']\n",
      "['d173.wav', '4', 'd']\n",
      "['d174.wav', '4', 'd']\n",
      "['d175.wav', '4', 'd']\n",
      "['d176.wav', '4', 'd']\n",
      "['d177.wav', '4', 'd']\n",
      "['d178.wav', '4', 'd']\n",
      "['d179.wav', '4', 'd']\n",
      "['d180.wav', '4', 'd']\n",
      "['d181.wav', '4', 'd']\n",
      "['d182.wav', '4', 'd']\n",
      "['d183.wav', '4', 'd']\n",
      "['d184.wav', '4', 'd']\n",
      "['d185.wav', '4', 'd']\n",
      "['d186.wav', '4', 'd']\n",
      "['d187.wav', '4', 'd']\n",
      "['d188.wav', '4', 'd']\n",
      "['d189.wav', '4', 'd']\n",
      "['d190.wav', '4', 'd']\n",
      "['d191.wav', '4', 'd']\n",
      "['d192.wav', '4', 'd']\n",
      "['d193.wav', '4', 'd']\n",
      "['d194.wav', '4', 'd']\n",
      "['d195.wav', '4', 'd']\n",
      "['d196.wav', '4', 'd']\n",
      "['d197.wav', '4', 'd']\n",
      "['d198.wav', '4', 'd']\n",
      "['d199.wav', '4', 'd']\n",
      "['d200.wav', '4', 'd']\n",
      "['dm1.wav', '5', 'dm']\n",
      "['dm2.wav', '5', 'dm']\n",
      "['dm3.wav', '5', 'dm']\n",
      "['dm4.wav', '5', 'dm']\n",
      "['dm5.wav', '5', 'dm']\n",
      "['dm6.wav', '5', 'dm']\n",
      "['dm7.wav', '5', 'dm']\n",
      "['dm8.wav', '5', 'dm']\n",
      "['dm9.wav', '5', 'dm']\n",
      "['dm10.wav', '5', 'dm']\n",
      "['dm11.wav', '5', 'dm']\n",
      "['dm12.wav', '5', 'dm']\n",
      "['dm13.wav', '5', 'dm']\n",
      "['dm14.wav', '5', 'dm']\n",
      "['dm15.wav', '5', 'dm']\n",
      "['dm16.wav', '5', 'dm']\n",
      "['dm17.wav', '5', 'dm']\n",
      "['dm18.wav', '5', 'dm']\n",
      "['dm19.wav', '5', 'dm']\n",
      "['dm20.wav', '5', 'dm']\n",
      "['dm21.wav', '5', 'dm']\n",
      "['dm22.wav', '5', 'dm']\n",
      "['dm23.wav', '5', 'dm']\n",
      "['dm24.wav', '5', 'dm']\n",
      "['dm25.wav', '5', 'dm']\n",
      "['dm26.wav', '5', 'dm']\n",
      "['dm27.wav', '5', 'dm']\n",
      "['dm28.wav', '5', 'dm']\n",
      "['dm29.wav', '5', 'dm']\n",
      "['dm30.wav', '5', 'dm']\n",
      "['dm31.wav', '5', 'dm']\n",
      "['dm32.wav', '5', 'dm']\n",
      "['dm33.wav', '5', 'dm']\n",
      "['dm34.wav', '5', 'dm']\n",
      "['dm35.wav', '5', 'dm']\n",
      "['dm36.wav', '5', 'dm']\n",
      "['dm37.wav', '5', 'dm']\n",
      "['dm38.wav', '5', 'dm']\n",
      "['dm39.wav', '5', 'dm']\n",
      "['dm40.wav', '5', 'dm']\n",
      "['dm41.wav', '5', 'dm']\n",
      "['dm42.wav', '5', 'dm']\n",
      "['dm43.wav', '5', 'dm']\n",
      "['dm44.wav', '5', 'dm']\n",
      "['dm45.wav', '5', 'dm']\n",
      "['dm46.wav', '5', 'dm']\n",
      "['dm47.wav', '5', 'dm']\n",
      "['dm48.wav', '5', 'dm']\n",
      "['dm49.wav', '5', 'dm']\n",
      "['dm50.wav', '5', 'dm']\n",
      "['dm51.wav', '5', 'dm']\n",
      "['dm52.wav', '5', 'dm']\n",
      "['dm53.wav', '5', 'dm']\n",
      "['dm54.wav', '5', 'dm']\n",
      "['dm55.wav', '5', 'dm']\n",
      "['dm56.wav', '5', 'dm']\n",
      "['dm57.wav', '5', 'dm']\n",
      "['dm58.wav', '5', 'dm']\n",
      "['dm59.wav', '5', 'dm']\n",
      "['dm60.wav', '5', 'dm']\n",
      "['dm61.wav', '5', 'dm']\n",
      "['dm62.wav', '5', 'dm']\n",
      "['dm63.wav', '5', 'dm']\n",
      "['dm64.wav', '5', 'dm']\n",
      "['dm65.wav', '5', 'dm']\n",
      "['dm66.wav', '5', 'dm']\n",
      "['dm67.wav', '5', 'dm']\n",
      "['dm68.wav', '5', 'dm']\n",
      "['dm69.wav', '5', 'dm']\n",
      "['dm70.wav', '5', 'dm']\n",
      "['dm71.wav', '5', 'dm']\n",
      "['dm72.wav', '5', 'dm']\n",
      "['dm73.wav', '5', 'dm']\n",
      "['dm74.wav', '5', 'dm']\n",
      "['dm75.wav', '5', 'dm']\n",
      "['dm76.wav', '5', 'dm']\n",
      "['dm77.wav', '5', 'dm']\n",
      "['dm78.wav', '5', 'dm']\n",
      "['dm79.wav', '5', 'dm']\n",
      "['dm80.wav', '5', 'dm']\n",
      "['dm81.wav', '5', 'dm']\n",
      "['dm82.wav', '5', 'dm']\n",
      "['dm83.wav', '5', 'dm']\n",
      "['dm84.wav', '5', 'dm']\n",
      "['dm85.wav', '5', 'dm']\n",
      "['dm86.wav', '5', 'dm']\n",
      "['dm87.wav', '5', 'dm']\n",
      "['dm88.wav', '5', 'dm']\n",
      "['dm89.wav', '5', 'dm']\n",
      "['dm90.wav', '5', 'dm']\n",
      "['dm91.wav', '5', 'dm']\n",
      "['dm92.wav', '5', 'dm']\n",
      "['dm93.wav', '5', 'dm']\n",
      "['dm94.wav', '5', 'dm']\n",
      "['dm95.wav', '5', 'dm']\n",
      "['dm96.wav', '5', 'dm']\n",
      "['dm97.wav', '5', 'dm']\n",
      "['dm98.wav', '5', 'dm']\n",
      "['dm99.wav', '5', 'dm']\n",
      "['dm100.wav', '5', 'dm']\n",
      "['dm101.wav', '5', 'dm']\n",
      "['dm102.wav', '5', 'dm']\n",
      "['dm103.wav', '5', 'dm']\n",
      "['dm104.wav', '5', 'dm']\n",
      "['dm105.wav', '5', 'dm']\n",
      "['dm106.wav', '5', 'dm']\n",
      "['dm107.wav', '5', 'dm']\n",
      "['dm108.wav', '5', 'dm']\n",
      "['dm109.wav', '5', 'dm']\n",
      "['dm110.wav', '5', 'dm']\n",
      "['dm111.wav', '5', 'dm']\n",
      "['dm112.wav', '5', 'dm']\n",
      "['dm113.wav', '5', 'dm']\n",
      "['dm114.wav', '5', 'dm']\n",
      "['dm115.wav', '5', 'dm']\n",
      "['dm116.wav', '5', 'dm']\n",
      "['dm117.wav', '5', 'dm']\n",
      "['dm118.wav', '5', 'dm']\n",
      "['dm119.wav', '5', 'dm']\n",
      "['dm120.wav', '5', 'dm']\n",
      "['dm121.wav', '5', 'dm']\n",
      "['dm122.wav', '5', 'dm']\n",
      "['dm123.wav', '5', 'dm']\n",
      "['dm124.wav', '5', 'dm']\n",
      "['dm125.wav', '5', 'dm']\n",
      "['dm126.wav', '5', 'dm']\n",
      "['dm127.wav', '5', 'dm']\n",
      "['dm128.wav', '5', 'dm']\n",
      "['dm129.wav', '5', 'dm']\n",
      "['dm130.wav', '5', 'dm']\n",
      "['dm131.wav', '5', 'dm']\n",
      "['dm132.wav', '5', 'dm']\n",
      "['dm133.wav', '5', 'dm']\n",
      "['dm134.wav', '5', 'dm']\n",
      "['dm135.wav', '5', 'dm']\n",
      "['dm136.wav', '5', 'dm']\n",
      "['dm137.wav', '5', 'dm']\n",
      "['dm138.wav', '5', 'dm']\n",
      "['dm139.wav', '5', 'dm']\n",
      "['dm140.wav', '5', 'dm']\n",
      "['dm141.wav', '5', 'dm']\n",
      "['dm142.wav', '5', 'dm']\n",
      "['dm143.wav', '5', 'dm']\n",
      "['dm144.wav', '5', 'dm']\n",
      "['dm145.wav', '5', 'dm']\n",
      "['dm146.wav', '5', 'dm']\n",
      "['dm147.wav', '5', 'dm']\n",
      "['dm148.wav', '5', 'dm']\n",
      "['dm149.wav', '5', 'dm']\n",
      "['dm150.wav', '5', 'dm']\n",
      "['dm151.wav', '5', 'dm']\n",
      "['dm152.wav', '5', 'dm']\n",
      "['dm153.wav', '5', 'dm']\n",
      "['dm154.wav', '5', 'dm']\n",
      "['dm155.wav', '5', 'dm']\n",
      "['dm156.wav', '5', 'dm']\n",
      "['dm157.wav', '5', 'dm']\n",
      "['dm158.wav', '5', 'dm']\n",
      "['dm159.wav', '5', 'dm']\n",
      "['dm160.wav', '5', 'dm']\n",
      "['dm161.wav', '5', 'dm']\n",
      "['dm162.wav', '5', 'dm']\n",
      "['dm163.wav', '5', 'dm']\n",
      "['dm164.wav', '5', 'dm']\n",
      "['dm165.wav', '5', 'dm']\n",
      "['dm166.wav', '5', 'dm']\n",
      "['dm167.wav', '5', 'dm']\n",
      "['dm168.wav', '5', 'dm']\n",
      "['dm169.wav', '5', 'dm']\n",
      "['dm170.wav', '5', 'dm']\n",
      "['dm171.wav', '5', 'dm']\n",
      "['dm172.wav', '5', 'dm']\n",
      "['dm173.wav', '5', 'dm']\n",
      "['dm174.wav', '5', 'dm']\n",
      "['dm175.wav', '5', 'dm']\n",
      "['dm176.wav', '5', 'dm']\n",
      "['dm177.wav', '5', 'dm']\n",
      "['dm178.wav', '5', 'dm']\n",
      "['dm179.wav', '5', 'dm']\n",
      "['dm180.wav', '5', 'dm']\n",
      "['dm181.wav', '5', 'dm']\n",
      "['dm182.wav', '5', 'dm']\n",
      "['dm183.wav', '5', 'dm']\n",
      "['dm184.wav', '5', 'dm']\n",
      "['dm185.wav', '5', 'dm']\n",
      "['dm186.wav', '5', 'dm']\n",
      "['dm187.wav', '5', 'dm']\n",
      "['dm188.wav', '5', 'dm']\n",
      "['dm189.wav', '5', 'dm']\n",
      "['dm190.wav', '5', 'dm']\n",
      "['dm191.wav', '5', 'dm']\n",
      "['dm192.wav', '5', 'dm']\n",
      "['dm193.wav', '5', 'dm']\n",
      "['dm194.wav', '5', 'dm']\n",
      "['dm195.wav', '5', 'dm']\n",
      "['dm196.wav', '5', 'dm']\n",
      "['dm197.wav', '5', 'dm']\n",
      "['dm198.wav', '5', 'dm']\n",
      "['dm199.wav', '5', 'dm']\n",
      "['dm200.wav', '5', 'dm']\n",
      "['e1.wav', '6', 'e']\n",
      "['e2.wav', '6', 'e']\n",
      "['e3.wav', '6', 'e']\n",
      "['e4.wav', '6', 'e']\n",
      "['e5.wav', '6', 'e']\n",
      "['e6.wav', '6', 'e']\n",
      "['e7.wav', '6', 'e']\n",
      "['e8.wav', '6', 'e']\n",
      "['e9.wav', '6', 'e']\n",
      "['e10.wav', '6', 'e']\n",
      "['e11.wav', '6', 'e']\n",
      "['e12.wav', '6', 'e']\n",
      "['e13.wav', '6', 'e']\n",
      "['e14.wav', '6', 'e']\n",
      "['e15.wav', '6', 'e']\n",
      "['e16.wav', '6', 'e']\n",
      "['e17.wav', '6', 'e']\n",
      "['e18.wav', '6', 'e']\n",
      "['e19.wav', '6', 'e']\n",
      "['e20.wav', '6', 'e']\n",
      "['e21.wav', '6', 'e']\n",
      "['e22.wav', '6', 'e']\n",
      "['e23.wav', '6', 'e']\n",
      "['e24.wav', '6', 'e']\n",
      "['e25.wav', '6', 'e']\n",
      "['e26.wav', '6', 'e']\n",
      "['e27.wav', '6', 'e']\n",
      "['e28.wav', '6', 'e']\n",
      "['e29.wav', '6', 'e']\n",
      "['e30.wav', '6', 'e']\n",
      "['e31.wav', '6', 'e']\n",
      "['e32.wav', '6', 'e']\n",
      "['e33.wav', '6', 'e']\n",
      "['e34.wav', '6', 'e']\n",
      "['e35.wav', '6', 'e']\n",
      "['e36.wav', '6', 'e']\n",
      "['e37.wav', '6', 'e']\n",
      "['e38.wav', '6', 'e']\n",
      "['e39.wav', '6', 'e']\n",
      "['e40.wav', '6', 'e']\n",
      "['e41.wav', '6', 'e']\n",
      "['e42.wav', '6', 'e']\n",
      "['e43.wav', '6', 'e']\n",
      "['e44.wav', '6', 'e']\n",
      "['e45.wav', '6', 'e']\n",
      "['e46.wav', '6', 'e']\n",
      "['e47.wav', '6', 'e']\n",
      "['e48.wav', '6', 'e']\n",
      "['e49.wav', '6', 'e']\n",
      "['e50.wav', '6', 'e']\n",
      "['e51.wav', '6', 'e']\n",
      "['e52.wav', '6', 'e']\n",
      "['e53.wav', '6', 'e']\n",
      "['e54.wav', '6', 'e']\n",
      "['e55.wav', '6', 'e']\n",
      "['e56.wav', '6', 'e']\n",
      "['e57.wav', '6', 'e']\n",
      "['e58.wav', '6', 'e']\n",
      "['e59.wav', '6', 'e']\n",
      "['e60.wav', '6', 'e']\n",
      "['e61.wav', '6', 'e']\n",
      "['e62.wav', '6', 'e']\n",
      "['e63.wav', '6', 'e']\n",
      "['e64.wav', '6', 'e']\n",
      "['e65.wav', '6', 'e']\n",
      "['e66.wav', '6', 'e']\n",
      "['e67.wav', '6', 'e']\n",
      "['e68.wav', '6', 'e']\n",
      "['e69.wav', '6', 'e']\n",
      "['e70.wav', '6', 'e']\n",
      "['e71.wav', '6', 'e']\n",
      "['e72.wav', '6', 'e']\n",
      "['e73.wav', '6', 'e']\n",
      "['e74.wav', '6', 'e']\n",
      "['e75.wav', '6', 'e']\n",
      "['e76.wav', '6', 'e']\n",
      "['e77.wav', '6', 'e']\n",
      "['e78.wav', '6', 'e']\n",
      "['e79.wav', '6', 'e']\n",
      "['e80.wav', '6', 'e']\n",
      "['e81.wav', '6', 'e']\n",
      "['e82.wav', '6', 'e']\n",
      "['e83.wav', '6', 'e']\n",
      "['e84.wav', '6', 'e']\n",
      "['e85.wav', '6', 'e']\n",
      "['e86.wav', '6', 'e']\n",
      "['e87.wav', '6', 'e']\n",
      "['e88.wav', '6', 'e']\n",
      "['e89.wav', '6', 'e']\n",
      "['e90.wav', '6', 'e']\n",
      "['e91.wav', '6', 'e']\n",
      "['e92.wav', '6', 'e']\n",
      "['e93.wav', '6', 'e']\n",
      "['e94.wav', '6', 'e']\n",
      "['e95.wav', '6', 'e']\n",
      "['e96.wav', '6', 'e']\n",
      "['e97.wav', '6', 'e']\n",
      "['e98.wav', '6', 'e']\n",
      "['e99.wav', '6', 'e']\n",
      "['e100.wav', '6', 'e']\n",
      "['e101.wav', '6', 'e']\n",
      "['e102.wav', '6', 'e']\n",
      "['e103.wav', '6', 'e']\n",
      "['e104.wav', '6', 'e']\n",
      "['e105.wav', '6', 'e']\n",
      "['e106.wav', '6', 'e']\n",
      "['e107.wav', '6', 'e']\n",
      "['e108.wav', '6', 'e']\n",
      "['e109.wav', '6', 'e']\n",
      "['e110.wav', '6', 'e']\n",
      "['e111.wav', '6', 'e']\n",
      "['e112.wav', '6', 'e']\n",
      "['e113.wav', '6', 'e']\n",
      "['e114.wav', '6', 'e']\n",
      "['e115.wav', '6', 'e']\n",
      "['e116.wav', '6', 'e']\n",
      "['e117.wav', '6', 'e']\n",
      "['e118.wav', '6', 'e']\n",
      "['e119.wav', '6', 'e']\n",
      "['e120.wav', '6', 'e']\n",
      "['e121.wav', '6', 'e']\n",
      "['e122.wav', '6', 'e']\n",
      "['e123.wav', '6', 'e']\n",
      "['e124.wav', '6', 'e']\n",
      "['e125.wav', '6', 'e']\n",
      "['e126.wav', '6', 'e']\n",
      "['e127.wav', '6', 'e']\n",
      "['e128.wav', '6', 'e']\n",
      "['e129.wav', '6', 'e']\n",
      "['e130.wav', '6', 'e']\n",
      "['e131.wav', '6', 'e']\n",
      "['e132.wav', '6', 'e']\n",
      "['e133.wav', '6', 'e']\n",
      "['e134.wav', '6', 'e']\n",
      "['e135.wav', '6', 'e']\n",
      "['e136.wav', '6', 'e']\n",
      "['e137.wav', '6', 'e']\n",
      "['e138.wav', '6', 'e']\n",
      "['e139.wav', '6', 'e']\n",
      "['e140.wav', '6', 'e']\n",
      "['e141.wav', '6', 'e']\n",
      "['e142.wav', '6', 'e']\n",
      "['e143.wav', '6', 'e']\n",
      "['e144.wav', '6', 'e']\n",
      "['e145.wav', '6', 'e']\n",
      "['e146.wav', '6', 'e']\n",
      "['e147.wav', '6', 'e']\n",
      "['e148.wav', '6', 'e']\n",
      "['e149.wav', '6', 'e']\n",
      "['e150.wav', '6', 'e']\n",
      "['e151.wav', '6', 'e']\n",
      "['e152.wav', '6', 'e']\n",
      "['e153.wav', '6', 'e']\n",
      "['e154.wav', '6', 'e']\n",
      "['e155.wav', '6', 'e']\n",
      "['e156.wav', '6', 'e']\n",
      "['e157.wav', '6', 'e']\n",
      "['e158.wav', '6', 'e']\n",
      "['e159.wav', '6', 'e']\n",
      "['e160.wav', '6', 'e']\n",
      "['e161.wav', '6', 'e']\n",
      "['e162.wav', '6', 'e']\n",
      "['e163.wav', '6', 'e']\n",
      "['e164.wav', '6', 'e']\n",
      "['e165.wav', '6', 'e']\n",
      "['e166.wav', '6', 'e']\n",
      "['e167.wav', '6', 'e']\n",
      "['e168.wav', '6', 'e']\n",
      "['e169.wav', '6', 'e']\n",
      "['e170.wav', '6', 'e']\n",
      "['e171.wav', '6', 'e']\n",
      "['e172.wav', '6', 'e']\n",
      "['e173.wav', '6', 'e']\n",
      "['e174.wav', '6', 'e']\n",
      "['e175.wav', '6', 'e']\n",
      "['e176.wav', '6', 'e']\n",
      "['e177.wav', '6', 'e']\n",
      "['e178.wav', '6', 'e']\n",
      "['e179.wav', '6', 'e']\n",
      "['e180.wav', '6', 'e']\n",
      "['e181.wav', '6', 'e']\n",
      "['e182.wav', '6', 'e']\n",
      "['e183.wav', '6', 'e']\n",
      "['e184.wav', '6', 'e']\n",
      "['e185.wav', '6', 'e']\n",
      "['e186.wav', '6', 'e']\n",
      "['e187.wav', '6', 'e']\n",
      "['e188.wav', '6', 'e']\n",
      "['e189.wav', '6', 'e']\n",
      "['e190.wav', '6', 'e']\n",
      "['e191.wav', '6', 'e']\n",
      "['e192.wav', '6', 'e']\n",
      "['e193.wav', '6', 'e']\n",
      "['e194.wav', '6', 'e']\n",
      "['e195.wav', '6', 'e']\n",
      "['e196.wav', '6', 'e']\n",
      "['e197.wav', '6', 'e']\n",
      "['e198.wav', '6', 'e']\n",
      "['e199.wav', '6', 'e']\n",
      "['e200.wav', '6', 'e']\n",
      "['em1.wav', '7', 'em']\n",
      "['em2.wav', '7', 'em']\n",
      "['em3.wav', '7', 'em']\n",
      "['em4.wav', '7', 'em']\n",
      "['em5.wav', '7', 'em']\n",
      "['em6.wav', '7', 'em']\n",
      "['em7.wav', '7', 'em']\n",
      "['em8.wav', '7', 'em']\n",
      "['em9.wav', '7', 'em']\n",
      "['em10.wav', '7', 'em']\n",
      "['em11.wav', '7', 'em']\n",
      "['em12.wav', '7', 'em']\n",
      "['em13.wav', '7', 'em']\n",
      "['em14.wav', '7', 'em']\n",
      "['em15.wav', '7', 'em']\n",
      "['em16.wav', '7', 'em']\n",
      "['em17.wav', '7', 'em']\n",
      "['em18.wav', '7', 'em']\n",
      "['em19.wav', '7', 'em']\n",
      "['em20.wav', '7', 'em']\n",
      "['em21.wav', '7', 'em']\n",
      "['em22.wav', '7', 'em']\n",
      "['em23.wav', '7', 'em']\n",
      "['em24.wav', '7', 'em']\n",
      "['em25.wav', '7', 'em']\n",
      "['em26.wav', '7', 'em']\n",
      "['em27.wav', '7', 'em']\n",
      "['em28.wav', '7', 'em']\n",
      "['em29.wav', '7', 'em']\n",
      "['em30.wav', '7', 'em']\n",
      "['em31.wav', '7', 'em']\n",
      "['em32.wav', '7', 'em']\n",
      "['em33.wav', '7', 'em']\n",
      "['em34.wav', '7', 'em']\n",
      "['em35.wav', '7', 'em']\n",
      "['em36.wav', '7', 'em']\n",
      "['em37.wav', '7', 'em']\n",
      "['em38.wav', '7', 'em']\n",
      "['em39.wav', '7', 'em']\n",
      "['em40.wav', '7', 'em']\n",
      "['em41.wav', '7', 'em']\n",
      "['em42.wav', '7', 'em']\n",
      "['em43.wav', '7', 'em']\n",
      "['em44.wav', '7', 'em']\n",
      "['em45.wav', '7', 'em']\n",
      "['em46.wav', '7', 'em']\n",
      "['em47.wav', '7', 'em']\n",
      "['em48.wav', '7', 'em']\n",
      "['em49.wav', '7', 'em']\n",
      "['em50.wav', '7', 'em']\n",
      "['em51.wav', '7', 'em']\n",
      "['em52.wav', '7', 'em']\n",
      "['em53.wav', '7', 'em']\n",
      "['em54.wav', '7', 'em']\n",
      "['em55.wav', '7', 'em']\n",
      "['em56.wav', '7', 'em']\n",
      "['em57.wav', '7', 'em']\n",
      "['em58.wav', '7', 'em']\n",
      "['em59.wav', '7', 'em']\n",
      "['em60.wav', '7', 'em']\n",
      "['em61.wav', '7', 'em']\n",
      "['em62.wav', '7', 'em']\n",
      "['em63.wav', '7', 'em']\n",
      "['em64.wav', '7', 'em']\n",
      "['em65.wav', '7', 'em']\n",
      "['em66.wav', '7', 'em']\n",
      "['em67.wav', '7', 'em']\n",
      "['em68.wav', '7', 'em']\n",
      "['em69.wav', '7', 'em']\n",
      "['em70.wav', '7', 'em']\n",
      "['em71.wav', '7', 'em']\n",
      "['em72.wav', '7', 'em']\n",
      "['em73.wav', '7', 'em']\n",
      "['em74.wav', '7', 'em']\n",
      "['em75.wav', '7', 'em']\n",
      "['em76.wav', '7', 'em']\n",
      "['em77.wav', '7', 'em']\n",
      "['em78.wav', '7', 'em']\n",
      "['em79.wav', '7', 'em']\n",
      "['em80.wav', '7', 'em']\n",
      "['em81.wav', '7', 'em']\n",
      "['em82.wav', '7', 'em']\n",
      "['em83.wav', '7', 'em']\n",
      "['em84.wav', '7', 'em']\n",
      "['em85.wav', '7', 'em']\n",
      "['em86.wav', '7', 'em']\n",
      "['em87.wav', '7', 'em']\n",
      "['em88.wav', '7', 'em']\n",
      "['em89.wav', '7', 'em']\n",
      "['em90.wav', '7', 'em']\n",
      "['em91.wav', '7', 'em']\n",
      "['em92.wav', '7', 'em']\n",
      "['em93.wav', '7', 'em']\n",
      "['em94.wav', '7', 'em']\n",
      "['em95.wav', '7', 'em']\n",
      "['em96.wav', '7', 'em']\n",
      "['em97.wav', '7', 'em']\n",
      "['em98.wav', '7', 'em']\n",
      "['em99.wav', '7', 'em']\n",
      "['em100.wav', '7', 'em']\n",
      "['em101.wav', '7', 'em']\n",
      "['em102.wav', '7', 'em']\n",
      "['em103.wav', '7', 'em']\n",
      "['em104.wav', '7', 'em']\n",
      "['em105.wav', '7', 'em']\n",
      "['em106.wav', '7', 'em']\n",
      "['em107.wav', '7', 'em']\n",
      "['em108.wav', '7', 'em']\n",
      "['em109.wav', '7', 'em']\n",
      "['em110.wav', '7', 'em']\n",
      "['em111.wav', '7', 'em']\n",
      "['em112.wav', '7', 'em']\n",
      "['em113.wav', '7', 'em']\n",
      "['em114.wav', '7', 'em']\n",
      "['em115.wav', '7', 'em']\n",
      "['em116.wav', '7', 'em']\n",
      "['em117.wav', '7', 'em']\n",
      "['em118.wav', '7', 'em']\n",
      "['em119.wav', '7', 'em']\n",
      "['em120.wav', '7', 'em']\n",
      "['em121.wav', '7', 'em']\n",
      "['em122.wav', '7', 'em']\n",
      "['em123.wav', '7', 'em']\n",
      "['em124.wav', '7', 'em']\n",
      "['em125.wav', '7', 'em']\n",
      "['em126.wav', '7', 'em']\n",
      "['em127.wav', '7', 'em']\n",
      "['em128.wav', '7', 'em']\n",
      "['em129.wav', '7', 'em']\n",
      "['em130.wav', '7', 'em']\n",
      "['em131.wav', '7', 'em']\n",
      "['em132.wav', '7', 'em']\n",
      "['em133.wav', '7', 'em']\n",
      "['em134.wav', '7', 'em']\n",
      "['em135.wav', '7', 'em']\n",
      "['em136.wav', '7', 'em']\n",
      "['em137.wav', '7', 'em']\n",
      "['em138.wav', '7', 'em']\n",
      "['em139.wav', '7', 'em']\n",
      "['em140.wav', '7', 'em']\n",
      "['em141.wav', '7', 'em']\n",
      "['em142.wav', '7', 'em']\n",
      "['em143.wav', '7', 'em']\n",
      "['em144.wav', '7', 'em']\n",
      "['em145.wav', '7', 'em']\n",
      "['em146.wav', '7', 'em']\n",
      "['em147.wav', '7', 'em']\n",
      "['em148.wav', '7', 'em']\n",
      "['em149.wav', '7', 'em']\n",
      "['em150.wav', '7', 'em']\n",
      "['em151.wav', '7', 'em']\n",
      "['em152.wav', '7', 'em']\n",
      "['em153.wav', '7', 'em']\n",
      "['em154.wav', '7', 'em']\n",
      "['em155.wav', '7', 'em']\n",
      "['em156.wav', '7', 'em']\n",
      "['em157.wav', '7', 'em']\n",
      "['em158.wav', '7', 'em']\n",
      "['em159.wav', '7', 'em']\n",
      "['em160.wav', '7', 'em']\n",
      "['em161.wav', '7', 'em']\n",
      "['em162.wav', '7', 'em']\n",
      "['em163.wav', '7', 'em']\n",
      "['em164.wav', '7', 'em']\n",
      "['em165.wav', '7', 'em']\n",
      "['em166.wav', '7', 'em']\n",
      "['em167.wav', '7', 'em']\n",
      "['em168.wav', '7', 'em']\n",
      "['em169.wav', '7', 'em']\n",
      "['em170.wav', '7', 'em']\n",
      "['em171.wav', '7', 'em']\n",
      "['em172.wav', '7', 'em']\n",
      "['em173.wav', '7', 'em']\n",
      "['em174.wav', '7', 'em']\n",
      "['em175.wav', '7', 'em']\n",
      "['em176.wav', '7', 'em']\n",
      "['em177.wav', '7', 'em']\n",
      "['em178.wav', '7', 'em']\n",
      "['em179.wav', '7', 'em']\n",
      "['em180.wav', '7', 'em']\n",
      "['em181.wav', '7', 'em']\n",
      "['em182.wav', '7', 'em']\n",
      "['em183.wav', '7', 'em']\n",
      "['em184.wav', '7', 'em']\n",
      "['em185.wav', '7', 'em']\n",
      "['em186.wav', '7', 'em']\n",
      "['em187.wav', '7', 'em']\n",
      "['em188.wav', '7', 'em']\n",
      "['em189.wav', '7', 'em']\n",
      "['em190.wav', '7', 'em']\n",
      "['em191.wav', '7', 'em']\n",
      "['em192.wav', '7', 'em']\n",
      "['em193.wav', '7', 'em']\n",
      "['em194.wav', '7', 'em']\n",
      "['em195.wav', '7', 'em']\n",
      "['em196.wav', '7', 'em']\n",
      "['em197.wav', '7', 'em']\n",
      "['em198.wav', '7', 'em']\n",
      "['em199.wav', '7', 'em']\n",
      "['em200.wav', '7', 'em']\n",
      "['f1.wav', '8', 'f']\n",
      "['f2.wav', '8', 'f']\n",
      "['f3.wav', '8', 'f']\n",
      "['f4.wav', '8', 'f']\n",
      "['f5.wav', '8', 'f']\n",
      "['f6.wav', '8', 'f']\n",
      "['f7.wav', '8', 'f']\n",
      "['f8.wav', '8', 'f']\n",
      "['f9.wav', '8', 'f']\n",
      "['f10.wav', '8', 'f']\n",
      "['f11.wav', '8', 'f']\n",
      "['f12.wav', '8', 'f']\n",
      "['f13.wav', '8', 'f']\n",
      "['f14.wav', '8', 'f']\n",
      "['f15.wav', '8', 'f']\n",
      "['f16.wav', '8', 'f']\n",
      "['f17.wav', '8', 'f']\n",
      "['f18.wav', '8', 'f']\n",
      "['f19.wav', '8', 'f']\n",
      "['f20.wav', '8', 'f']\n",
      "['f21.wav', '8', 'f']\n",
      "['f22.wav', '8', 'f']\n",
      "['f23.wav', '8', 'f']\n",
      "['f24.wav', '8', 'f']\n",
      "['f25.wav', '8', 'f']\n",
      "['f26.wav', '8', 'f']\n",
      "['f27.wav', '8', 'f']\n",
      "['f28.wav', '8', 'f']\n",
      "['f29.wav', '8', 'f']\n",
      "['f30.wav', '8', 'f']\n",
      "['f31.wav', '8', 'f']\n",
      "['f32.wav', '8', 'f']\n",
      "['f33.wav', '8', 'f']\n",
      "['f34.wav', '8', 'f']\n",
      "['f35.wav', '8', 'f']\n",
      "['f36.wav', '8', 'f']\n",
      "['f37.wav', '8', 'f']\n",
      "['f38.wav', '8', 'f']\n",
      "['f39.wav', '8', 'f']\n",
      "['f40.wav', '8', 'f']\n",
      "['f41.wav', '8', 'f']\n",
      "['f42.wav', '8', 'f']\n",
      "['f43.wav', '8', 'f']\n",
      "['f44.wav', '8', 'f']\n",
      "['f45.wav', '8', 'f']\n",
      "['f46.wav', '8', 'f']\n",
      "['f47.wav', '8', 'f']\n",
      "['f48.wav', '8', 'f']\n",
      "['f49.wav', '8', 'f']\n",
      "['f50.wav', '8', 'f']\n",
      "['f51.wav', '8', 'f']\n",
      "['f52.wav', '8', 'f']\n",
      "['f53.wav', '8', 'f']\n",
      "['f54.wav', '8', 'f']\n",
      "['f55.wav', '8', 'f']\n",
      "['f56.wav', '8', 'f']\n",
      "['f57.wav', '8', 'f']\n",
      "['f58.wav', '8', 'f']\n",
      "['f59.wav', '8', 'f']\n",
      "['f60.wav', '8', 'f']\n",
      "['f61.wav', '8', 'f']\n",
      "['f62.wav', '8', 'f']\n",
      "['f63.wav', '8', 'f']\n",
      "['f64.wav', '8', 'f']\n",
      "['f65.wav', '8', 'f']\n",
      "['f66.wav', '8', 'f']\n",
      "['f67.wav', '8', 'f']\n",
      "['f68.wav', '8', 'f']\n",
      "['f69.wav', '8', 'f']\n",
      "['f70.wav', '8', 'f']\n",
      "['f71.wav', '8', 'f']\n",
      "['f72.wav', '8', 'f']\n",
      "['f73.wav', '8', 'f']\n",
      "['f74.wav', '8', 'f']\n",
      "['f75.wav', '8', 'f']\n",
      "['f76.wav', '8', 'f']\n",
      "['f77.wav', '8', 'f']\n",
      "['f78.wav', '8', 'f']\n",
      "['f79.wav', '8', 'f']\n",
      "['f80.wav', '8', 'f']\n",
      "['f81.wav', '8', 'f']\n",
      "['f82.wav', '8', 'f']\n",
      "['f83.wav', '8', 'f']\n",
      "['f84.wav', '8', 'f']\n",
      "['f85.wav', '8', 'f']\n",
      "['f86.wav', '8', 'f']\n",
      "['f87.wav', '8', 'f']\n",
      "['f88.wav', '8', 'f']\n",
      "['f89.wav', '8', 'f']\n",
      "['f90.wav', '8', 'f']\n",
      "['f91.wav', '8', 'f']\n",
      "['f92.wav', '8', 'f']\n",
      "['f93.wav', '8', 'f']\n",
      "['f94.wav', '8', 'f']\n",
      "['f95.wav', '8', 'f']\n",
      "['f96.wav', '8', 'f']\n",
      "['f97.wav', '8', 'f']\n",
      "['f98.wav', '8', 'f']\n",
      "['f99.wav', '8', 'f']\n",
      "['f100.wav', '8', 'f']\n",
      "['f101.wav', '8', 'f']\n",
      "['f102.wav', '8', 'f']\n",
      "['f103.wav', '8', 'f']\n",
      "['f104.wav', '8', 'f']\n",
      "['f105.wav', '8', 'f']\n",
      "['f106.wav', '8', 'f']\n",
      "['f107.wav', '8', 'f']\n",
      "['f108.wav', '8', 'f']\n",
      "['f109.wav', '8', 'f']\n",
      "['f110.wav', '8', 'f']\n",
      "['f111.wav', '8', 'f']\n",
      "['f112.wav', '8', 'f']\n",
      "['f113.wav', '8', 'f']\n",
      "['f114.wav', '8', 'f']\n",
      "['f115.wav', '8', 'f']\n",
      "['f116.wav', '8', 'f']\n",
      "['f117.wav', '8', 'f']\n",
      "['f118.wav', '8', 'f']\n",
      "['f119.wav', '8', 'f']\n",
      "['f120.wav', '8', 'f']\n",
      "['f121.wav', '8', 'f']\n",
      "['f122.wav', '8', 'f']\n",
      "['f123.wav', '8', 'f']\n",
      "['f124.wav', '8', 'f']\n",
      "['f125.wav', '8', 'f']\n",
      "['f126.wav', '8', 'f']\n",
      "['f127.wav', '8', 'f']\n",
      "['f128.wav', '8', 'f']\n",
      "['f129.wav', '8', 'f']\n",
      "['f130.wav', '8', 'f']\n",
      "['f131.wav', '8', 'f']\n",
      "['f132.wav', '8', 'f']\n",
      "['f133.wav', '8', 'f']\n",
      "['f134.wav', '8', 'f']\n",
      "['f135.wav', '8', 'f']\n",
      "['f136.wav', '8', 'f']\n",
      "['f137.wav', '8', 'f']\n",
      "['f138.wav', '8', 'f']\n",
      "['f139.wav', '8', 'f']\n",
      "['f140.wav', '8', 'f']\n",
      "['f141.wav', '8', 'f']\n",
      "['f142.wav', '8', 'f']\n",
      "['f143.wav', '8', 'f']\n",
      "['f144.wav', '8', 'f']\n",
      "['f145.wav', '8', 'f']\n",
      "['f146.wav', '8', 'f']\n",
      "['f147.wav', '8', 'f']\n",
      "['f148.wav', '8', 'f']\n",
      "['f149.wav', '8', 'f']\n",
      "['f150.wav', '8', 'f']\n",
      "['f151.wav', '8', 'f']\n",
      "['f152.wav', '8', 'f']\n",
      "['f153.wav', '8', 'f']\n",
      "['f154.wav', '8', 'f']\n",
      "['f155.wav', '8', 'f']\n",
      "['f156.wav', '8', 'f']\n",
      "['f157.wav', '8', 'f']\n",
      "['f158.wav', '8', 'f']\n",
      "['f159.wav', '8', 'f']\n",
      "['f160.wav', '8', 'f']\n",
      "['f161.wav', '8', 'f']\n",
      "['f162.wav', '8', 'f']\n",
      "['f163.wav', '8', 'f']\n",
      "['f164.wav', '8', 'f']\n",
      "['f165.wav', '8', 'f']\n",
      "['f166.wav', '8', 'f']\n",
      "['f167.wav', '8', 'f']\n",
      "['f168.wav', '8', 'f']\n",
      "['f169.wav', '8', 'f']\n",
      "['f170.wav', '8', 'f']\n",
      "['f171.wav', '8', 'f']\n",
      "['f172.wav', '8', 'f']\n",
      "['f173.wav', '8', 'f']\n",
      "['f174.wav', '8', 'f']\n",
      "['f175.wav', '8', 'f']\n",
      "['f176.wav', '8', 'f']\n",
      "['f177.wav', '8', 'f']\n",
      "['f178.wav', '8', 'f']\n",
      "['f179.wav', '8', 'f']\n",
      "['f180.wav', '8', 'f']\n",
      "['f181.wav', '8', 'f']\n",
      "['f182.wav', '8', 'f']\n",
      "['f183.wav', '8', 'f']\n",
      "['f184.wav', '8', 'f']\n",
      "['f185.wav', '8', 'f']\n",
      "['f186.wav', '8', 'f']\n",
      "['f187.wav', '8', 'f']\n",
      "['f188.wav', '8', 'f']\n",
      "['f189.wav', '8', 'f']\n",
      "['f190.wav', '8', 'f']\n",
      "['f191.wav', '8', 'f']\n",
      "['f192.wav', '8', 'f']\n",
      "['f193.wav', '8', 'f']\n",
      "['f194.wav', '8', 'f']\n",
      "['f195.wav', '8', 'f']\n",
      "['f196.wav', '8', 'f']\n",
      "['f197.wav', '8', 'f']\n",
      "['f198.wav', '8', 'f']\n",
      "['f199.wav', '8', 'f']\n",
      "['f200.wav', '8', 'f']\n",
      "['g1.wav', '9', 'g']\n",
      "['g2.wav', '9', 'g']\n",
      "['g3.wav', '9', 'g']\n",
      "['g4.wav', '9', 'g']\n",
      "['g5.wav', '9', 'g']\n",
      "['g6.wav', '9', 'g']\n",
      "['g7.wav', '9', 'g']\n",
      "['g8.wav', '9', 'g']\n",
      "['g9.wav', '9', 'g']\n",
      "['g10.wav', '9', 'g']\n",
      "['g11.wav', '9', 'g']\n",
      "['g12.wav', '9', 'g']\n",
      "['g13.wav', '9', 'g']\n",
      "['g14.wav', '9', 'g']\n",
      "['g15.wav', '9', 'g']\n",
      "['g16.wav', '9', 'g']\n",
      "['g17.wav', '9', 'g']\n",
      "['g18.wav', '9', 'g']\n",
      "['g19.wav', '9', 'g']\n",
      "['g20.wav', '9', 'g']\n",
      "['g21.wav', '9', 'g']\n",
      "['g22.wav', '9', 'g']\n",
      "['g23.wav', '9', 'g']\n",
      "['g24.wav', '9', 'g']\n",
      "['g25.wav', '9', 'g']\n",
      "['g26.wav', '9', 'g']\n",
      "['g27.wav', '9', 'g']\n",
      "['g28.wav', '9', 'g']\n",
      "['g29.wav', '9', 'g']\n",
      "['g30.wav', '9', 'g']\n",
      "['g31.wav', '9', 'g']\n",
      "['g32.wav', '9', 'g']\n",
      "['g33.wav', '9', 'g']\n",
      "['g34.wav', '9', 'g']\n",
      "['g35.wav', '9', 'g']\n",
      "['g36.wav', '9', 'g']\n",
      "['g37.wav', '9', 'g']\n",
      "['g38.wav', '9', 'g']\n",
      "['g39.wav', '9', 'g']\n",
      "['g40.wav', '9', 'g']\n",
      "['g41.wav', '9', 'g']\n",
      "['g42.wav', '9', 'g']\n",
      "['g43.wav', '9', 'g']\n",
      "['g44.wav', '9', 'g']\n",
      "['g45.wav', '9', 'g']\n",
      "['g46.wav', '9', 'g']\n",
      "['g47.wav', '9', 'g']\n",
      "['g48.wav', '9', 'g']\n",
      "['g49.wav', '9', 'g']\n",
      "['g50.wav', '9', 'g']\n",
      "['g51.wav', '9', 'g']\n",
      "['g52.wav', '9', 'g']\n",
      "['g53.wav', '9', 'g']\n",
      "['g54.wav', '9', 'g']\n",
      "['g55.wav', '9', 'g']\n",
      "['g56.wav', '9', 'g']\n",
      "['g57.wav', '9', 'g']\n",
      "['g58.wav', '9', 'g']\n",
      "['g59.wav', '9', 'g']\n",
      "['g60.wav', '9', 'g']\n",
      "['g61.wav', '9', 'g']\n",
      "['g62.wav', '9', 'g']\n",
      "['g63.wav', '9', 'g']\n",
      "['g64.wav', '9', 'g']\n",
      "['g65.wav', '9', 'g']\n",
      "['g66.wav', '9', 'g']\n",
      "['g67.wav', '9', 'g']\n",
      "['g68.wav', '9', 'g']\n",
      "['g69.wav', '9', 'g']\n",
      "['g70.wav', '9', 'g']\n",
      "['g71.wav', '9', 'g']\n",
      "['g72.wav', '9', 'g']\n",
      "['g73.wav', '9', 'g']\n",
      "['g74.wav', '9', 'g']\n",
      "['g75.wav', '9', 'g']\n",
      "['g76.wav', '9', 'g']\n",
      "['g77.wav', '9', 'g']\n",
      "['g78.wav', '9', 'g']\n",
      "['g79.wav', '9', 'g']\n",
      "['g80.wav', '9', 'g']\n",
      "['g81.wav', '9', 'g']\n",
      "['g82.wav', '9', 'g']\n",
      "['g83.wav', '9', 'g']\n",
      "['g84.wav', '9', 'g']\n",
      "['g85.wav', '9', 'g']\n",
      "['g86.wav', '9', 'g']\n",
      "['g87.wav', '9', 'g']\n",
      "['g88.wav', '9', 'g']\n",
      "['g89.wav', '9', 'g']\n",
      "['g90.wav', '9', 'g']\n",
      "['g91.wav', '9', 'g']\n",
      "['g92.wav', '9', 'g']\n",
      "['g93.wav', '9', 'g']\n",
      "['g94.wav', '9', 'g']\n",
      "['g95.wav', '9', 'g']\n",
      "['g96.wav', '9', 'g']\n",
      "['g97.wav', '9', 'g']\n",
      "['g98.wav', '9', 'g']\n",
      "['g99.wav', '9', 'g']\n",
      "['g100.wav', '9', 'g']\n",
      "['g101.wav', '9', 'g']\n",
      "['g102.wav', '9', 'g']\n",
      "['g103.wav', '9', 'g']\n",
      "['g104.wav', '9', 'g']\n",
      "['g105.wav', '9', 'g']\n",
      "['g106.wav', '9', 'g']\n",
      "['g107.wav', '9', 'g']\n",
      "['g108.wav', '9', 'g']\n",
      "['g109.wav', '9', 'g']\n",
      "['g110.wav', '9', 'g']\n",
      "['g111.wav', '9', 'g']\n",
      "['g112.wav', '9', 'g']\n",
      "['g113.wav', '9', 'g']\n",
      "['g114.wav', '9', 'g']\n",
      "['g115.wav', '9', 'g']\n",
      "['g116.wav', '9', 'g']\n",
      "['g117.wav', '9', 'g']\n",
      "['g118.wav', '9', 'g']\n",
      "['g119.wav', '9', 'g']\n",
      "['g120.wav', '9', 'g']\n",
      "['g121.wav', '9', 'g']\n"
     ]
    },
    {
     "name": "stdout",
     "output_type": "stream",
     "text": [
      "['g122.wav', '9', 'g']\n",
      "['g123.wav', '9', 'g']\n",
      "['g124.wav', '9', 'g']\n",
      "['g125.wav', '9', 'g']\n",
      "['g126.wav', '9', 'g']\n",
      "['g127.wav', '9', 'g']\n",
      "['g128.wav', '9', 'g']\n",
      "['g129.wav', '9', 'g']\n",
      "['g130.wav', '9', 'g']\n",
      "['g131.wav', '9', 'g']\n",
      "['g132.wav', '9', 'g']\n",
      "['g133.wav', '9', 'g']\n",
      "['g134.wav', '9', 'g']\n",
      "['g135.wav', '9', 'g']\n",
      "['g136.wav', '9', 'g']\n",
      "['g137.wav', '9', 'g']\n",
      "['g138.wav', '9', 'g']\n",
      "['g139.wav', '9', 'g']\n",
      "['g140.wav', '9', 'g']\n",
      "['g141.wav', '9', 'g']\n",
      "['g142.wav', '9', 'g']\n",
      "['g143.wav', '9', 'g']\n",
      "['g144.wav', '9', 'g']\n",
      "['g145.wav', '9', 'g']\n",
      "['g146.wav', '9', 'g']\n",
      "['g147.wav', '9', 'g']\n",
      "['g148.wav', '9', 'g']\n",
      "['g149.wav', '9', 'g']\n",
      "['g150.wav', '9', 'g']\n",
      "['g151.wav', '9', 'g']\n",
      "['g152.wav', '9', 'g']\n",
      "['g153.wav', '9', 'g']\n",
      "['g154.wav', '9', 'g']\n",
      "['g155.wav', '9', 'g']\n",
      "['g156.wav', '9', 'g']\n",
      "['g157.wav', '9', 'g']\n",
      "['g158.wav', '9', 'g']\n",
      "['g159.wav', '9', 'g']\n",
      "['g160.wav', '9', 'g']\n",
      "['g161.wav', '9', 'g']\n",
      "['g162.wav', '9', 'g']\n",
      "['g163.wav', '9', 'g']\n",
      "['g164.wav', '9', 'g']\n",
      "['g165.wav', '9', 'g']\n",
      "['g166.wav', '9', 'g']\n",
      "['g167.wav', '9', 'g']\n",
      "['g168.wav', '9', 'g']\n",
      "['g169.wav', '9', 'g']\n",
      "['g170.wav', '9', 'g']\n",
      "['g171.wav', '9', 'g']\n",
      "['g172.wav', '9', 'g']\n",
      "['g173.wav', '9', 'g']\n",
      "['g174.wav', '9', 'g']\n",
      "['g175.wav', '9', 'g']\n",
      "['g176.wav', '9', 'g']\n",
      "['g177.wav', '9', 'g']\n",
      "['g178.wav', '9', 'g']\n",
      "['g179.wav', '9', 'g']\n",
      "['g180.wav', '9', 'g']\n",
      "['g181.wav', '9', 'g']\n",
      "['g182.wav', '9', 'g']\n",
      "['g183.wav', '9', 'g']\n",
      "['g184.wav', '9', 'g']\n",
      "['g185.wav', '9', 'g']\n",
      "['g186.wav', '9', 'g']\n",
      "['g187.wav', '9', 'g']\n",
      "['g188.wav', '9', 'g']\n",
      "['g189.wav', '9', 'g']\n",
      "['g190.wav', '9', 'g']\n",
      "['g191.wav', '9', 'g']\n",
      "['g192.wav', '9', 'g']\n",
      "['g193.wav', '9', 'g']\n",
      "['g194.wav', '9', 'g']\n",
      "['g195.wav', '9', 'g']\n",
      "['g196.wav', '9', 'g']\n",
      "['g197.wav', '9', 'g']\n",
      "['g198.wav', '9', 'g']\n",
      "['g199.wav', '9', 'g']\n",
      "['g200.wav', '9', 'g']\n"
     ]
    }
   ],
   "source": [
    ">>> import csv\n",
    ">>> input_file = open('chords.csv', \"rt\", encoding='ascii')\n",
    ">>> for row in csv.reader(input_file): \n",
    "...     print(row)"
   ]
  },
  {
   "cell_type": "markdown",
   "metadata": {},
   "source": [
    "### NumPy"
   ]
  },
  {
   "cell_type": "code",
   "execution_count": 134,
   "metadata": {},
   "outputs": [
    {
     "data": {
      "text/plain": [
       "4"
      ]
     },
     "execution_count": 134,
     "metadata": {},
     "output_type": "execute_result"
    }
   ],
   "source": [
    ">>> from numpy import array\n",
    ">>> cube = array([ [[0,0,0], [1,1,1], [2,2,2]],\n",
    "...                [[3,3,3], [4,4,4], [5,5,5]],\n",
    "...                [[6,6,6], [7,7,7], [8,8,8]] ])\n",
    ">>> cube[1,1,1]"
   ]
  },
  {
   "cell_type": "code",
   "execution_count": 135,
   "metadata": {},
   "outputs": [
    {
     "data": {
      "text/plain": [
       "array([[6, 7, 8],\n",
       "       [6, 7, 8],\n",
       "       [6, 7, 8]])"
      ]
     },
     "execution_count": 135,
     "metadata": {},
     "output_type": "execute_result"
    }
   ],
   "source": [
    ">>> cube[2].transpose()"
   ]
  },
  {
   "cell_type": "code",
   "execution_count": 136,
   "metadata": {},
   "outputs": [
    {
     "data": {
      "text/plain": [
       "array([[7, 7, 7],\n",
       "       [8, 8, 8]])"
      ]
     },
     "execution_count": 136,
     "metadata": {},
     "output_type": "execute_result"
    }
   ],
   "source": [
    ">>> cube[2,1:]"
   ]
  },
  {
   "cell_type": "code",
   "execution_count": 137,
   "metadata": {},
   "outputs": [
    {
     "data": {
      "text/plain": [
       "array([[-0.4472136 , -0.89442719],\n",
       "       [-0.89442719,  0.4472136 ]])"
      ]
     },
     "execution_count": 137,
     "metadata": {},
     "output_type": "execute_result"
    }
   ],
   "source": [
    ">>> from numpy import linalg\n",
    ">>> a=array([[4,0], [3,-5]])\n",
    ">>> u,s,vt = linalg.svd(a)\n",
    ">>> u"
   ]
  },
  {
   "cell_type": "code",
   "execution_count": 138,
   "metadata": {},
   "outputs": [
    {
     "data": {
      "text/plain": [
       "array([6.32455532, 3.16227766])"
      ]
     },
     "execution_count": 138,
     "metadata": {},
     "output_type": "execute_result"
    }
   ],
   "source": [
    ">>> s"
   ]
  },
  {
   "cell_type": "code",
   "execution_count": 139,
   "metadata": {},
   "outputs": [
    {
     "data": {
      "text/plain": [
       "array([[-0.70710678,  0.70710678],\n",
       "       [-0.70710678, -0.70710678]])"
      ]
     },
     "execution_count": 139,
     "metadata": {},
     "output_type": "execute_result"
    }
   ],
   "source": [
    "vt"
   ]
  },
  {
   "cell_type": "code",
   "execution_count": null,
   "metadata": {},
   "outputs": [],
   "source": []
  }
 ],
 "metadata": {
  "kernelspec": {
   "display_name": "Python 3",
   "language": "python",
   "name": "python3"
  },
  "language_info": {
   "codemirror_mode": {
    "name": "ipython",
    "version": 3
   },
   "file_extension": ".py",
   "mimetype": "text/x-python",
   "name": "python",
   "nbconvert_exporter": "python",
   "pygments_lexer": "ipython3",
   "version": "3.6.0"
  }
 },
 "nbformat": 4,
 "nbformat_minor": 2
}
