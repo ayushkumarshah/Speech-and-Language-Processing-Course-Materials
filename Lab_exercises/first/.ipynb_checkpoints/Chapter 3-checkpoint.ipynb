{
 "cells": [
  {
   "cell_type": "code",
   "execution_count": 1,
   "metadata": {},
   "outputs": [],
   "source": [
    "import nltk\n",
    "import re\n",
    "import pprint\n",
    "import random\n",
    "from urllib import request\n",
    "from nltk import word_tokenize\n",
    "from nltk.corpus import brown\n",
    "from nltk.corpus import wordnet as wn"
   ]
  },
  {
   "cell_type": "markdown",
   "metadata": {},
   "source": [
    "**1. Define a string ** `s = 'colorless'` **. Write a Python statement that changes this to \"colourless\" using only the slice and concatenation operations.**"
   ]
  },
  {
   "cell_type": "code",
   "execution_count": 2,
   "metadata": {},
   "outputs": [],
   "source": [
    "s = 'colorless'\n",
    "s = s[:4] + 'u' + s[4:]"
   ]
  },
  {
   "cell_type": "markdown",
   "metadata": {},
   "source": [
    "**2. We can use the slice notation to remove morphological endings on words. For example, ** `'dogs'[:-1]` ** removes the last character of ** `dogs` **, leaving ** `dog` **. Use slice notation to remove the affixes from these words (we've inserted a hyphen to indicate the affix boundary, but omit this from your strings): ** `dish-es` **, ** `run-ning` **, ** `nation-ality` **, ** `un-do` **, ** `pre-heat` **.**"
   ]
  },
  {
   "cell_type": "code",
   "execution_count": 3,
   "metadata": {},
   "outputs": [],
   "source": [
    "dish = 'dishes'[:-2]\n",
    "run = 'running'[:-4]\n",
    "nation = 'nationality'[:-5]\n",
    "do = 'undo'[2:]\n",
    "heat = 'preheat'[3:]"
   ]
  },
  {
   "cell_type": "markdown",
   "metadata": {},
   "source": [
    "**3. We saw how we can generate an ** `IndexError` ** by indexing beyond the end of a string. Is it possible to construct an index that goes too far to the left, before the start of the string?**"
   ]
  },
  {
   "cell_type": "markdown",
   "metadata": {},
   "source": [
    "Yes, that is possible. Given a string `s`, `s[-(len(s)+1)]` will generate an `IndexError` since it goes too far to the left."
   ]
  },
  {
   "cell_type": "markdown",
   "metadata": {},
   "source": [
    "**4. We can specify a \"step\" size for the slice. The following returns every second character within the slice: ** `monty[6:11:2]` **. It also works in the reverse direction: ** `monty[10:5:-2]` ** Try these for yourself, then experiment with different step values.**"
   ]
  },
  {
   "cell_type": "markdown",
   "metadata": {},
   "source": [
    "Omitted."
   ]
  },
  {
   "cell_type": "markdown",
   "metadata": {},
   "source": [
    "**5. What happens if you ask the interpreter to evaluate ** `monty[::-1]` **? Explain why this is a reasonable result.**"
   ]
  },
  {
   "cell_type": "code",
   "execution_count": 4,
   "metadata": {},
   "outputs": [
    {
     "data": {
      "text/plain": [
       "'nohtyP ytnoM'"
      ]
     },
     "execution_count": 4,
     "metadata": {},
     "output_type": "execute_result"
    }
   ],
   "source": [
    "monty = 'Monty Python'\n",
    "monty[::-1]"
   ]
  },
  {
   "cell_type": "markdown",
   "metadata": {},
   "source": [
    "Reverse the string. `monty[:]` is the string itself, and `:-1` takes the reverse order."
   ]
  },
  {
   "cell_type": "markdown",
   "metadata": {},
   "source": [
    "**6. Describe the class of strings matched by the following regular expressions.**  \n",
    "a. `[a-zA-Z]+`  \n",
    "b. `[A-Z][a-z]*`  \n",
    "c. `p[aeiou]{,2}t`  \n",
    "d. `\\d+(\\.\\d+)?`  \n",
    "e. `([^aeiou][aeiou][^aeiou])*`  \n",
    "f. `\\w+|[^\\w\\s]+`  \n",
    "**Test your answers using ** `nltk.re_show()`."
   ]
  },
  {
   "cell_type": "markdown",
   "metadata": {},
   "source": [
    "a. Normal words(with one or more letters in either upper or lower case)  \n",
    "b. Titled words(first letter is upper case)  \n",
    "c. Words starting with `p`, ending with `t`, and with 0 to 2 vowel(s) between. E.g., `pt`, `pet`, `poet`, etc.  \n",
    "d. Real numbers(integers and fractions)  \n",
    "e. [Consonant-Vowel-Consonant] with zero or more times  \n",
    "f. Alphanumeric character(s) or non-whitespace character(s), can be used for tokenizing"
   ]
  },
  {
   "cell_type": "markdown",
   "metadata": {},
   "source": [
    "**7. Write regular expressions to match the following classes of strings:**  \n",
    "a. **A single determiner (assume that ** `a`**, **`an`**, and ** `the` ** are the only determiners).**  \n",
    "b. **An arithmetic expression using integers, addition, and multiplication, such as ** `2*3+8`."
   ]
  },
  {
   "cell_type": "code",
   "execution_count": 5,
   "metadata": {},
   "outputs": [],
   "source": [
    "re_a = r'(\\ban?\\b|\\bthe\\b)'\n",
    "re_b = r'[\\d\\*\\+]+'"
   ]
  },
  {
   "cell_type": "markdown",
   "metadata": {},
   "source": [
    "**8. Write a utility function that takes a URL as its argument, and returns the contents of the URL, with all HTML markup removed. Use ** `from urllib import request` ** and then ** ` request.urlopen('http://nltk.org/').read().decode('utf8')` ** to access the contents of the URL.**"
   ]
  },
  {
   "cell_type": "code",
   "execution_count": 6,
   "metadata": {},
   "outputs": [],
   "source": [
    "from bs4 import BeautifulSoup\n",
    "def content_of_URL(URL):\n",
    "    html = request.urlopen(URL).read().decode('utf8')\n",
    "    raw = BeautifulSoup(html).get_text()\n",
    "    tokens = word_tokenize(raw)\n",
    "    return tokens\n",
    "\n",
    "# well, I haven't installed BeautifulSoup so I skip running this block"
   ]
  },
  {
   "cell_type": "markdown",
   "metadata": {},
   "source": [
    "**9. Save some text into a file ** `corpus.txt` **. Define a function ** `load(f)` ** that reads from the file named in its sole argument, and returns a string containing the text of the file.**  \n",
    "a. **Use ** `nltk.regexp_tokenize()` ** to create a tokenizer that tokenizes the various kinds of punctuation in this text. Use one multi-line regular expression, with inline comments, using the verbose flag (?x).**  \n",
    "b. **Use ** `nltk.regexp_tokenize()` ** to create a tokenizer that tokenizes the following kinds of expression: monetary amounts; dates; names of people and organizations.**"
   ]
  },
  {
   "cell_type": "code",
   "execution_count": 11,
   "metadata": {},
   "outputs": [
    {
     "data": {
      "text/plain": [
       "['.',\n",
       " ',',\n",
       " ',',\n",
       " ',',\n",
       " ',',\n",
       " ',',\n",
       " ',',\n",
       " ',',\n",
       " ',',\n",
       " '.',\n",
       " ',',\n",
       " ',',\n",
       " ',',\n",
       " ',',\n",
       " ',',\n",
       " ',',\n",
       " ',',\n",
       " '.',\n",
       " ',',\n",
       " ',',\n",
       " '.',\n",
       " ',',\n",
       " ',',\n",
       " ',',\n",
       " '.',\n",
       " '“',\n",
       " ',',\n",
       " ',',\n",
       " ',',\n",
       " '“',\n",
       " '.',\n",
       " '.',\n",
       " ',',\n",
       " ',',\n",
       " ',',\n",
       " ',',\n",
       " ',',\n",
       " '.',\n",
       " '.',\n",
       " '(',\n",
       " ':',\n",
       " '.',\n",
       " '.',\n",
       " ')',\n",
       " ',',\n",
       " '.',\n",
       " '.',\n",
       " '.',\n",
       " '?',\n",
       " '.',\n",
       " '.',\n",
       " '.']"
      ]
     },
     "execution_count": 11,
     "metadata": {},
     "output_type": "execute_result"
    }
   ],
   "source": [
    "def load_punctuations(f):\n",
    "    file = open(f,encoding=\"utf8\")\n",
    "    raw = file.read()\n",
    "    pattern = r'''(?x)        # set flag to allow verbose regexps\n",
    "        [,\\.]                 # comma, period\n",
    "      | [\\[\\](){}<>]          # brackets () {} [] <>\n",
    "      | ['\"“]                 # quotation marks\n",
    "      | [?!]                  # question mark and exclamation mark\n",
    "      | [:;]                  # colon and semicolon\n",
    "      | \\.\\.\\.                # ellipsis\n",
    "      | [，。？！、‘：；]       # some Chinese punctuations\n",
    "    '''\n",
    "    return nltk.regexp_tokenize(raw, pattern)\n",
    "\n",
    "load_punctuations('corpus.txt')"
   ]
  },
  {
   "cell_type": "code",
   "execution_count": 12,
   "metadata": {},
   "outputs": [
    {
     "data": {
      "text/plain": [
       "['$1,000', '£999.99', '￥1000']"
      ]
     },
     "execution_count": 12,
     "metadata": {},
     "output_type": "execute_result"
    }
   ],
   "source": [
    "def load_monetary(f):\n",
    "    file = open(f,encoding=\"utf8\")\n",
    "    raw = file.read()\n",
    "    pattern = r'''(?x)\n",
    "        \\$\\d+(?:,\\d+)*(?:\\.\\d+)?      # USD\n",
    "      | £\\d+(?:,\\d+)*(?:\\.\\d+)?       # GBP\n",
    "      | ￥\\d+(?:\\.\\d+)?               # CNY\n",
    "    '''\n",
    "    return nltk.regexp_tokenize(raw, pattern)\n",
    "\n",
    "load_monetary('corpus.txt')"
   ]
  },
  {
   "cell_type": "code",
   "execution_count": 13,
   "metadata": {},
   "outputs": [
    {
     "data": {
      "text/plain": [
       "['2018-08-06', '2018.08.06', '08/06/20', '06/08/20', '06/08/18', '06-08-20']"
      ]
     },
     "execution_count": 13,
     "metadata": {},
     "output_type": "execute_result"
    }
   ],
   "source": [
    "def load_date(f):\n",
    "    file = open(f,encoding=\"utf8\")\n",
    "    raw = file.read()\n",
    "    pattern = r'''(?x)\n",
    "        \\d{,4}[/\\.-]\\d{1,2}[/\\.-]\\d{1,2}       # big-endian, e.g., 1996-10-23, 1996.10.23, 1996/10/23\n",
    "      | \\d{1,2}[/\\.-]\\d{1,2}[/\\.-]\\d{,4}       # little-endian or middle-endian, dd/mm/yyyy or mm/dd/yyyy \n",
    "    '''\n",
    "    # There are dates with month spelled out in full or in abbreviation as well.\n",
    "    # But the pattern expression can be extremly tedious so I just leave them out.\n",
    "    \n",
    "    return nltk.regexp_tokenize(raw, pattern)\n",
    "load_date('corpus.txt')"
   ]
  },
  {
   "cell_type": "markdown",
   "metadata": {},
   "source": [
    "**10. Rewrite the following loop as a list comprehension:**\n",
    "\n",
    "```Python\n",
    ">>> sent = ['The', 'dog', 'gave', 'John', 'the', 'newspaper']\n",
    ">>> result = []\n",
    ">>> for word in sent:\n",
    "...     word_len = (word, len(word))\n",
    "...     result.append(word_len)\n",
    ">>> result\n",
    "[('The', 3), ('dog', 3), ('gave', 4), ('John', 4), ('the', 3), ('newspaper', 9)]\n",
    "```"
   ]
  },
  {
   "cell_type": "code",
   "execution_count": 14,
   "metadata": {},
   "outputs": [
    {
     "data": {
      "text/plain": [
       "[('The', 3),\n",
       " ('dog', 3),\n",
       " ('gave', 4),\n",
       " ('John', 4),\n",
       " ('the', 3),\n",
       " ('newspaper', 9)]"
      ]
     },
     "execution_count": 14,
     "metadata": {},
     "output_type": "execute_result"
    }
   ],
   "source": [
    "sent = ['The', 'dog', 'gave', 'John', 'the', 'newspaper']\n",
    "result = [(word, len(word)) for word in sent]\n",
    "result"
   ]
  },
  {
   "cell_type": "markdown",
   "metadata": {},
   "source": [
    "**11. Define a string ** `raw` ** containing a sentence of your own choosing. Now, split ** `raw` ** on some character other than space, such as ** `'s'`."
   ]
  },
  {
   "cell_type": "code",
   "execution_count": 15,
   "metadata": {},
   "outputs": [
    {
     "data": {
      "text/plain": [
       "['Define a ', 'tring  raw containing a ', 'entence of your own choo', 'ing.']"
      ]
     },
     "execution_count": 15,
     "metadata": {},
     "output_type": "execute_result"
    }
   ],
   "source": [
    "raw = 'Define a string  raw containing a sentence of your own choosing.'\n",
    "raw.split('s')"
   ]
  },
  {
   "cell_type": "markdown",
   "metadata": {},
   "source": [
    "**12. Write a ** `for` ** loop to print out the characters of a string, one per line.**"
   ]
  },
  {
   "cell_type": "code",
   "execution_count": 16,
   "metadata": {},
   "outputs": [
    {
     "name": "stdout",
     "output_type": "stream",
     "text": [
      "H\n",
      "e\n",
      "l\n",
      "l\n",
      "o\n",
      " \n",
      "w\n",
      "o\n",
      "r\n",
      "l\n",
      "d\n"
     ]
    }
   ],
   "source": [
    "s = 'Hello world'\n",
    "for char in s:\n",
    "    print(char)"
   ]
  },
  {
   "cell_type": "markdown",
   "metadata": {},
   "source": [
    "**13. What is the difference between calling split on a string with no argument or with ** `' '` ** as the argument, e.g. ** `sent.split()` ** versus ** `sent.split(' ')` **? What happens when the string being split contains tab characters, consecutive space characters, or a sequence of tabs and spaces? (In IDLE you will need to use ** `'\\t'` ** to enter a tab character.)**"
   ]
  },
  {
   "cell_type": "code",
   "execution_count": 17,
   "metadata": {},
   "outputs": [
    {
     "name": "stdout",
     "output_type": "stream",
     "text": [
      "['Hello\\t', 'World\\nNLTK']\n",
      "['Hello', 'World', 'NLTK']\n"
     ]
    }
   ],
   "source": [
    "sent = 'Hello\\t World\\nNLTK'\n",
    "print(sent.split(' '))\n",
    "print(sent.split())"
   ]
  },
  {
   "cell_type": "markdown",
   "metadata": {},
   "source": [
    "`sent.split(' ')` will not split other blank characters like `\\t`, `\\n`."
   ]
  },
  {
   "cell_type": "markdown",
   "metadata": {},
   "source": [
    "**14. Create a variable ** `words` ** containing a list of words. Experiment with ** `words.sort()` ** and ** `sorted(words)` **. What is the difference?**"
   ]
  },
  {
   "cell_type": "markdown",
   "metadata": {},
   "source": [
    "`words.sort()` modify the original variable `words`, and it will not output in default.  \n",
    "`sorted(words)` return a sorted list without changing the original list."
   ]
  },
  {
   "cell_type": "markdown",
   "metadata": {},
   "source": [
    "**15. Explore the difference between strings and integers by typing the following at a Python prompt: ** `\"3\" * 7` ** and ** `3 * 7` **. Try converting between strings and integers using ** `int(\"3\")` ** and ** `str(3)` **.**"
   ]
  },
  {
   "cell_type": "code",
   "execution_count": 18,
   "metadata": {},
   "outputs": [
    {
     "name": "stdout",
     "output_type": "stream",
     "text": [
      "3333333\n",
      "21\n",
      "<class 'int'>\n",
      "<class 'str'>\n"
     ]
    }
   ],
   "source": [
    "print(\"3\" * 7)\n",
    "print(3 * 7)\n",
    "print(type(int(\"3\")))\n",
    "print(type(str(3)))"
   ]
  },
  {
   "cell_type": "markdown",
   "metadata": {},
   "source": [
    "**16. Use a text editor to create a file called ** `prog.py` ** containing the single line ** `monty = 'Monty Python'` **. Next, start up a new session with the Python interpreter, and enter the expression ** `monty` ** at the prompt. You will get an error from the interpreter. Now, try the following (note that you have to leave off the ** `.py` ** part of the filename):**\n",
    "```Python\n",
    "from prog import monty\n",
    "monty\n",
    "```\n",
    "**This time, Python should return with a value. You can also try ** `import prog` **, in which case Python should be able to evaluate the expression ** `prog.monty` ** at the prompt.**"
   ]
  },
  {
   "cell_type": "markdown",
   "metadata": {},
   "source": [
    "Omitted."
   ]
  },
  {
   "cell_type": "markdown",
   "metadata": {},
   "source": [
    "**17. What happens when the formatting strings ** `%6s` ** and ** `%-6s` ** are used to display strings that are longer than six characters?**"
   ]
  },
  {
   "cell_type": "code",
   "execution_count": 19,
   "metadata": {},
   "outputs": [
    {
     "name": "stdout",
     "output_type": "stream",
     "text": [
      "helloworld\n",
      "helloworld\n"
     ]
    }
   ],
   "source": [
    "s = 'helloworld'\n",
    "print('%6s' %s)\n",
    "print('%-6s' %s)\n",
    "# There seems no difference."
   ]
  },
  {
   "cell_type": "markdown",
   "metadata": {},
   "source": [
    "**18. Read in some text from a corpus, tokenize it, and print the list of all ** *wh-* **word types that occur. (** *wh-* **words in English are used in questions, relative clauses and exclamations: ** *who*, *which*, *what* **, and so on.) Print them in order. Are any words duplicated in this list, because of the presence of case distinctions or punctuation?**"
   ]
  },
  {
   "cell_type": "code",
   "execution_count": 21,
   "metadata": {},
   "outputs": [
    {
     "name": "stdout",
     "output_type": "stream",
     "text": [
      "['What', 'Why', 'who']\n"
     ]
    }
   ],
   "source": [
    "f = 'corpus.txt'\n",
    "file = open(f,encoding=\"utf8\")\n",
    "raw = file.read()\n",
    "tokens = word_tokenize(raw)\n",
    "print([wh for wh in tokens if wh.lower().startswith('wh')])"
   ]
  },
  {
   "cell_type": "markdown",
   "metadata": {},
   "source": [
    "**19. Create a file consisting of words and (made up) frequencies, where each line consists of a word, the space character, and a positive integer, e.g. ** `fuzzy 53` **. Read the file into a Python list using ** ` open(filename).readlines()` **. Next, break each line into its two fields using ** `split()` **, and convert the number into an integer using ** `int()` **. The result should be a list of the form: ** `[['fuzzy', 53], ...]` **.**"
   ]
  },
  {
   "cell_type": "code",
   "execution_count": 22,
   "metadata": {},
   "outputs": [
    {
     "data": {
      "text/plain": [
       "[['fuzzy', 53], ['natural', 14], ['language', 12], ['processing', 16]]"
      ]
     },
     "execution_count": 22,
     "metadata": {},
     "output_type": "execute_result"
    }
   ],
   "source": [
    "filename = 'word_freq.txt'\n",
    "lines = open(filename).readlines()\n",
    "fields = []\n",
    "for line in lines:\n",
    "    field = line.split()\n",
    "    field[1] = int(field[1])\n",
    "    fields.append(field)\n",
    "fields"
   ]
  },
  {
   "cell_type": "markdown",
   "metadata": {},
   "source": [
    "**20. Write code to access a favorite webpage and extract some text from it. For example, access a weather site and extract the forecast top temperature for your town or city today.**"
   ]
  },
  {
   "cell_type": "code",
   "execution_count": 20,
   "metadata": {},
   "outputs": [
    {
     "data": {
      "text/plain": [
       "str"
      ]
     },
     "execution_count": 20,
     "metadata": {},
     "output_type": "execute_result"
    }
   ],
   "source": [
    "\t\n",
    ">>> from urllib import request\n",
    "\n",
    ">>> url = \"http://www.gutenberg.org/files/2554/2554-0.txt\"\n",
    ">>> response = request.urlopen(url)\n",
    ">>> raw = response.read().decode('utf8')\n",
    ">>> type(raw)"
   ]
  },
  {
   "cell_type": "code",
   "execution_count": 16,
   "metadata": {},
   "outputs": [
    {
     "data": {
      "text/plain": [
       "1176967"
      ]
     },
     "execution_count": 16,
     "metadata": {},
     "output_type": "execute_result"
    }
   ],
   "source": [
    "len(raw)"
   ]
  },
  {
   "cell_type": "code",
   "execution_count": 33,
   "metadata": {},
   "outputs": [],
   "source": [
    "# import urllib3.request\n",
    "# url = 'https://weather.com/weather/5day/l/CHXX0044:1:CH'\n",
    "# html = request.urlopen(url).read().decode('utf8')\n",
    "# high = int(re.findall(r'High (\\d+)F', html)[0])                    \n",
    "# high\n",
    "# # I just use regular expression instead of BeautifulSoup, which is a bit tricky:D"
   ]
  },
  {
   "cell_type": "code",
   "execution_count": 26,
   "metadata": {},
   "outputs": [
    {
     "name": "stderr",
     "output_type": "stream",
     "text": [
      "c:\\users\\ayush\\appdata\\local\\conda\\conda\\envs\\ai\\lib\\site-packages\\urllib3\\connectionpool.py:847: InsecureRequestWarning: Unverified HTTPS request is being made. Adding certificate verification is strongly advised. See: https://urllib3.readthedocs.io/en/latest/advanced-usage.html#ssl-warnings\n",
      "  InsecureRequestWarning)\n"
     ]
    },
    {
     "data": {
      "text/plain": [
       "'Using BeautifulSoup, requests to scrape weather data{\"@context\":\"http://schema.org\",\"@type\":\"NewsArticle\",\"image\":{\"@type\":\"ImageObject\",\"width\":545,\"height\":106,\"url\":\"https://cdn-images-1.medium.com/max/1090/1*OMF3fSqH8t4xBJ9-6oZDZw.png\"},\"url\":\"https://medium.com/@aakankshaws/using-beautifulsoup-requests-to-scrape-weather-data-9c6e9d317800\",\"dateCreated\":\"2018-06-28T06:07:39.544Z\",\"datePublished\":\"2018-06-28T06:07:39.544Z\",\"dateModified\":\"2019-01-17T11:51:57.524Z\",\"headline\":\"Using BeautifulSoup, requests to scrape weather data\",\"name\":\"Using BeautifulSoup, requests to scrape weather data\",\"articleId\":\"9c6e9d317800\",\"thumbnailUrl\":\"https://cdn-images-1.medium.com/max/1090/1*OMF3fSqH8t4xBJ9-6oZDZw.png\",\"keywords\":[\"Tag:Python\",\"Tag:Beautifulsoup\",\"Tag:Pandas\",\"Tag:Requests\",\"Tag:First Post\",\"LockedPostSource:0\",\"Elevated:false\",\"LayerCake:0\"],\"author\":{\"@type\":\"Person\",\"name\":\"Aakanksha W S\",\"url\":\"https://medium.com/@aakankshaws\"},\"creator\":[\"Aakanksha W S\"],\"publisher\":{\"@type\":\"Organization\",\"name\":\"Medium\",\"url\":\"https://medium.com/\",\"logo\":{\"@type\":\"ImageObject\",\"width\":308,\"height\":60,\"url\":\"https://cdn-images-1.medium.com/max/616/1*OMF3fSqH8t4xBJ9-6oZDZw.png\"}},\"mainEntityOfPage\":\"https://medium.com/@aakankshaws/using-beautifulsoup-requests-to-scrape-weather-data-9c6e9d317800\"}!function(n,e){var t,o,i,c=[],f={passive:!0,capture:!0},r=new Date,a=\"pointerup\",u=\"pointercancel\";function p(n,c){t||(t=c,o=n,i=new Date,w(e),s())}function s(){o>=0&&o<i-r&&(c.forEach(function(n){n(o,t)}),c=[])}function l(t){if(t.cancelable){var o=(t.timeStamp>1e12?new Date:performance.now())-t.timeStamp;\"pointerdown\"==t.type?function(t,o){function i(){p(t,o),r()}function c(){r()}function r(){e(a,i,f),e(u,c,f)}n(a,i,f),n(u,c,f)}(o,t):p(o,t)}}function w(n){[\"click\",\"mousedown\",\"keydown\",\"touchstart\",\"pointerdown\"].forEach(function(e){n(e,l,f)})}w(n),self.perfMetrics=self.perfMetrics||{},self.perfMetrics.onFirstInputDelay=function(n){c.push(n),s()}}(addEventListener,removeEventListener);if (window.top !== window.self) window.top.location = window.self.location.href;var OB_startTime = new Date().getTime(); var OB_loadErrors = []; function _onerror(e) { OB_loadErrors.push(e) }; if (document.addEventListener) document.addEventListener(\"error\", _onerror, true); else if (document.attachEvent) document.attachEvent(\"onerror\", _onerror); function _asyncScript(u) {var d = document, f = d.getElementsByTagName(\"script\")[0], s = d.createElement(\"script\"); s.type = \"text/javascript\"; s.async = true; s.src = u; f.parentNode.insertBefore(s, f);}function _asyncStyles(u) {var d = document, f = d.getElementsByTagName(\"script\")[0], s = d.createElement(\"link\"); s.rel = \"stylesheet\"; s.href = u; f.parentNode.insertBefore(s, f); return s}(new Image()).src = \"/_/stat?event=pixel.load&origin=\" + encodeURIComponent(location.origin);window.ga=window.ga||function(){(ga.q=ga.q||[]).push(arguments)};ga.l=+new Date; ga(\"create\", \"UA-24232453-2\", \"auto\", {\"allowLinker\": true, \"legacyCookieDomain\": window.location.hostname}); ga(\"send\", \"pageview\");(function () {var height = window.innerHeight || document.documentElement.clientHeight || document.body.clientHeight; var width = window.innerWidth || document.documentElement.clientWidth || document.body.clientWidth; document.write(\"<style>section.section-image--fullBleed.is-backgrounded {padding-top: \" + Math.round(1.1 * height) + \"px;}section.section-image--fullScreen.is-backgrounded, section.section-image--coverFade.is-backgrounded {min-height: \" + height + \"px; padding-top: \" + Math.round(0.5 * height) + \"px;}.u-height100vh {height: \" + height + \"px !important;}.u-height110vh {height: \" + Math.round(1.1 * height) + \"px !important;}.u-minHeight100vh {min-height: \" + height + \"px !important;}.u-maxHeight100vh {max-height: \" + height + \"px !important;}section.section-image--coverFade {height: \" + height + \"px;}.section-aspectRatioViewportPlaceholder, .section-aspectRatioViewportCropPlaceholder {max-height: \" + height + \"px;}.section-aspectRatioViewportBottomSpacer, .section-aspectRatioViewportBottomPlaceholder {max-height: \" + Math.round(0.5 * height) + \"px;}.zoomable:before {top: \" + (-1 * height) + \"px; left: \" + (-1 * width) + \"px; padding: \" + height + \"px \" + width + \"px;}</style>\");})()document.body.className = document.body.className.replace(/(^|\\\\s)is-noJs(\\\\s|$)/, \"$1is-js$2\")HomepageHomepageBecome a memberSign inGet startedUsing BeautifulSoup, requests to scrape weather\\xa0dataAakanksha W SBlockedUnblockFollowFollowingJun 27, 2018This is my first blog post and I shall illustrate how to scrape weather prediction data from weather.com website.Web Scraping is a method of extracting unstructured data(HTML format) from the websites and make meaningful sense out of it by transforming into structured data(database/spreadsheet).Getting Started-We are using python language along with it’s libraries, requests and BeautifulSoup for web scraping.Requests- is a Python HTTP library. It makes HTTP requests simpler. we just need to add the URL as an argument and the get() gets all the information from it.import requestspage = requests.get(\"https://weather.com/en-IN/weather/tenday/l/INKA0344:1:IN\")In the above code, we imported the request library and stored data from URL into the response object page.BeautifulSoup- is another powerful Python library for pulling out data from HTML/XML files. It creates a parse tree for parsed pages that can be used to extract data from HTML, which is useful for web scraping.from bs4 import BeautifulSoupsoup=BeautifulSoup(page.content,\"html.parser\")In the above code BeautifulSoup is imported from bs4 and parsed html page content. So now soup contains the parsed content of the web page.all=soup.find(\"div\",{\"class\":\"locations-title ten-day-page-title\"}).find(\"h1\").texttable=soup.find_all(\"table\",{\"class\":\"twc-table\"})l=[]for items in table: for i in range(len(items.find_all(\"tr\"))-1):  d = {}    d[\"day\"]=items.find_all(\"span\",{\"class\":\"date-time\"})[i].text  d[\"date\"]=items.find_all(\"span\",{\"class\":\"day-detail\"})[i].text  d[\"desc\"]=items.find_all(\"td\",{\"class\":\"description\"})[i].text   d[\"temp\"]=items.find_all(\"td\",{\"class\":\"temp\"})[i].text   d[\"precip\"]=items.find_all(\"td\",{\"class\":\"precip\"})[i].text  d[\"wind\"]=items.find_all(\"td\",{\"class\":\"wind\"})[i].text    d[\"humidity\"]=items.find_all(\"td\",{\"class\":\"humidity\"})[i].text   l.append(d)Above is the code to scrape of only a few things from the weather site.We can use find_all method to pick up all the html elements of tag passed in as argument and it’s descendants. Whereas, find method will search for the elements of the tag passed, div is passed here so, we shall get all the results of div tag from the page content.In l.append(d)\\xa0,we are appending all the data to the l of type list. This way we can use this list as it is or convert into any type of structured file.Here we shall see how to convert the list to csv file. We can do this with the help of pandas.pip install pandasimport pandasdf = pandas.DataFrame(l)df.to_csv(\"output.csv\")The list is transformed to a dataframe with the pandas. df.to_csv is used to convert the data frame to a CSV(Comma Seperated Values) file.You can check my code here.This is just a basic code which scrapes the weather data found on website into a CSV file which can be used to visualize the data in a meaningful way. This is my first blog and my first code with BeautifulSoup. I would appreciate feedback or suggestions.\\xa0:)PythonBeautifulsoupPandasRequestsFirst Post20 clapsBlockedUnblockFollowFollowingAakanksha W Shttps://www.linkedin.com/in/aakankshaws/20Never miss a story from Aakanksha W S, when you sign up for Medium. Learn moreBlockedUnblockFollowGet updates// <![CDATA[\\nwindow[\"obvInit\"] = function (opt_embedded) {window[\"obvInit\"][\"embedded\"] = opt_embedded; window[\"obvInit\"][\"ready\"] = true;}\\n// ]]>// <![CDATA[\\nvar GLOBALS = {\"audioUrl\":\"https://d1fcbxp97j4nb2.cloudfront.net\",\"baseUrl\":\"https://medium.com\",\"buildLabel\":\"37692-22767ee\",\"currentUser\":{\"userId\":\"lo_c2y6vujSGhBN\",\"isVerified\":false,\"subscriberEmail\":\"\",\"hasPastMemberships\":false,\"isEnrolledInHightower\":false,\"isEligibleForHightower\":false,\"hightowerLastLockedAt\":0,\"isWriterProgramEnrolled\":true,\"isWriterProgramInvited\":false,\"isWriterProgramOptedOut\":false,\"writerProgramVersion\":0,\"writerProgramEnrolledAt\":0,\"friendLinkOnboarding\":0,\"hasAdditionalUnlocks\":false,\"hasApiAccess\":false,\"isQuarantined\":false,\"writerProgramDistributionSettingOptedIn\":false},\"currentUserHasUnverifiedEmail\":false,\"isAuthenticated\":false,\"isCurrentUserVerified\":false,\"miroUrl\":\"https://cdn-images-1.medium.com\",\"moduleUrls\":{\"base\":\"https://cdn-static-1.medium.com/_/fp/gen-js/main-base.bundle.IWI0mhh9eIx0B9v3NiuEJQ.js\",\"common-async\":\"https://cdn-static-1.medium.com/_/fp/gen-js/main-common-async.bundle.qgYmCFHxFM_JM-TUIrisaw.js\",\"hightower\":\"https://cdn-static-1.medium.com/_/fp/gen-js/main-hightower.bundle.rCzjsyPj9aJub9Xdq1nbrQ.js\",\"home-screens\":\"https://cdn-static-1.medium.com/_/fp/gen-js/main-home-screens.bundle.xAvr69LHiCOWYD9lnzREhA.js\",\"misc-screens\":\"https://cdn-static-1.medium.com/_/fp/gen-js/main-misc-screens.bundle.kmKePhhBvoyZQsRT_XLEBA.js\",\"notes\":\"https://cdn-static-1.medium.com/_/fp/gen-js/main-notes.bundle._IuLpHKMEbjDro7Xkg8uZA.js\",\"payments\":\"https://cdn-static-1.medium.com/_/fp/gen-js/main-payments.bundle.PfzIwjiQFGoLp0cVI9iD6w.js\",\"posters\":\"https://cdn-static-1.medium.com/_/fp/gen-js/main-posters.bundle.HHzda_HLtRhyH3wnHHh_1Q.js\",\"power-readers\":\"https://cdn-static-1.medium.com/_/fp/gen-js/main-power-readers.bundle._FEG9lstBfs85jvTQ81rOQ.js\",\"pubs\":\"https://cdn-static-1.medium.com/_/fp/gen-js/main-pubs.bundle.iduwKZX5boU9t9eLCzC9uQ.js\",\"stats\":\"https://cdn-static-1.medium.com/_/fp/gen-js/main-stats.bundle.eA1rfRzjK-QRgdQMNQhn7g.js\"},\"previewConfig\":{\"weightThreshold\":1,\"weightImageParagraph\":0.51,\"weightIframeParagraph\":0.8,\"weightTextParagraph\":0.08,\"weightEmptyParagraph\":0,\"weightP\":0.003,\"weightH\":0.005,\"weightBq\":0.003,\"minPTextLength\":60,\"truncateBoundaryChars\":20,\"detectTitle\":true,\"detectTitleLevThreshold\":0.15},\"productName\":\"Medium\",\"supportsEdit\":false,\"termsUrl\":\"//medium.com/policy/9db0094a1e0f\",\"textshotHost\":\"textshot.medium.com\",\"transactionId\":\"1559520516200:2e79cf5e611d\",\"useragent\":{\"browser\":\"other\",\"family\":\"\",\"os\":\"\",\"version\":0,\"supportsDesktopEdit\":false,\"supportsInteract\":false,\"supportsView\":true,\"isMobile\":false,\"isTablet\":false,\"isNative\":false,\"supportsFileAPI\":false,\"isTier1\":false,\"clientVersion\":\"\",\"unknownParagraphsBad\":false,\"clientChannel\":\"\",\"supportsRealScrollEvents\":false,\"supportsVhUnits\":false,\"ruinsViewportSections\":false,\"supportsHtml5Video\":false,\"supportsMagicUnderlines\":false,\"isWebView\":false,\"isFacebookWebView\":false,\"supportsProgressiveMedia\":false,\"supportsPromotedPosts\":true,\"isBot\":false,\"isNativeIphone\":false,\"supportsCssVariables\":false,\"supportsVideoSections\":true,\"emojiSupportLevel\":1,\"isSearchBot\":false,\"isSyndicationBot\":false,\"isNativeAndroid\":false,\"isNativeIos\":false,\"supportsScrollableMetabar\":false},\"variants\":{\"allow_access\":true,\"allow_signup\":true,\"allow_test_auth\":\"disallow\",\"signin_services\":\"twitter,facebook,google,email,google-fastidv,google-one-tap\",\"signup_services\":\"twitter,facebook,google,email,google-fastidv,google-one-tap\",\"google_sign_in_android\":true,\"reengagement_notification_duration\":3,\"browsable_stream_config_bucket\":\"curated\",\"enable_dedicated_series_tab_api_ios\":true,\"enable_post_import\":true,\"available_monthly_plan\":\"60e220181034\",\"available_annual_plan\":\"2c754bcc2995\",\"disable_ios_resume_reading_toast\":true,\"is_not_medium_subscriber\":true,\"glyph_font_set\":\"m2\",\"enable_branding\":true,\"enable_branding_fonts\":true,\"max_premium_content_per_user_under_metering\":3,\"enable_automated_mission_control_triggers\":true,\"enable_lite_profile\":true,\"enable_marketing_emails\":true,\"enable_topic_lifecycle_email\":true,\"enable_parsely\":true,\"enable_branch_io\":true,\"enable_ios_post_stats\":true,\"enable_lite_topics\":true,\"enable_lite_stories\":true,\"redis_read_write_splitting\":true,\"enable_tipalti_onboarding\":true,\"enable_international_tax_withholding\":true,\"enable_international_tax_withholding_documentation\":true,\"enable_revised_first_partner_program_distro_on_email\":true,\"enable_annual_renewal_reminder_email\":true,\"enable_janky_spam_rules\":\"users,posts\",\"enable_new_collaborative_filtering_data\":true,\"android_rating_prompt_stories_read_threshold\":2,\"stripe_v3\":true,\"enable_google_one_tap\":true,\"enable_email_sign_in_captcha\":true,\"enable_primary_topic_for_mobile\":true,\"enable_todays_highlights_ios\":true,\"enable_todays_highlights_android\":true,\"enable_logged_out_homepage_signup\":true,\"use_new_admin_topic_backend\":true,\"enable_quarantine_rules\":true,\"enable_patronus_on_kubernetes\":true,\"pub_sidebar\":true,\"disable_mobile_featured_chunk\":true,\"enable_pub_newsletters\":true,\"enable_may_meter_email_test\":true,\"enable_new_user_avatar_dropdown_menu\":true,\"enable_send_pub_digest\":true,\"enable_draft_in_post_cotent\":true,\"enable_paypal_cancel_webhook\":true,\"enable_retrained_ranking_model_homepage\":true,\"enable_lite_meter_controller\":true,\"enable_lite_pardon_the_interruption\":true},\"xsrfToken\":\"\",\"iosAppId\":\"828256236\",\"supportEmail\":\"yourfriends@medium.com\",\"fp\":{\"/icons/monogram-mask.svg\":\"https://cdn-static-1.medium.com/_/fp/icons/monogram-mask.KPLCSFEZviQN0jQ7veN2RQ.svg\",\"/icons/favicon-dev-editor.ico\":\"https://cdn-static-1.medium.com/_/fp/icons/favicon-dev-editor.YKKRxBO8EMvIqhyCwIiJeQ.ico\",\"/icons/favicon-hatch-editor.ico\":\"https://cdn-static-1.medium.com/_/fp/icons/favicon-hatch-editor.BuEyHIqlyh2s_XEk4Rl32Q.ico\",\"/icons/favicon-medium-editor.ico\":\"https://cdn-static-1.medium.com/_/fp/icons/favicon-medium-editor.PiakrZWB7Yb80quUVQWM6g.ico\"},\"authBaseUrl\":\"https://medium.com\",\"imageUploadSizeMb\":25,\"isAuthDomainRequest\":true,\"algoliaApiEndpoint\":\"https://MQ57UUUQZ2-dsn.algolia.net\",\"algoliaAppId\":\"MQ57UUUQZ2\",\"algoliaSearchOnlyApiKey\":\"394474ced050e3911ae2249ecc774921\",\"iosAppStoreUrl\":\"https://itunes.apple.com/app/medium-everyones-stories/id828256236?pt=698524&mt=8\",\"iosAppLinkBaseUrl\":\"medium:\",\"algoliaIndexPrefix\":\"medium_\",\"androidPlayStoreUrl\":\"https://play.google.com/store/apps/details?id=com.medium.reader\",\"googleClientId\":\"216296035834-k1k6qe060s2tp2a2jam4ljdcms00sttg.apps.googleusercontent.com\",\"androidPackage\":\"com.medium.reader\",\"androidPlayStoreMarketScheme\":\"market://details?id=com.medium.reader\",\"googleAuthUri\":\"https://accounts.google.com/o/oauth2/auth\",\"androidScheme\":\"medium\",\"layoutData\":{\"useDynamicScripts\":false,\"googleAnalyticsTrackingCode\":\"UA-24232453-2\",\"jsShivUrl\":\"https://cdn-static-1.medium.com/_/fp/js/shiv.RI2ePTZ5gFmMgLzG5bEVAA.js\",\"useDynamicCss\":false,\"faviconUrl\":\"https://cdn-static-1.medium.com/_/fp/icons/favicon-rebrand-medium.3Y6xpZ-0FSdWDnPM3hSBIA.ico\",\"faviconImageId\":\"1*8I-HPL0bfoIzGied-dzOvA.png\",\"fontSets\":[{\"id\":8,\"url\":\"https://glyph.medium.com/css/e/sr/latin/e/ssr/latin/e/ssb/latin/m2.css\"},{\"id\":11,\"url\":\"https://glyph.medium.com/css/m2.css\"},{\"id\":9,\"url\":\"https://glyph.medium.com/css/mkt.css\"}],\"editorFaviconUrl\":\"https://cdn-static-1.medium.com/_/fp/icons/favicon-rebrand-medium-editor.3Y6xpZ-0FSdWDnPM3hSBIA.ico\",\"glyphUrl\":\"https://glyph.medium.com\"},\"authBaseUrlRev\":\"moc.muidem//:sptth\",\"isDnt\":false,\"stripePublishableKey\":\"pk_live_7FReX44VnNIInZwrIIx6ghjl\",\"archiveUploadSizeMb\":100,\"paymentData\":{\"currencies\":{\"1\":{\"label\":\"US Dollar\",\"external\":\"usd\"}},\"countries\":{\"1\":{\"label\":\"United States of America\",\"external\":\"US\"}},\"accountTypes\":{\"1\":{\"label\":\"Individual\",\"external\":\"individual\"},\"2\":{\"label\":\"Company\",\"external\":\"company\"}}},\"previewConfig2\":{\"weightThreshold\":1,\"weightImageParagraph\":0.05,\"raiseImage\":true,\"enforceHeaderHierarchy\":true,\"isImageInsetRight\":true},\"isAmp\":false,\"iosScheme\":\"medium\",\"isSwBoot\":false,\"lightstep\":{\"accessToken\":\"ce5be895bef60919541332990ac9fef2\",\"carrier\":\"{\\\\\"ot-tracer-spanid\\\\\":\\\\\"6264c205174f3cfb\\\\\",\\\\\"ot-tracer-traceid\\\\\":\\\\\"6367f6610269e87f\\\\\",\\\\\"ot-tracer-sampled\\\\\":\\\\\"true\\\\\"}\",\"host\":\"collector-medium.lightstep.com\"},\"facebook\":{\"key\":\"542599432471018\",\"namespace\":\"medium-com\",\"scope\":{\"default\":[\"public_profile\",\"email\"],\"connect\":[\"public_profile\",\"email\"],\"login\":[\"public_profile\",\"email\"],\"share\":[\"public_profile\",\"email\"]}},\"editorsPicksTopicId\":\"3985d2a191c5\",\"popularOnMediumTopicId\":\"9d34e48ecf94\",\"memberContentTopicId\":\"13d7efd82fb2\",\"audioContentTopicId\":\"3792abbd134\",\"brandedSequenceId\":\"7d337ddf1941\",\"isDoNotAuth\":false,\"buggle\":{\"url\":\"https://buggle.medium.com\",\"videoUrl\":\"https://cdn-videos-1.medium.com\",\"audioUrl\":\"https://cdn-audio-1.medium.com\"},\"referrerType\":5,\"isMeteredOut\":false,\"meterConfig\":{\"maxUnlockCount\":3,\"windowLength\":\"MONTHLY\"},\"partnerProgramEmail\":\"partnerprogram@medium.com\",\"userResearchPrompts\":[{\"promptId\":\"lo_post_page_4\",\"type\":0,\"url\":\"www.calendly.com\"},{\"promptId\":\"lo_home_page\",\"type\":1,\"url\":\"www.calendly.com\"},{\"promptId\":\"lo_profile_page\",\"type\":2,\"url\":\"www.calendly.com\"}],\"recaptchaKey\":\"6LdAokEUAAAAAC7seICd4vtC8chDb3jIXDQulyUJ\",\"signinWallCustomDomainCollectionIds\":[\"3a8144eabfe3\",\"336d898217ee\",\"61061eb0c96b\",\"138adf9c44c\",\"819cc2aaeee0\"],\"countryCode\":\"NP\",\"bypassMeter\":false,\"branchKey\":\"key_live_ofxXr2qTrrU9NqURK8ZwEhknBxiI6KBm\",\"paypal\":{\"clientMode\":\"production\",\"oneYearGift\":{\"name\":\"Medium Membership (1 Year, Digital Gift Code)\",\"description\":\"Unlimited access to the best and brightest stories on Medium. Gift codes can be redeemed at medium.com/redeem.\",\"price\":\"50.00\",\"currency\":\"USD\",\"sku\":\"membership-gift-1-yr\"}},\"collectionConfig\":{\"mediumOwnedAndOperatedCollectionIds\":[\"544c7006046e\",\"bcc38c8f6edf\",\"444d13b52878\",\"8d6b8a439e32\",\"92d2092dc598\",\"1285ba81cada\",\"cb8577c9149e\"]}}\\n// ]]>// <![CDATA[\\nwindow[\"obvInit\"]({\"value\":{\"id\":\"9c6e9d317800\",\"versionId\":\"e84c011a5b22\",\"creatorId\":\"2131ed332b15\",\"creator\":{\"userId\":\"2131ed332b15\",\"name\":\"Aakanksha W S\",\"username\":\"aakankshaws\",\"createdAt\":1513849104473,\"imageId\":\"1*LyrjQEGDHsaR_KnDmsPzmA.png\",\"backgroundImageId\":\"\",\"bio\":\"https://www.linkedin.com/in/aakankshaws/\",\"twitterScreenName\":\"\",\"socialStats\":{\"userId\":\"2131ed332b15\",\"usersFollowedCount\":29,\"usersFollowedByCount\":9,\"type\":\"SocialStats\"},\"social\":{\"userId\":\"lo_YxvHdJ5cUQnx\",\"targetUserId\":\"2131ed332b15\",\"type\":\"Social\"},\"facebookAccountId\":\"\",\"allowNotes\":1,\"mediumMemberAt\":0,\"isNsfw\":false,\"isWriterProgramEnrolled\":true,\"isQuarantined\":false,\"type\":\"User\"},\"homeCollectionId\":\"\",\"title\":\"Using BeautifulSoup, requests to scrape weather data\",\"detectedLanguage\":\"en\",\"latestVersion\":\"e84c011a5b22\",\"latestPublishedVersion\":\"e84c011a5b22\",\"hasUnpublishedEdits\":false,\"latestRev\":769,\"createdAt\":1529386876703,\"updatedAt\":1547725917524,\"acceptedAt\":0,\"firstPublishedAt\":1530166059544,\"latestPublishedAt\":1547725917524,\"vote\":false,\"experimentalCss\":\"\",\"displayAuthor\":\"\",\"content\":{\"subtitle\":\"This is my first blog post and I shall illustrate how to scrape weather prediction data from weather.com website.\",\"bodyModel\":{\"paragraphs\":[{\"name\":\"e8b2\",\"type\":3,\"text\":\"Using BeautifulSoup, requests to scrape weather data\",\"markups\":[]},{\"name\":\"105a\",\"type\":1,\"text\":\"This is my first blog post and I shall illustrate how to scrape weather prediction data from weather.com website.\",\"markups\":[]},{\"name\":\"c888\",\"type\":6,\"text\":\"Web Scraping is a method of extracting unstructured data(HTML format) from the websites and make meaningful sense out of it by transforming into structured data(database/spreadsheet).\",\"markups\":[{\"type\":1,\"start\":0,\"end\":183}]},{\"name\":\"8d53\",\"type\":13,\"text\":\"Getting Started-\",\"markups\":[]},{\"name\":\"9410\",\"type\":1,\"text\":\"We are using python language along with it’s libraries, requests and BeautifulSoup for web scraping.\",\"markups\":[{\"type\":2,\"start\":56,\"end\":65},{\"type\":2,\"start\":69,\"end\":99}]},{\"name\":\"665e\",\"type\":1,\"text\":\"Requests- is a Python HTTP library. It makes HTTP requests simpler. we just need to add the URL as an argument and the get() gets all the information from it.\",\"markups\":[{\"type\":10,\"start\":119,\"end\":124},{\"type\":1,\"start\":0,\"end\":8}]},{\"name\":\"e9fc\",\"type\":8,\"text\":\"import requests\\\\npage = requests.get(\\\\\"https://weather.com/en-IN/weather/tenday/l/INKA0344:1:IN\\\\\")\",\"markups\":[]},{\"name\":\"358f\",\"type\":1,\"text\":\"In the above code, we imported the request library and stored data from URL into the response object page.\",\"markups\":[{\"type\":10,\"start\":101,\"end\":105}]},{\"name\":\"9c8e\",\"type\":1,\"text\":\"BeautifulSoup- is another powerful Python library for pulling out data from HTML/XML files. It creates a parse tree for parsed pages that can be used to extract data from HTML, which is useful for web scraping.\",\"markups\":[{\"type\":1,\"start\":0,\"end\":13}]},{\"name\":\"6d9a\",\"type\":8,\"text\":\"from bs4 import BeautifulSoup\\\\nsoup=BeautifulSoup(page.content,\\\\\"html.parser\\\\\")\",\"markups\":[]},{\"name\":\"4490\",\"type\":1,\"text\":\"In the above code BeautifulSoup is imported from bs4 and parsed html page content. So now soup contains the parsed content of the web page.\",\"markups\":[{\"type\":10,\"start\":90,\"end\":94}]},{\"name\":\"0e08\",\"type\":8,\"text\":\"all=soup.find(\\\\\"div\\\\\",{\\\\\"class\\\\\":\\\\\"locations-title ten-day-page-title\\\\\"}).find(\\\\\"h1\\\\\").text\",\"markups\":[]},{\"name\":\"9235\",\"type\":8,\"text\":\"table=soup.find_all(\\\\\"table\\\\\",{\\\\\"class\\\\\":\\\\\"twc-table\\\\\"})\\\\nl=[]\\\\nfor items in table:\\\\n for i in range(len(items.find_all(\\\\\"tr\\\\\"))-1):\\\\n  d = {}  \\\\n  d[\\\\\"day\\\\\"]=items.find_all(\\\\\"span\\\\\",{\\\\\"class\\\\\":\\\\\"date-time\\\\\"})[i].text\\\\n  d[\\\\\"date\\\\\"]=items.find_all(\\\\\"span\\\\\",{\\\\\"class\\\\\":\\\\\"day-detail\\\\\"})[i].text\\\\n  d[\\\\\"desc\\\\\"]=items.find_all(\\\\\"td\\\\\",{\\\\\"class\\\\\":\\\\\"description\\\\\"})[i].text \\\\n  d[\\\\\"temp\\\\\"]=items.find_all(\\\\\"td\\\\\",{\\\\\"class\\\\\":\\\\\"temp\\\\\"})[i].text \\\\n  d[\\\\\"precip\\\\\"]=items.find_all(\\\\\"td\\\\\",{\\\\\"class\\\\\":\\\\\"precip\\\\\"})[i].text\\\\n  d[\\\\\"wind\\\\\"]=items.find_all(\\\\\"td\\\\\",{\\\\\"class\\\\\":\\\\\"wind\\\\\"})[i].text  \\\\n  d[\\\\\"humidity\\\\\"]=items.find_all(\\\\\"td\\\\\",{\\\\\"class\\\\\":\\\\\"humidity\\\\\"})[i].text \\\\n  l.append(d)\",\"markups\":[]},{\"name\":\"e331\",\"type\":1,\"text\":\"Above is the code to scrape of only a few things from the weather site.\",\"markups\":[]},{\"name\":\"6b5e\",\"type\":1,\"text\":\"We can use find_all method to pick up all the html elements of tag passed in as argument and it’s descendants. Whereas, find method will search for the elements of the tag passed, div is passed here so, we shall get all the results of div tag from the page content.\",\"markups\":[{\"type\":10,\"start\":11,\"end\":19},{\"type\":10,\"start\":120,\"end\":124},{\"type\":10,\"start\":180,\"end\":183}]},{\"name\":\"7155\",\"type\":1,\"text\":\"In l.append(d) ,we are appending all the data to the l of type list. This way we can use this list as it is or convert into any type of structured file.\",\"markups\":[{\"type\":10,\"start\":3,\"end\":14},{\"type\":10,\"start\":53,\"end\":54}]},{\"name\":\"7a1e\",\"type\":1,\"text\":\"Here we shall see how to convert the list to csv file. We can do this with the help of pandas.\",\"markups\":[]},{\"name\":\"9a8b\",\"type\":1,\"text\":\"pip install pandas\",\"markups\":[{\"type\":10,\"start\":0,\"end\":18}]},{\"name\":\"c3fa\",\"type\":8,\"text\":\"import pandas\\\\ndf = pandas.DataFrame(l)\\\\ndf.to_csv(\\\\\"output.csv\\\\\")\",\"markups\":[]},{\"name\":\"6168\",\"type\":1,\"text\":\"The list is transformed to a dataframe with the pandas. df.to_csv is used to convert the data frame to a CSV(Comma Seperated Values) file.\",\"markups\":[{\"type\":10,\"start\":56,\"end\":65}]},{\"name\":\"fb17\",\"type\":1,\"text\":\"You can check my code here.\",\"markups\":[{\"type\":3,\"start\":22,\"end\":26,\"href\":\"https://github.com/aakankshaws/Python\",\"title\":\"\",\"rel\":\"noopener\",\"anchorType\":0},{\"type\":1,\"start\":0,\"end\":27},{\"type\":2,\"start\":0,\"end\":27}]},{\"name\":\"7fcd\",\"type\":1,\"text\":\"This is just a basic code which scrapes the weather data found on website into a CSV file which can be used to visualize the data in a meaningful way. This is my first blog and my first code with BeautifulSoup. I would appreciate feedback or suggestions. :)\",\"markups\":[]}],\"sections\":[{\"name\":\"aaf1\",\"startIndex\":0}]},\"postDisplay\":{\"coverless\":true}},\"virtuals\":{\"allowNotes\":true,\"previewImage\":{\"imageId\":\"\",\"filter\":\"\",\"backgroundSize\":\"\",\"originalWidth\":0,\"originalHeight\":0,\"strategy\":\"resample\",\"height\":0,\"width\":0},\"wordCount\":426,\"imageCount\":0,\"readingTime\":1.6075471698113208,\"subtitle\":\"This is my first blog post and I shall illustrate how to scrape weather prediction data from weather.com website.\",\"usersBySocialRecommends\":[],\"noIndex\":false,\"recommends\":7,\"socialRecommends\":[],\"isBookmarked\":false,\"tags\":[{\"slug\":\"python\",\"name\":\"Python\",\"postCount\":28662,\"metadata\":{\"postCount\":28662,\"coverImage\":{\"id\":\"1*B38rwiQOcVjtwQy988CfJA.png\",\"originalWidth\":820,\"originalHeight\":312,\"isFeatured\":true}},\"type\":\"Tag\"},{\"slug\":\"beautifulsoup\",\"name\":\"Beautifulsoup\",\"postCount\":177,\"metadata\":{\"postCount\":177,\"coverImage\":{\"id\":\"1*67wEMv9W-oaHhUEXwxsRUg.png\",\"originalWidth\":800,\"originalHeight\":534,\"isFeatured\":true}},\"type\":\"Tag\"},{\"slug\":\"pandas\",\"name\":\"Pandas\",\"postCount\":1231,\"metadata\":{\"postCount\":1231,\"coverImage\":{\"id\":\"0*w7dsjAY9CKNY7owL.png\",\"originalWidth\":446,\"originalHeight\":392,\"isFeatured\":true}},\"type\":\"Tag\"},{\"slug\":\"request\",\"name\":\"Requests\",\"postCount\":14,\"metadata\":{\"postCount\":14,\"coverImage\":{\"id\":\"1*8cJqTMzQ5N8AO5afgVLeNg.jpeg\",\"originalWidth\":600,\"originalHeight\":450}},\"type\":\"Tag\"},{\"slug\":\"first-post\",\"name\":\"First Post\",\"postCount\":3807,\"metadata\":{\"postCount\":3807,\"coverImage\":{\"id\":\"1*er9RGXNodI1D9nZzLSv3Fg.jpeg\",\"originalWidth\":4592,\"originalHeight\":3448,\"isFeatured\":true}},\"type\":\"Tag\"}],\"socialRecommendsCount\":0,\"responsesCreatedCount\":0,\"links\":{\"entries\":[{\"url\":\"https://github.com/aakankshaws/Python\",\"alts\":[],\"httpStatus\":200}],\"version\":\"0.3\",\"generatedAt\":1547725917888},\"isLockedPreviewOnly\":false,\"metaDescription\":\"\",\"totalClapCount\":20,\"sectionCount\":1,\"readingList\":0,\"topics\":[]},\"coverless\":true,\"slug\":\"using-beautifulsoup-requests-to-scrape-weather-data\",\"translationSourcePostId\":\"\",\"translationSourceCreatorId\":\"\",\"isApprovedTranslation\":false,\"inResponseToPostId\":\"\",\"inResponseToRemovedAt\":0,\"isTitleSynthesized\":true,\"allowResponses\":true,\"importedUrl\":\"\",\"importedPublishedAt\":0,\"visibility\":0,\"uniqueSlug\":\"using-beautifulsoup-requests-to-scrape-weather-data-9c6e9d317800\",\"previewContent\":{\"bodyModel\":{\"paragraphs\":[{\"name\":\"e8b2\",\"type\":3,\"text\":\"Using BeautifulSoup, requests to scrape weather data\",\"markups\":[],\"alignment\":1},{\"name\":\"105a\",\"type\":1,\"text\":\"This is my first blog post and I shall illustrate how to scrape weather prediction data from weather.com website.\",\"markups\":[],\"alignment\":1},{\"name\":\"c888\",\"type\":6,\"text\":\"Web Scraping is a method of extracting unstructured data(HTML format) from the websites and make…\",\"markups\":[{\"type\":1,\"start\":0,\"end\":96}],\"alignment\":1}],\"sections\":[{\"startIndex\":0}]},\"isFullContent\":false,\"subtitle\":\"This is my first blog post and I shall illustrate how to scrape weather prediction data from weather.com website.\"},\"license\":0,\"inResponseToMediaResourceId\":\"\",\"canonicalUrl\":\"https://medium.com/@aakankshaws/using-beautifulsoup-requests-to-scrape-weather-data-9c6e9d317800\",\"approvedHomeCollectionId\":\"\",\"newsletterId\":\"\",\"webCanonicalUrl\":\"https://medium.com/@aakankshaws/using-beautifulsoup-requests-to-scrape-weather-data-9c6e9d317800\",\"mediumUrl\":\"https://medium.com/@aakankshaws/using-beautifulsoup-requests-to-scrape-weather-data-9c6e9d317800\",\"migrationId\":\"\",\"notifyFollowers\":true,\"notifyTwitter\":false,\"notifyFacebook\":false,\"responseHiddenOnParentPostAt\":0,\"isSeries\":false,\"isSubscriptionLocked\":false,\"seriesLastAppendedAt\":0,\"audioVersionDurationSec\":0,\"sequenceId\":\"\",\"isNsfw\":false,\"isEligibleForRevenue\":false,\"isBlockedFromHightower\":false,\"deletedAt\":0,\"lockedPostSource\":0,\"hightowerMinimumGuaranteeStartsAt\":0,\"hightowerMinimumGuaranteeEndsAt\":0,\"featureLockRequestAcceptedAt\":0,\"mongerRequestType\":1,\"layerCake\":0,\"socialTitle\":\"\",\"socialDek\":\"\",\"editorialPreviewTitle\":\"\",\"editorialPreviewDek\":\"\",\"curationEligibleAt\":0,\"isProxyPost\":false,\"proxyPostFaviconUrl\":\"\",\"proxyPostProviderName\":\"\",\"type\":\"Post\"},\"mentionedUsers\":[],\"collaborators\":[],\"hideMeter\":false,\"collectionUserRelations\":[],\"mode\":null,\"references\":{\"User\":{\"2131ed332b15\":{\"userId\":\"2131ed332b15\",\"name\":\"Aakanksha W S\",\"username\":\"aakankshaws\",\"createdAt\":1513849104473,\"imageId\":\"1*LyrjQEGDHsaR_KnDmsPzmA.png\",\"backgroundImageId\":\"\",\"bio\":\"https://www.linkedin.com/in/aakankshaws/\",\"twitterScreenName\":\"\",\"socialStats\":{\"userId\":\"2131ed332b15\",\"usersFollowedCount\":29,\"usersFollowedByCount\":9,\"type\":\"SocialStats\"},\"social\":{\"userId\":\"lo_YxvHdJ5cUQnx\",\"targetUserId\":\"2131ed332b15\",\"type\":\"Social\"},\"facebookAccountId\":\"\",\"allowNotes\":1,\"mediumMemberAt\":0,\"isNsfw\":false,\"isWriterProgramEnrolled\":true,\"isQuarantined\":false,\"type\":\"User\"}},\"Social\":{\"2131ed332b15\":{\"userId\":\"lo_YxvHdJ5cUQnx\",\"targetUserId\":\"2131ed332b15\",\"type\":\"Social\"}},\"SocialStats\":{\"2131ed332b15\":{\"userId\":\"2131ed332b15\",\"usersFollowedCount\":29,\"usersFollowedByCount\":9,\"type\":\"SocialStats\"}}}})\\n// ]]>window.PARSELY = window.PARSELY || { autotrack: false }(function(b,r,a,n,c,h,_,s,d,k){if(!b[n]||!b[n]._q){for(;s<_.length;)c(h,_[s++]);d=r.createElement(a);d.async=1;d.src=\"https://cdn.branch.io/branch-latest.min.js\";k=r.getElementsByTagName(a)[0];k.parentNode.insertBefore(d,k);b[n]=h}})(window,document,\"script\",\"branch\",function(b,r){b[r]=function(){b._q.push([r,arguments])}},{_q:[],_v:1},\"addListener applyCode autoAppIndex banner closeBanner closeJourney creditHistory credits data deepview deepviewCta first getCode init link logout redeem referrals removeListener sendSMS setBranchViewData setIdentity track validateCode trackCommerceEvent logEvent\".split(\" \"), 0); branch.init(\\'key_live_ofxXr2qTrrU9NqURK8ZwEhknBxiI6KBm\\', {\\'no_journeys\\': true, \\'disable_exit_animation\\': true, \\'disable_entry_animation\\': true, \\'tracking_disabled\\':  false }, function(err, data) {});'"
      ]
     },
     "execution_count": 26,
     "metadata": {},
     "output_type": "execute_result"
    }
   ],
   "source": [
    "\n",
    "\n",
    "import urllib3,re\n",
    "http = urllib3.PoolManager()\n",
    "from bs4 import BeautifulSoup\n",
    "\n",
    "url = 'https://medium.com/@aakankshaws/using-beautifulsoup-requests-to-scrape-weather-data-9c6e9d317800'\n",
    "\n",
    "response = http.request('GET', url)\n",
    "html = response.data.decode('utf8')\n",
    "raw = BeautifulSoup(html, 'html.parser').get_text()\n",
    "raw\n",
    "\n",
    "\n",
    "\n",
    "# I just use regular expression instead of BeautifulSoup, which is a bit tricky:D"
   ]
  },
  {
   "cell_type": "code",
   "execution_count": 32,
   "metadata": {},
   "outputs": [
    {
     "data": {
      "text/plain": [
       "'HTTP'"
      ]
     },
     "execution_count": 32,
     "metadata": {},
     "output_type": "execute_result"
    }
   ],
   "source": [
    "high=(re.findall(r'HTTP', raw))"
   ]
  },
  {
   "cell_type": "code",
   "execution_count": null,
   "metadata": {},
   "outputs": [],
   "source": []
  },
  {
   "cell_type": "markdown",
   "metadata": {},
   "source": [
    "**21. Write a function ** `unknown()` ** that takes a URL as its argument, and returns a list of unknown words that occur on that webpage. In order to do this, extract all substrings consisting of lowercase letters (using ** `re.findall()` **) and remove any items from this set that occur in the Words Corpus ** `(nltk.corpus.words)` **. Try to categorize these words manually and discuss your findings.**"
   ]
  },
  {
   "cell_type": "code",
   "execution_count": null,
   "metadata": {},
   "outputs": [],
   "source": [
    "import nltk\n",
    "def unknown(url):\n",
    "    html = request.urlopen(url).read().decode('utf8')\n",
    "    lowers = re.findall(r'\\b[a-z]+', html)\n",
    "    unknowns = [w for w in lowers if w not in nltk.corpus.words.words()]\n",
    "    return unknowns\n",
    "\n",
    "unknown('https://en.wikipedia.org')\n",
    "# the function is quite slow..."
   ]
  },
  {
   "cell_type": "markdown",
   "metadata": {},
   "source": [
    "**22. Examine the results of processing the URL http://news.bbc.co.uk/ using the regular expressions suggested above. You will see that there is still a fair amount of non-textual data there, particularly Javascript commands. You may also find that sentence breaks have not been properly preserved. Define further regular expressions that improve the extraction of text from this web page.**"
   ]
  },
  {
   "cell_type": "code",
   "execution_count": 12,
   "metadata": {},
   "outputs": [
    {
     "ename": "FileNotFoundError",
     "evalue": "[Errno 2] No such file or directory: 'BBC.html'",
     "output_type": "error",
     "traceback": [
      "\u001b[1;31m---------------------------------------------------------------------------\u001b[0m",
      "\u001b[1;31mFileNotFoundError\u001b[0m                         Traceback (most recent call last)",
      "\u001b[1;32m<ipython-input-12-db5b95a177da>\u001b[0m in \u001b[0;36m<module>\u001b[1;34m\u001b[0m\n\u001b[1;32m----> 1\u001b[1;33m \u001b[0mfile\u001b[0m \u001b[1;33m=\u001b[0m \u001b[0mopen\u001b[0m\u001b[1;33m(\u001b[0m\u001b[1;34m'BBC.html'\u001b[0m\u001b[1;33m)\u001b[0m\u001b[1;33m.\u001b[0m\u001b[0mread\u001b[0m\u001b[1;33m(\u001b[0m\u001b[1;33m)\u001b[0m\u001b[1;33m\u001b[0m\u001b[0m\n\u001b[0m\u001b[0;32m      2\u001b[0m \u001b[1;31m# For the reason of GFW, BBC is not accessible now.\u001b[0m\u001b[1;33m\u001b[0m\u001b[1;33m\u001b[0m\u001b[0m\n\u001b[0;32m      3\u001b[0m \u001b[1;31m# I don't know how to set up proxy in Jupyter Notebook\u001b[0m\u001b[1;33m\u001b[0m\u001b[1;33m\u001b[0m\u001b[0m\n\u001b[0;32m      4\u001b[0m \u001b[1;31m# so I save HTML via safari and deal with the file instead.\u001b[0m\u001b[1;33m\u001b[0m\u001b[1;33m\u001b[0m\u001b[0m\n\u001b[0;32m      5\u001b[0m \u001b[1;33m\u001b[0m\u001b[0m\n",
      "\u001b[1;31mFileNotFoundError\u001b[0m: [Errno 2] No such file or directory: 'BBC.html'"
     ]
    }
   ],
   "source": [
    "file = open('BBC.html').read()         \n",
    "# For the reason of GFW, BBC is not accessible now. \n",
    "# I don't know how to set up proxy in Jupyter Notebook\n",
    "# so I save HTML via safari and deal with the file instead.\n",
    "\n",
    "lowers = re.findall(r'[a-z]+', file)\n",
    "unknowns = [w for w in lowers[:100] if w not in nltk.corpus.words.words()]\n",
    "# It's too costly to judge whether a word is in nltk's words corpus.\n",
    "# Therefore, I choose the first words \n",
    "unknowns"
   ]
  },
  {
   "cell_type": "markdown",
   "metadata": {},
   "source": [
    "**23. Are you able to write a regular expression to tokenize text in such a way that the word ** *don't* ** is tokenized into**  *do* ** and ** *n't* **? Explain why this regular expression won't work: ** `«n't|\\w+»` **.**"
   ]
  },
  {
   "cell_type": "code",
   "execution_count": 13,
   "metadata": {},
   "outputs": [],
   "source": [
    "pattern = r\"\\w+(?:'t)?\""
   ]
  },
  {
   "cell_type": "markdown",
   "metadata": {},
   "source": [
    "The regular expression would detect `don` first and leave out `'t`, which doesn't match the expression `n't` and `t` will be matched to `\\w+`."
   ]
  },
  {
   "cell_type": "markdown",
   "metadata": {},
   "source": [
    "**24. Try to write code to convert text into hAck3r, using regular expressions and substitution, where ** `e → 3, i → 1, o → 0, l → |, s → 5, . → 5w33t!, ate → 8` **. Normalize the text to lowercase before converting it. Add more substitutions of your own. Now try to map s to two different values: ** `$` ** for word-initial ** `s` **, and ** `5` ** for word-internal ** `s`**.**"
   ]
  },
  {
   "cell_type": "code",
   "execution_count": 14,
   "metadata": {},
   "outputs": [
    {
     "data": {
      "text/plain": [
       "'I 8 an app|3 y35t3rday 1n my (ar, $a1d by T0m5w33t!'"
      ]
     },
     "execution_count": 14,
     "metadata": {},
     "output_type": "execute_result"
    }
   ],
   "source": [
    "text = 'I ate an apple yesterday in my car, said by Tom.'\n",
    "\n",
    "# text = re.sub(pattern, repl, text)\n",
    "text = re.sub(r'ate', '8', text)        # ate -> 8, replace it first, or 'e' will be replaced\n",
    "text = re.sub(r'e', '3', text)          # e -> 3\n",
    "text = re.sub(r'i', '1', text)          # i -> 1\n",
    "text = re.sub(r'o', '0', text)          # o -> 0\n",
    "text = re.sub(r'l', '|', text)          # l -> |\n",
    "text = re.sub(r'\\.', '5w33t!', text)    # . -> 5w33t!\n",
    "\n",
    "text = re.sub(r'(\\b)(s)', r'\\1$', text)              # word-initial s\n",
    "text = re.sub(r'(\\w)(s)', r'\\g<1>5', text)           # word-internal s\n",
    "# reference: https://stackoverflow.com/questions/5984633/python-re-sub-group-number-after-number\n",
    "\n",
    "text = re.sub(r'g', '9', text)          # g -> 9\n",
    "text = re.sub(r'c', '(', text)          # c -> (\n",
    "text"
   ]
  },
  {
   "cell_type": "markdown",
   "metadata": {},
   "source": [
    "**25. ** *Pig Latin* ** is a simple transformation of English text. Each word of the text is converted as follows: move any consonant (or consonant cluster) that appears at the start of the word to the end, then append ** *ay* **, e.g.**  *string → ingstray*, *idle → idleay* **.  http://en.wikipedia.org/wiki/Pig_Latin**  \n",
    "a. **Write a function to convert a word to Pig Latin.**  \n",
    "b. **Write code that converts text, instead of individual words.**  \n",
    "c. **Extend it further to preserve capitalization, to keep ** `qu` ** together (i.e. so that ** `quiet` ** becomes ** `ietquay` **), and to detect when ** `y` ** is used as a consonant (e.g. ** `yellow` **) vs a vowel (e.g. ** `style` **).**"
   ]
  },
  {
   "cell_type": "code",
   "execution_count": 15,
   "metadata": {},
   "outputs": [
    {
     "data": {
      "text/plain": [
       "'ingstray'"
      ]
     },
     "execution_count": 15,
     "metadata": {},
     "output_type": "execute_result"
    }
   ],
   "source": [
    "def pig_latin_word(word):\n",
    "    pattern = r'\\b([^aeiou]*)(\\w*)'\n",
    "    repl = r'\\2\\1ay'\n",
    "    word = re.sub(pattern, repl, word)\n",
    "    # word += 'ay'\n",
    "    return word\n",
    "\n",
    "pig_latin_word('string')\n",
    "\n",
    "# word = 'idle'\n",
    "# word = re.sub(r'\\b([^aeiou]*)(\\w*)', r'\\2\\1', word)\n",
    "# word += 'ay'\n",
    "# word"
   ]
  },
  {
   "cell_type": "code",
   "execution_count": 16,
   "metadata": {},
   "outputs": [
    {
     "data": {
      "text/plain": [
       "'ingstray idleay'"
      ]
     },
     "execution_count": 16,
     "metadata": {},
     "output_type": "execute_result"
    }
   ],
   "source": [
    "def pig_latin_text(text):\n",
    "    pattern = r'\\b([b-df-hj-np-tv-z]*)(\\w*)\\b'\n",
    "    repl = r'\\2\\1ay'\n",
    "    text = re.sub(pattern, repl, text)\n",
    "    return text\n",
    "\n",
    "pig_latin_text('string idle')"
   ]
  },
  {
   "cell_type": "code",
   "execution_count": 17,
   "metadata": {},
   "outputs": [
    {
     "data": {
      "text/plain": [
       "'itequay IDLEay'"
      ]
     },
     "execution_count": 17,
     "metadata": {},
     "output_type": "execute_result"
    }
   ],
   "source": [
    "def pig_latin_extention(text):\n",
    "    # Well, 'Y' as the initial letter seems to be just consonant?\n",
    "    pattern = r'(?i)\\b(qu|[b-df-hj-np-tv-z]*)(\\w*)\\b'\n",
    "    repl = r'\\2\\1ay'\n",
    "    text = re.sub(pattern, repl, text)\n",
    "    return text\n",
    "\n",
    "pig_latin_extention('quite IDLE')"
   ]
  },
  {
   "cell_type": "markdown",
   "metadata": {},
   "source": [
    "**26. Download some text from a language that has vowel harmony (e.g. Hungarian), extract the vowel sequences of words, and create a vowel bigram table.**"
   ]
  },
  {
   "cell_type": "markdown",
   "metadata": {},
   "source": [
    "Omitted."
   ]
  },
  {
   "cell_type": "markdown",
   "metadata": {},
   "source": [
    "**27. Python's random module includes a function ** `choice()` ** which randomly chooses an item from a sequence, e.g. ** `choice(\"aehh \")` ** will produce one of four possible characters, with the letter ** `h` ** being twice as frequent as the others. Write a generator expression that produces a sequence of 500 randomly chosen letters drawn from the string ** `\"aehh \"` **, and put this expression inside a call to the ** `''.join()` ** function, to concatenate them into one long string. You should get a result that looks like uncontrolled sneezing or maniacal laughter: ** `he  haha ee  heheeh eha` **. Use ** `split()` ** and ** `join()` ** again to normalize the whitespace in this string.**"
   ]
  },
  {
   "cell_type": "code",
   "execution_count": 19,
   "metadata": {},
   "outputs": [
    {
     "data": {
      "text/plain": [
       "'aa ahaee hah hhehhh ahhheeh hheh ae eaahaaahaahehh e ahha ehhehaa hhhh hhheh ahhehh aeae aaehheea heeh hh hh e hhheahhheah ae aa hh haaaeeeh ahhheh hhaaahh h ehah hhehhhhe ahaha ehhheaea ehhhehehehheehe ae heeh aeah hhheh e a aahe h h hhhhhhae ehe h ahh e e ha aha hhe eah ah hahaaehaeh ehh aahehh h hh ee ehaa heheheh hhhh a hhheaheaehhhh a eeh heaehae hhahh aea hheeeaehehaaeahhhae hhe eah h hha ea hahh aahh ehha e h aahhhhh hahaaeeeaeahh hhhhhae a hahh ehhhh eeh hhah eaahahahh'"
      ]
     },
     "execution_count": 19,
     "metadata": {},
     "output_type": "execute_result"
    }
   ],
   "source": [
    "import random\n",
    "s = []\n",
    "for i in range(500):\n",
    "    s.append(random.choice(\"aehh \"))\n",
    "ori = ''.join(s)                     # the original form may contain multiple blank spaces at the same time\n",
    "' '.join(ori.split())                # normalize the whitespace"
   ]
  },
  {
   "cell_type": "markdown",
   "metadata": {},
   "source": [
    "**28. Consider the numeric expressions in the following sentence from the MedLine Corpus: ** *The corresponding free cortisol fractions in these sera were 4.53 +/- 0.15% and 8.16 +/- 0.23%, respectively.* ** Should we say that the numeric expression ** *4.53 +/- 0.15%* ** is three words? Or should we say that it's a single compound word? Or should we say that it is actually ** *nine* ** words, since it's read \"four point five three, plus or minus zero point fifteen percent\"? Or should we say that it's not a \"real\" word at all, since it wouldn't appear in any dictionary? Discuss these different possibilities. Can you think of application domains that motivate at least two of these answers?**"
   ]
  },
  {
   "cell_type": "markdown",
   "metadata": {},
   "source": [
    "Well, all the explanations are reasonable. But I don't understand why it is *nine*, shouldn't it be *eleven*?"
   ]
  },
  {
   "cell_type": "markdown",
   "metadata": {},
   "source": [
    "**29. Readability measures are used to score the reading difficulty of a text, for the purposes of selecting texts of appropriate difficulty for language learners. Let us define ** `μw` ** to be the average number of letters per word, and ** `μs` ** to be the average number of words per sentence, in a given text. The Automated Readability Index (ARI) of the text is defined to be: ** `4.71 μw + 0.5 μs - 21.43` **. Compute the ARI score for various sections of the Brown Corpus, including section ** `f`** (lore) and ** `j` ** (learned). Make use of the fact that ** `nltk.corpus.brown.words()` ** produces a sequence of words, while ** `nltk.corpus.brown.sents()` ** produces a sequence of sentences.**"
   ]
  },
  {
   "cell_type": "code",
   "execution_count": 21,
   "metadata": {},
   "outputs": [
    {
     "name": "stdout",
     "output_type": "stream",
     "text": [
      "adventure 4.0841684990890705\n",
      "belles_lettres 10.987652885621749\n",
      "editorial 9.471025332953673\n",
      "fiction 4.9104735321302115\n",
      "government 12.08430349501021\n",
      "hobbies 8.922356393630267\n",
      "humor 7.887805248319808\n",
      "learned 11.926007043317348\n",
      "lore 10.254756197101155\n",
      "mystery 3.8335518942055167\n",
      "news 10.176684595052684\n",
      "religion 10.203109907301261\n",
      "reviews 10.769699888473433\n",
      "romance 4.34922419804213\n",
      "science_fiction 4.978058336905399\n"
     ]
    }
   ],
   "source": [
    "from nltk.corpus import brown\n",
    "def miu_w(category):\n",
    "    word_length = sum(len(w) for w in brown.words(categories=category))\n",
    "    word_number = len(brown.words(categories=category))\n",
    "    return word_length / word_number\n",
    "\n",
    "def miu_s(category):\n",
    "    sent_length = sum(len(s) for s in brown.sents(categories=category))\n",
    "    sent_number = len(brown.sents(categories=category))\n",
    "    return sent_length / sent_number\n",
    "\n",
    "def ari(category):\n",
    "    return 4.71 * miu_w(category) + 0.5 * miu_s(category) - 21.43\n",
    "\n",
    "for category in brown.categories():\n",
    "    print(category, ari(category))"
   ]
  },
  {
   "cell_type": "markdown",
   "metadata": {},
   "source": [
    "**30. Use the Porter Stemmer to normalize some tokenized text, calling the stemmer on each word. Do the same thing with the Lancaster Stemmer and see if you observe any differences.**"
   ]
  },
  {
   "cell_type": "code",
   "execution_count": 31,
   "metadata": {},
   "outputs": [
    {
     "data": {
      "text/plain": [
       "['the',\n",
       " 'dawn',\n",
       " 'of',\n",
       " 'love',\n",
       " 'is',\n",
       " 'an',\n",
       " 'oil',\n",
       " 'paint',\n",
       " 'by',\n",
       " 'english',\n",
       " 'artist',\n",
       " 'william',\n",
       " 'etti',\n",
       " ',',\n",
       " 'first',\n",
       " 'exhibit',\n",
       " 'in',\n",
       " '1828',\n",
       " '.',\n",
       " 'loos',\n",
       " 'base',\n",
       " 'on',\n",
       " 'a',\n",
       " 'passag',\n",
       " 'from',\n",
       " 'john',\n",
       " 'milton',\n",
       " \"'s\",\n",
       " '1634',\n",
       " 'comu',\n",
       " ',',\n",
       " 'it',\n",
       " 'show',\n",
       " 'venu',\n",
       " 'lean',\n",
       " 'across',\n",
       " 'to',\n",
       " 'wake',\n",
       " 'the',\n",
       " 'sleep',\n",
       " 'love',\n",
       " 'by',\n",
       " 'stroke',\n",
       " 'hi',\n",
       " 'wing',\n",
       " '.',\n",
       " 'It',\n",
       " 'wa',\n",
       " 'veri',\n",
       " 'poorli',\n",
       " 'receiv',\n",
       " 'when',\n",
       " 'first',\n",
       " 'exhibit',\n",
       " ';',\n",
       " 'the',\n",
       " 'stylis',\n",
       " 'venu',\n",
       " 'wa',\n",
       " 'thought',\n",
       " 'unduli',\n",
       " 'influenc',\n",
       " 'by',\n",
       " 'foreign',\n",
       " 'artist',\n",
       " 'such',\n",
       " 'as',\n",
       " 'ruben',\n",
       " 'as',\n",
       " 'well',\n",
       " 'as',\n",
       " 'be',\n",
       " 'overli',\n",
       " 'voluptu',\n",
       " 'and',\n",
       " 'unrealist',\n",
       " 'colour',\n",
       " ',',\n",
       " 'while',\n",
       " 'the',\n",
       " 'paint',\n",
       " 'as',\n",
       " 'a',\n",
       " 'whole',\n",
       " 'wa',\n",
       " 'consid',\n",
       " 'tasteless',\n",
       " 'and',\n",
       " 'obscen',\n",
       " '.',\n",
       " 'the',\n",
       " 'dawn',\n",
       " 'of',\n",
       " 'love',\n",
       " 'wa',\n",
       " 'omit',\n",
       " 'from',\n",
       " 'the',\n",
       " 'major',\n",
       " '1849',\n",
       " 'retrospect',\n",
       " 'exhibit',\n",
       " 'of',\n",
       " 'etti',\n",
       " \"'s\",\n",
       " 'work',\n",
       " ',',\n",
       " 'and',\n",
       " 'it',\n",
       " 'exhibit',\n",
       " 'in',\n",
       " 'glasgow',\n",
       " 'in',\n",
       " '1899',\n",
       " 'drew',\n",
       " 'complaint',\n",
       " 'for',\n",
       " 'it',\n",
       " 'suppos',\n",
       " 'obscen',\n",
       " '.',\n",
       " 'In',\n",
       " '1889',\n",
       " 'it',\n",
       " 'wa',\n",
       " 'bought',\n",
       " 'by',\n",
       " 'merton',\n",
       " 'russell-cot',\n",
       " ',',\n",
       " 'and',\n",
       " 'ha',\n",
       " 'remain',\n",
       " 'in',\n",
       " 'the',\n",
       " 'collect',\n",
       " 'of',\n",
       " 'the',\n",
       " 'russell-cot',\n",
       " 'art',\n",
       " 'galleri',\n",
       " '&',\n",
       " 'museum',\n",
       " 'ever',\n",
       " 'sinc',\n",
       " '.']"
      ]
     },
     "execution_count": 31,
     "metadata": {},
     "output_type": "execute_result"
    }
   ],
   "source": [
    "\n",
    "import nltk\n",
    "from nltk import word_tokenize\n",
    "raw = \"\"\"THE Dawn of Love is an oil painting by English artist \n",
    "William Etty, first exhibited in 1828. Loosely based on a passage \n",
    "from John Milton's 1634 Comus, it shows Venus leaning across to \n",
    "wake the sleeping Love by stroking his wings. It was very poorly \n",
    "received when first exhibited; the stylised Venus was thought unduly \n",
    "influenced by foreign artists such as Rubens as well as being overly \n",
    "voluptuous and unrealistically coloured, while the painting as a whole \n",
    "was considered tasteless and obscene. The Dawn of Love was omitted \n",
    "from the major 1849 retrospective exhibition of Etty's works, and \n",
    "its exhibition in Glasgow in 1899 drew complaints for its supposed \n",
    "obscenity. In 1889 it was bought by Merton Russell-Cotes, and has \n",
    "remained in the collection of the Russell-Cotes Art Gallery & Museum ever since.\"\"\"\n",
    "# from Wikipedia 2018-08-08's featured article\n",
    "tokens = word_tokenize(raw)\n",
    "\n",
    "porter = nltk.PorterStemmer()\n",
    "lancaster = nltk.LancasterStemmer()\n",
    "\n",
    "porter_output = [porter.stem(t) for t in tokens] \n",
    "porter_output\n"
   ]
  },
  {
   "cell_type": "code",
   "execution_count": 32,
   "metadata": {},
   "outputs": [
    {
     "data": {
      "text/plain": [
       "['the',\n",
       " 'dawn',\n",
       " 'of',\n",
       " 'lov',\n",
       " 'is',\n",
       " 'an',\n",
       " 'oil',\n",
       " 'paint',\n",
       " 'by',\n",
       " 'engl',\n",
       " 'art',\n",
       " 'william',\n",
       " 'etty',\n",
       " ',',\n",
       " 'first',\n",
       " 'exhibit',\n",
       " 'in',\n",
       " '1828',\n",
       " '.',\n",
       " 'loos',\n",
       " 'bas',\n",
       " 'on',\n",
       " 'a',\n",
       " 'pass',\n",
       " 'from',\n",
       " 'john',\n",
       " 'milton',\n",
       " \"'s\",\n",
       " '1634',\n",
       " 'com',\n",
       " ',',\n",
       " 'it',\n",
       " 'show',\n",
       " 'ven',\n",
       " 'lean',\n",
       " 'across',\n",
       " 'to',\n",
       " 'wak',\n",
       " 'the',\n",
       " 'sleep',\n",
       " 'lov',\n",
       " 'by',\n",
       " 'stroking',\n",
       " 'his',\n",
       " 'wing',\n",
       " '.',\n",
       " 'it',\n",
       " 'was',\n",
       " 'very',\n",
       " 'poor',\n",
       " 'receiv',\n",
       " 'when',\n",
       " 'first',\n",
       " 'exhibit',\n",
       " ';',\n",
       " 'the',\n",
       " 'styl',\n",
       " 'ven',\n",
       " 'was',\n",
       " 'thought',\n",
       " 'undu',\n",
       " 'influ',\n",
       " 'by',\n",
       " 'foreign',\n",
       " 'art',\n",
       " 'such',\n",
       " 'as',\n",
       " 'rub',\n",
       " 'as',\n",
       " 'wel',\n",
       " 'as',\n",
       " 'being',\n",
       " 'ov',\n",
       " 'voluptu',\n",
       " 'and',\n",
       " 'unr',\n",
       " 'colo',\n",
       " ',',\n",
       " 'whil',\n",
       " 'the',\n",
       " 'paint',\n",
       " 'as',\n",
       " 'a',\n",
       " 'whol',\n",
       " 'was',\n",
       " 'consid',\n",
       " 'tasteless',\n",
       " 'and',\n",
       " 'obsc',\n",
       " '.',\n",
       " 'the',\n",
       " 'dawn',\n",
       " 'of',\n",
       " 'lov',\n",
       " 'was',\n",
       " 'omit',\n",
       " 'from',\n",
       " 'the',\n",
       " 'maj',\n",
       " '1849',\n",
       " 'retrospect',\n",
       " 'exhibit',\n",
       " 'of',\n",
       " 'etty',\n",
       " \"'s\",\n",
       " 'work',\n",
       " ',',\n",
       " 'and',\n",
       " 'it',\n",
       " 'exhibit',\n",
       " 'in',\n",
       " 'glasgow',\n",
       " 'in',\n",
       " '1899',\n",
       " 'drew',\n",
       " 'complaint',\n",
       " 'for',\n",
       " 'it',\n",
       " 'suppos',\n",
       " 'obsc',\n",
       " '.',\n",
       " 'in',\n",
       " '1889',\n",
       " 'it',\n",
       " 'was',\n",
       " 'bought',\n",
       " 'by',\n",
       " 'merton',\n",
       " 'russell-cotes',\n",
       " ',',\n",
       " 'and',\n",
       " 'has',\n",
       " 'remain',\n",
       " 'in',\n",
       " 'the',\n",
       " 'collect',\n",
       " 'of',\n",
       " 'the',\n",
       " 'russell-cotes',\n",
       " 'art',\n",
       " 'gallery',\n",
       " '&',\n",
       " 'muse',\n",
       " 'ev',\n",
       " 'sint',\n",
       " '.']"
      ]
     },
     "execution_count": 32,
     "metadata": {},
     "output_type": "execute_result"
    }
   ],
   "source": [
    "lancaster_output = [lancaster.stem(t) for t in tokens]\n",
    "lancaster_output"
   ]
  },
  {
   "cell_type": "markdown",
   "metadata": {},
   "source": [
    "**31. Define the variable saying to contain the list ** `['After', 'all', 'is', 'said', 'and', 'done', ',', 'more',\n",
    "'is', 'said', 'than', 'done', '.']` **. Process this list using a ** `for` ** loop, and store the length of each word in a new list lengths. Hint: begin by assigning the empty list to ** `lengths` **, using ** `lengths = []` **. Then each time through the loop, use ** `append()` ** to add another length value to the list. Now do the same thing using a list comprehension.**"
   ]
  },
  {
   "cell_type": "code",
   "execution_count": 33,
   "metadata": {},
   "outputs": [],
   "source": [
    "var = ['After', 'all', 'is', 'said', 'and', 'done', ',', 'more', 'is', 'said', 'than', 'done', '.']\n",
    "lengths = []\n",
    "\n",
    "for w in var:\n",
    "    lengths.append(len(w))"
   ]
  },
  {
   "cell_type": "code",
   "execution_count": 34,
   "metadata": {},
   "outputs": [],
   "source": [
    "lengths = [len(w) for w in var]"
   ]
  },
  {
   "cell_type": "markdown",
   "metadata": {},
   "source": [
    "**32. Define a variable ** `silly` ** to contain the string: ** 'newly formed bland ideas are inexpressible in an infuriating way' **. (This happens to be the legitimate interpretation that bilingual English-Spanish speakers can assign to Chomsky's famous nonsense phrase, colorless green ideas sleep furiously according to Wikipedia). Now write code to perform the following tasks:**  \n",
    "a. **Split ** `silly` ** into a list of strings, one per word, using Python's ** `split()` ** operation, and save this to a variable called ** `bland`.  \n",
    "b. **Extract the second letter of each word in ** `silly` ** and join them into a string, to get ** 'eoldrnnnna'.  \n",
    "c. **Combine the words in ** `bland` ** back into a single string, using ** `join()` **. Make sure the words in the resulting string are separated with whitespace.**  \n",
    "d. **Print the words of ** `silly` ** in alphabetical order, one per line.**"
   ]
  },
  {
   "cell_type": "code",
   "execution_count": 35,
   "metadata": {},
   "outputs": [
    {
     "name": "stdout",
     "output_type": "stream",
     "text": [
      "['an', 'are', 'bland', 'formed', 'ideas', 'in', 'inexpressible', 'infuriating', 'newly', 'way']\n"
     ]
    }
   ],
   "source": [
    "silly = 'newly formed bland ideas are inexpressible in an infuriating way'\n",
    "bland = silly.split()                 # a\n",
    "''.join(w[1] for w in bland)          # b\n",
    "' '.join(bland)                       # c\n",
    "print(sorted(bland))                  # d"
   ]
  },
  {
   "cell_type": "markdown",
   "metadata": {},
   "source": [
    "**33. The ** `index()` ** function can be used to look up items in sequences. For example, ** `'inexpressible'.index('e')` ** tells us the index of the first position of the letter ** `e`.  \n",
    "a. **What happens when you look up a substring, e.g. ** `'inexpressible'.index('re')` **?**  \n",
    "b. **Define a variable ** `words` ** containing a list of words. Now use ** `words.index()` ** to look up the position of an individual word.**  \n",
    "c. **Define a variable ** `silly` ** as in the exercise above. Use the ** `index()` ** function in combination with list slicing to build a list ** `phrase` ** consisting of all the words up to (but not including) ** `in` ** in silly.**"
   ]
  },
  {
   "cell_type": "code",
   "execution_count": 36,
   "metadata": {},
   "outputs": [
    {
     "data": {
      "text/plain": [
       "5"
      ]
     },
     "execution_count": 36,
     "metadata": {},
     "output_type": "execute_result"
    }
   ],
   "source": [
    "'inexpressible'.index('re')"
   ]
  },
  {
   "cell_type": "code",
   "execution_count": 37,
   "metadata": {},
   "outputs": [
    {
     "data": {
      "text/plain": [
       "2"
      ]
     },
     "execution_count": 37,
     "metadata": {},
     "output_type": "execute_result"
    }
   ],
   "source": [
    "words = ['a', 'list', 'of', 'words']\n",
    "words.index('of')"
   ]
  },
  {
   "cell_type": "code",
   "execution_count": 38,
   "metadata": {},
   "outputs": [
    {
     "data": {
      "text/plain": [
       "['newly', 'formed', 'bland', 'ideas', 'are', 'inexpressible']"
      ]
     },
     "execution_count": 38,
     "metadata": {},
     "output_type": "execute_result"
    }
   ],
   "source": [
    "phrase = bland[:bland.index('in')]             # use bland rather than silly here\n",
    "phrase"
   ]
  },
  {
   "cell_type": "markdown",
   "metadata": {},
   "source": [
    "**34. Write code to convert nationality adjectives like ** *Canadian* ** and ** *Australian* ** to their corresponding nouns ** *Canada* ** and ** *Australia* ** (see http://en.wikipedia.org/wiki/List_of_adjectival_forms_of_place_names).**"
   ]
  },
  {
   "cell_type": "code",
   "execution_count": 39,
   "metadata": {},
   "outputs": [
    {
     "data": {
      "text/plain": [
       "'Canada'"
      ]
     },
     "execution_count": 39,
     "metadata": {},
     "output_type": "execute_result"
    }
   ],
   "source": [
    "# the link should be\n",
    "# https://en.wikipedia.org/wiki/List_of_adjectival_and_demonymic_forms_for_countries_and_nations\n",
    "\n",
    "# Argentina - Argentinian\n",
    "# Australia - Australian\n",
    "# Austria - Austrian\n",
    "# to be finished...\n",
    "\n",
    "pattern = r'(\\w+)ian'\n",
    "repl = r'\\1a'\n",
    "re.sub(pattern, repl, 'Canadian')"
   ]
  },
  {
   "cell_type": "markdown",
   "metadata": {},
   "source": [
    "**35. Read the LanguageLog post on phrases of the form ** *as best as p can* ** and ** *as best p can* **, where ** *p* ** is a pronoun. Investigate this phenomenon with the help of a corpus and the ** `findall()` ** method for searching tokenized text described in 3.5. http://itre.cis.upenn.edu/~myl/languagelog/archives/002733.html**"
   ]
  },
  {
   "cell_type": "code",
   "execution_count": 40,
   "metadata": {},
   "outputs": [
    {
     "data": {
      "text/plain": [
       "['as best I can', 'as best as I can', 'As best as she can']"
      ]
     },
     "execution_count": 40,
     "metadata": {},
     "output_type": "execute_result"
    }
   ],
   "source": [
    "text = \"\"\" I wil straight dispose, as best I can, th'inferiour Magistrate ...\n",
    "And I haue thrust my selfe into this maze, Happily to wiue and thriue, as best I may ...\n",
    "In fine, my life is that of a great schoolboy, getting into scrapes for the fun of it,\n",
    "and fighting my way out as best as I can!\n",
    "As best as she can she hides herself in the full sunlight\n",
    "\"\"\"\n",
    "# text sample from the given url link\n",
    "re.findall(r'(?i)as best (?:as )?(?:I|we|you|he|she|they|it) can', text)"
   ]
  },
  {
   "cell_type": "markdown",
   "metadata": {},
   "source": [
    "**36. Study the ** *lolcat* ** version of the book of Genesis, accessible as ** `nltk.corpus.genesis.words('lolcat.txt')` **, and the rules for converting text into ** *lolspeak* ** at http://www.lolcatbible.com/index.php?title=How_to_speak_lolcat. Define regular expressions to convert English words into corresponding lolspeak words.**"
   ]
  },
  {
   "cell_type": "code",
   "execution_count": 41,
   "metadata": {},
   "outputs": [
    {
     "data": {
      "text/plain": [
       "'siet kiet dood ovah kitteh littel'"
      ]
     },
     "execution_count": 41,
     "metadata": {},
     "output_type": "execute_result"
    }
   ],
   "source": [
    "# nltk.corpus.genesis.words('lolcat.txt')\n",
    "text = 'sight kite dude over kitty little'\n",
    "# just implement some easy-to-check rules\n",
    "text = re.sub(r'ight', 'iet', text)                             # ight -> iet\n",
    "text = re.sub(r'\\bdude\\b', 'dood', text)                        # dude -> dood\n",
    "text = re.sub(r'([b-df-hj-np-tv-z])(e)\\b', r'\\2\\1', text)       # exchange the consonant and the endding 'e'\n",
    "text = re.sub(r'er\\b', 'ah', text)                              # -er -> -ah\n",
    "text = re.sub(r'y\\b', 'eh', text)                               # -y -> -eh\n",
    "text = re.sub(r'le\\b', 'el', text)                              # -le -> -el\n",
    "text"
   ]
  },
  {
   "cell_type": "markdown",
   "metadata": {},
   "source": [
    "**37. Read about the ** `re.sub()` ** function for string substitution using regular expressions, using ** `help(re.sub)` ** and by consulting the further readings for this chapter. Use ** `re.sub` ** in writing code to remove HTML tags from an HTML file, and to normalize whitespace.**"
   ]
  },
  {
   "cell_type": "code",
   "execution_count": 42,
   "metadata": {},
   "outputs": [
    {
     "ename": "FileNotFoundError",
     "evalue": "[Errno 2] No such file or directory: 'BBC.html'",
     "output_type": "error",
     "traceback": [
      "\u001b[1;31m---------------------------------------------------------------------------\u001b[0m",
      "\u001b[1;31mFileNotFoundError\u001b[0m                         Traceback (most recent call last)",
      "\u001b[1;32m<ipython-input-42-6f384c137d31>\u001b[0m in \u001b[0;36m<module>\u001b[1;34m\u001b[0m\n\u001b[1;32m----> 1\u001b[1;33m \u001b[0mfile\u001b[0m \u001b[1;33m=\u001b[0m \u001b[0mopen\u001b[0m\u001b[1;33m(\u001b[0m\u001b[1;34m'BBC.html'\u001b[0m\u001b[1;33m)\u001b[0m\u001b[1;33m.\u001b[0m\u001b[0mread\u001b[0m\u001b[1;33m(\u001b[0m\u001b[1;33m)\u001b[0m\u001b[1;33m\u001b[0m\u001b[0m\n\u001b[0m\u001b[0;32m      2\u001b[0m \u001b[0mfile\u001b[0m \u001b[1;33m=\u001b[0m \u001b[0mre\u001b[0m\u001b[1;33m.\u001b[0m\u001b[0msub\u001b[0m\u001b[1;33m(\u001b[0m\u001b[1;34mr'<.*>'\u001b[0m\u001b[1;33m,\u001b[0m \u001b[1;34m''\u001b[0m\u001b[1;33m,\u001b[0m \u001b[0mfile\u001b[0m\u001b[1;33m)\u001b[0m\u001b[1;33m\u001b[0m\u001b[0m\n\u001b[0;32m      3\u001b[0m \u001b[0mfile\u001b[0m \u001b[1;33m=\u001b[0m \u001b[0mre\u001b[0m\u001b[1;33m.\u001b[0m\u001b[0msub\u001b[0m\u001b[1;33m(\u001b[0m\u001b[1;34mr'\\s+'\u001b[0m\u001b[1;33m,\u001b[0m \u001b[1;34m' '\u001b[0m\u001b[1;33m,\u001b[0m \u001b[0mfile\u001b[0m\u001b[1;33m)\u001b[0m\u001b[1;33m\u001b[0m\u001b[0m\n",
      "\u001b[1;31mFileNotFoundError\u001b[0m: [Errno 2] No such file or directory: 'BBC.html'"
     ]
    }
   ],
   "source": [
    "file = open('BBC.html').read()\n",
    "file = re.sub(r'<.*>', '', file)\n",
    "file = re.sub(r'\\s+', ' ', file)"
   ]
  },
  {
   "cell_type": "markdown",
   "metadata": {},
   "source": [
    "**38. An interesting challenge for tokenization is words that have been split across a line-break. E.g. if ** *long-term* ** is split, then we have the string **  *long-\\nterm*.  \n",
    "a. **Write a regular expression that identifies words that are hyphenated at a line-break. The expression will need to include the ** `\\n` ** character.**  \n",
    "b. **Use ** `re.sub()` ** to remove the \\n character from these words.**  \n",
    "c. **How might you identify words that should not remain hyphenated once the newline is removed, e.g. ** 'encyclo-\\npedia'?"
   ]
  },
  {
   "cell_type": "code",
   "execution_count": 43,
   "metadata": {},
   "outputs": [
    {
     "data": {
      "text/plain": [
       "['long-\\nterm']"
      ]
     },
     "execution_count": 43,
     "metadata": {},
     "output_type": "execute_result"
    }
   ],
   "source": [
    "text = \"\"\"long-\n",
    "term\"\"\"\n",
    "pattern = r'\\w+-\\n\\w+'\n",
    "re.findall(pattern, text)"
   ]
  },
  {
   "cell_type": "code",
   "execution_count": 44,
   "metadata": {},
   "outputs": [
    {
     "data": {
      "text/plain": [
       "'long-term'"
      ]
     },
     "execution_count": 44,
     "metadata": {},
     "output_type": "execute_result"
    }
   ],
   "source": [
    "pattern = r'(\\w+-)(\\n)(\\w+)'\n",
    "re.findall(pattern, text)\n",
    "re.sub(pattern, r'\\1\\3', text)"
   ]
  },
  {
   "cell_type": "markdown",
   "metadata": {},
   "source": [
    "Check whether the hyphenated word is in the word corpus."
   ]
  },
  {
   "cell_type": "markdown",
   "metadata": {},
   "source": [
    "**39. Read the Wikipedia entry on ** *Soundex* **. Implement this algorithm in Python.**"
   ]
  },
  {
   "cell_type": "code",
   "execution_count": 45,
   "metadata": {},
   "outputs": [
    {
     "data": {
      "text/plain": [
       "'H555'"
      ]
     },
     "execution_count": 45,
     "metadata": {},
     "output_type": "execute_result"
    }
   ],
   "source": [
    "# https://en.wikipedia.org/wiki/Soundex\n",
    "# cumbersome implementation...\n",
    "def soundex(word):\n",
    "    word = word.upper()         # convert the word to upper case for convenience\n",
    "    \n",
    "    # Step 1: Retain the first letter\n",
    "    sound = word[0]\n",
    "\n",
    "    # Step 3: If two or more letters with the same number are adjacent \n",
    "    # in the original name (before step 1), only retain the first letter;\n",
    "    word = re.sub(r'([BFPV])[BFPV]', r'\\1', word)             # \n",
    "    word = re.sub(r'([CGJKQSXZ])[CGJKQSXZ]', r'\\1', word)\n",
    "    word = re.sub(r'([DT])[DT]', r'\\1', word)\n",
    "    word = re.sub(r'LL', r'L', word)\n",
    "    word = re.sub(r'([MN])[MN]', r'\\1', word)\n",
    "    word = re.sub(r'RR', r'R', word)\n",
    "    \n",
    "    # Step 3:  two letters with the same number separated by 'h' or 'w' are coded as a single number\n",
    "    word = re.sub(r'([BFPV])([HW])[BFPV]', r'\\1\\2', word)\n",
    "    word = re.sub(r'([CGJKQSXZ])([HW])[CGJKQSXZ]', r'\\1\\2', word)\n",
    "    word = re.sub(r'([DT])([HW])[DT]', r'\\1\\2', word)\n",
    "    word = re.sub(r'L([HW])L', r'L\\1', word)\n",
    "    word = re.sub(r'([MN])([HW])[MN]', r'\\1\\2', word)\n",
    "    word = re.sub(r'R([HW])R', r'R\\1', word)\n",
    "    \n",
    "    # Replace consonants with digits as follows (after the first letter)\n",
    "    word = re.sub(r'[AEIOUYHW]', r'', word)\n",
    "    word = re.sub(r'[BFPV]', '1', word)\n",
    "    word = re.sub(r'[CGJKQSXZ]', '2', word)\n",
    "    word = re.sub(r'[DT]', '3', word)\n",
    "    word = re.sub(r'L', '4', word)\n",
    "    word = re.sub(r'[MN]', '5', word)\n",
    "    word = re.sub(r'R', '6', word)\n",
    "    \n",
    "    # Step 4: If you have too few letters in your word that you can't assign three numbers, \n",
    "    # append with zeros until there are three numbers. If you have more than 3 letters, \n",
    "    # just retain the first 3 numbers.\n",
    "    if sound in 'AEIOUYHW':\n",
    "        sound = (sound + word + '000')[:4]\n",
    "    else:\n",
    "        sound = (sound + word[1:] + '000')[:4]\n",
    "    return sound\n",
    "\n",
    "soundex('Honeyman')"
   ]
  },
  {
   "cell_type": "markdown",
   "metadata": {},
   "source": [
    "**40. Obtain raw texts from two or more genres and compute their respective reading difficulty scores as in the earlier exercise on reading difficulty. E.g. compare ABC Rural News and ABC Science News (** `nltk.corpus.abc` **). Use Punkt to perform sentence segmentation.**"
   ]
  },
  {
   "cell_type": "code",
   "execution_count": 46,
   "metadata": {},
   "outputs": [
    {
     "name": "stdout",
     "output_type": "stream",
     "text": [
      "10.66074843699441\n",
      "10.703963706930097\n"
     ]
    }
   ],
   "source": [
    "# nltk.corpus.abc.fileids()\n",
    "\n",
    "def ari(fileid):\n",
    "    words = nltk.corpus.abc.words(fileids=fileid)\n",
    "    \n",
    "    text = nltk.corpus.abc.raw(fileids=fileid)\n",
    "    sents = nltk.sent_tokenize(text)\n",
    "    \n",
    "    word_number = len(words)\n",
    "    word_length = sum(len(w) for w in words)\n",
    "    miu_w = word_length / word_number\n",
    "\n",
    "    sent_length = sum(len(s.split()) for s in sents)\n",
    "    sent_number = len(sents)\n",
    "    miu_s = sent_length / sent_number\n",
    "    \n",
    "    ari = 4.71 * miu_w + 0.5 * miu_s - 21.43\n",
    "    return ari\n",
    "print(ari('rural.txt'))\n",
    "print(ari('science.txt'))"
   ]
  },
  {
   "cell_type": "markdown",
   "metadata": {},
   "source": [
    "**41. Rewrite the following nested loop as a nested list comprehension:**  \n",
    "```Python\n",
    ">>> words = ['attribution', 'confabulation', 'elocution',\n",
    "...          'sequoia', 'tenacious', 'unidirectional']\n",
    ">>> vsequences = set()\n",
    ">>> for word in words:\n",
    "...     vowels = []\n",
    "...     for char in word:\n",
    "...         if char in 'aeiou':\n",
    "...             vowels.append(char)\n",
    "...     vsequences.add(''.join(vowels))\n",
    ">>> sorted(vsequences)\n",
    "['aiuio', 'eaiou', 'eouio', 'euoia', 'oauaio', 'uiieioa']\n",
    "```"
   ]
  },
  {
   "cell_type": "code",
   "execution_count": 47,
   "metadata": {},
   "outputs": [
    {
     "data": {
      "text/plain": [
       "['aiuio', 'eaiou', 'eouio', 'euoia', 'oauaio', 'uiieioa']"
      ]
     },
     "execution_count": 47,
     "metadata": {},
     "output_type": "execute_result"
    }
   ],
   "source": [
    "words = ['attribution', 'confabulation', 'elocution', 'sequoia', 'tenacious', 'unidirectional']\n",
    "vsequences = [''.join(re.findall(r'[aeiou]', v)) for v in words]\n",
    "sorted(vsequences)"
   ]
  },
  {
   "cell_type": "markdown",
   "metadata": {},
   "source": [
    "**42. Use WordNet to create a semantic index for a text collection. Extend the concordance search program in 3.6, indexing each word using the offset of its first synset, e.g. ** `wn.synsets('dog')[0].offset` ** (and optionally the offset of some of its ancestors in the hypernym hierarchy).**"
   ]
  },
  {
   "cell_type": "code",
   "execution_count": 49,
   "metadata": {},
   "outputs": [
    {
     "ename": "ModuleNotFoundError",
     "evalue": "No module named 'wn'",
     "output_type": "error",
     "traceback": [
      "\u001b[1;31m---------------------------------------------------------------------------\u001b[0m",
      "\u001b[1;31mModuleNotFoundError\u001b[0m                       Traceback (most recent call last)",
      "\u001b[1;32m<ipython-input-49-1b88f7586629>\u001b[0m in \u001b[0;36m<module>\u001b[1;34m\u001b[0m\n\u001b[1;32m----> 1\u001b[1;33m \u001b[1;32mimport\u001b[0m \u001b[0mwn\u001b[0m\u001b[1;33m\u001b[0m\u001b[0m\n\u001b[0m\u001b[0;32m      2\u001b[0m \u001b[1;32mclass\u001b[0m \u001b[0mIndexedText\u001b[0m\u001b[1;33m(\u001b[0m\u001b[0mobject\u001b[0m\u001b[1;33m)\u001b[0m\u001b[1;33m:\u001b[0m\u001b[1;33m\u001b[0m\u001b[0m\n\u001b[0;32m      3\u001b[0m \u001b[1;33m\u001b[0m\u001b[0m\n\u001b[0;32m      4\u001b[0m     \u001b[1;32mdef\u001b[0m \u001b[0m__init__\u001b[0m\u001b[1;33m(\u001b[0m\u001b[0mself\u001b[0m\u001b[1;33m,\u001b[0m \u001b[0mstemmer\u001b[0m\u001b[1;33m,\u001b[0m \u001b[0mtext\u001b[0m\u001b[1;33m)\u001b[0m\u001b[1;33m:\u001b[0m\u001b[1;33m\u001b[0m\u001b[0m\n\u001b[0;32m      5\u001b[0m         \u001b[0mself\u001b[0m\u001b[1;33m.\u001b[0m\u001b[0m_text\u001b[0m \u001b[1;33m=\u001b[0m \u001b[0mtext\u001b[0m\u001b[1;33m\u001b[0m\u001b[0m\n",
      "\u001b[1;31mModuleNotFoundError\u001b[0m: No module named 'wn'"
     ]
    }
   ],
   "source": [
    "class IndexedText(object):\n",
    "\n",
    "    def __init__(self, stemmer, text):\n",
    "        self._text = text\n",
    "        self._stemmer = stemmer\n",
    "        # self._index = nltk.Index((self._stem(word), i)\n",
    "        #                          for (i, word) in enumerate(text))\n",
    "        self._index = nltk.Index((wn.synsets(self._stem(word))[0].offset(), i)\n",
    "                                 for (i, word) in enumerate(text) \n",
    "                                 if wn.synsets(self._stem(word)) != [])     # to avoid list index out of range\n",
    "        \n",
    "        # basic idea: use WordNet's offset as the word's key rather than the word itself\n",
    "        \n",
    "    def concordance(self, word, width=40):\n",
    "        key = wn.synsets(self._stem(word))[0].offset()\n",
    "        wc = int(width/4)                # words of context\n",
    "        for i in self._index[key]:\n",
    "            lcontext = ' '.join(self._text[i-wc:i])\n",
    "            rcontext = ' '.join(self._text[i:i+wc])\n",
    "            ldisplay = '{:>{width}}'.format(lcontext[-width:], width=width)\n",
    "            rdisplay = '{:{width}}'.format(rcontext[:width], width=width)\n",
    "            print(ldisplay, rdisplay)\n",
    "\n",
    "    def _stem(self, word):\n",
    "        return self._stemmer.stem(word).lower()\n",
    "    \n",
    "porter = nltk.PorterStemmer()\n",
    "grail = nltk.corpus.webtext.words('grail.txt')\n",
    "text = IndexedText(porter, grail)\n",
    "text.concordance('women')"
   ]
  },
  {
   "cell_type": "markdown",
   "metadata": {},
   "source": [
    "**43. With the help of a multilingual corpus such as the Universal Declaration of Human Rights Corpus (** `nltk.corpus.udhr` **), and NLTK's frequency distribution and rank correlation functionality (** `nltk.FreqDist`, `nltk.spearman_correlation` **), develop a system that guesses the language of a previously unseen text. For simplicity, work with a single character encoding and just a few languages.**"
   ]
  },
  {
   "cell_type": "code",
   "execution_count": 50,
   "metadata": {},
   "outputs": [
    {
     "name": "stdout",
     "output_type": "stream",
     "text": [
      "English-Latin1\n",
      "French_Francais-Latin1\n",
      "German_Deutsch-Latin1\n",
      "Italian-Latin1\n",
      "Spanish-Latin1\n"
     ]
    }
   ],
   "source": [
    "def guess_language(text):\n",
    "    candidate_language = ['English-Latin1', 'French_Francais-Latin1', \n",
    "                          'German_Deutsch-Latin1', 'Italian-Latin1', 'Spanish-Latin1']\n",
    "\n",
    "    fdist = nltk.FreqDist(lang for lang in candidate_language\n",
    "                               for w in text if w in nltk.corpus.udhr.words(lang))\n",
    "    return fdist\n",
    "\n",
    "# well, I just don't want to show the text in multiple lines since the words doesn't matter\n",
    "text_english = \"Wikipedia is a project dedicated to the building of free encyclopedias in all languages of the world. The project started with the English-language Wikipedia on January 15, 2001. On March 23, 2001 it was joined by a French Wikipedia, and shortly afterwards by many other languages. Large efforts are underway to highlight the international nature of the project. On 20 September 2004 Wikipedia reached a total of 1,000,000 articles in over 100 languages.\".split()\n",
    "text_french = \"Wikipédia Écouter est un projet d'encyclopédie universelle, multilingue, créé par Jimmy Wales et Larry Sanger le 15 janvier 2001 en wiki sous le nom de domaine wikipedia.org. Les versions des différentes langues utilisent le même logiciel de publication, MediaWiki, et ont la même apparence, mais elles comportent des variations dans leurs contenus, leurs structures et leurs modalités d'édition et de gestion.\".split()\n",
    "text_german = \"Wikipedia ist ein am 15. Januar 2001 gegründetes gemeinnütziges Projekt zur Erstellung einer Enzyklopädie in zahlreichen Sprachen mit Hilfe des Wiki­prinzips. Gemäß Publikumsnachfrage und Verbreitung gehört Wikipedia unterdessen zu den Massenmedien. Aufgrund der für die Entstehung und Weiterentwicklung dieser Enzyklopädie charakteristischen kollaborativen Erstellungs-, Kontroll- und Aushandlungsprozesse der ehrenamtlichen Beteiligten zählt Wikipedia zugleich zu den Social Media.\".split()\n",
    "text_italian = \"Wikipedia (pronuncia: vedi sotto) è un'enciclopedia online a contenuto libero, collaborativa, multilingue e gratuita, nata nel 2001, sostenuta e ospitata dalla Wikimedia Foundation, un'organizzazione non a scopo di lucro statunitense. Lanciata da Jimmy Wales e Larry Sanger il 15 gennaio 2001, inizialmente nell'edizione in lingua inglese, nei mesi successivi ha aggiunto edizioni in numerose altre lingue. Sanger ne suggerì il nome,[1] una parola macedonia nata dall'unione della radice wiki al suffisso pedia (da enciclopedia).\".split()\n",
    "text_spanish = \"Wikipedia es una enciclopedia libre, políglota y editada de manera colaborativa. Es administrada por la Fundación Wikimedia, una organización sin ánimo de lucro cuya financiación está basada en donaciones. Sus más de 46 millones de artículos en 288 idiomas han sido redactados conjuntamente por voluntarios de todo el mundo, lo que hace un total de más de 2000 millones de ediciones, y prácticamente cualquier persona con acceso al proyecto6​ puede editarlos, salvo que la página se encuentre protegida contra vandalismos para evitar problemas y/o trifulcas.\".split()\n",
    "\n",
    "print(guess_language(text_english).max())\n",
    "print(guess_language(text_french).max())\n",
    "print(guess_language(text_german).max())\n",
    "print(guess_language(text_italian).max())\n",
    "print(guess_language(text_spanish).max())\n",
    "\n",
    "# I don't know how to use rank correlation functionality :("
   ]
  },
  {
   "cell_type": "markdown",
   "metadata": {},
   "source": [
    "**44. Write a program that processes a text and discovers cases where a word has been used with a novel sense. For each word, compute the WordNet similarity between all synsets of the word and all synsets of the words in its context. (Note that this is a crude approach; doing it well is a difficult, open research problem.)**"
   ]
  },
  {
   "cell_type": "code",
   "execution_count": 51,
   "metadata": {},
   "outputs": [],
   "source": [
    "def novel_sense(text):\n",
    "    for word in text:\n",
    "        all_synsets = wn.synsets(word)\n",
    "        context_synsets = []\n",
    "        for other_word in text:\n",
    "            for synset in all_synsets:\n",
    "                if other_word in synsest:\n",
    "                    context_synsets.append(synset)\n",
    "        # after this I don't know what to do...\n",
    "        # for s1 in all_synsets:\n",
    "        #     for s2 in context_synsets:\n",
    "        #         s1.path_similarity(s2)        ?"
   ]
  },
  {
   "cell_type": "markdown",
   "metadata": {},
   "source": [
    "**45. Read the article on normalization of non-standard words (Sproat et al, 2001), and implement a similar system for text normalization.**"
   ]
  },
  {
   "cell_type": "code",
   "execution_count": 52,
   "metadata": {},
   "outputs": [],
   "source": [
    "# paper link:\n",
    "# http://citeseerx.ist.psu.edu/viewdoc/download?doi=10.1.1.228.200&rep=rep1&type=pdf\n",
    "\n",
    "# well, I don't have much time reading such a paper now."
   ]
  },
  {
   "cell_type": "code",
   "execution_count": null,
   "metadata": {},
   "outputs": [],
   "source": []
  }
 ],
 "metadata": {
  "kernelspec": {
   "display_name": "Python 3",
   "language": "python",
   "name": "python3"
  },
  "language_info": {
   "codemirror_mode": {
    "name": "ipython",
    "version": 3
   },
   "file_extension": ".py",
   "mimetype": "text/x-python",
   "name": "python",
   "nbconvert_exporter": "python",
   "pygments_lexer": "ipython3",
   "version": "3.6.0"
  }
 },
 "nbformat": 4,
 "nbformat_minor": 2
}
